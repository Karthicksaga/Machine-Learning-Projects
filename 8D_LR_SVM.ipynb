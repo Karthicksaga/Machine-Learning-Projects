{
 "cells": [
  {
   "cell_type": "markdown",
   "metadata": {
    "colab_type": "text",
    "id": "86Tvnj5UblTy"
   },
   "source": [
    "## Task-D: Collinear features and their effect on linear models"
   ]
  },
  {
   "cell_type": "code",
   "execution_count": 1,
   "metadata": {
    "colab": {},
    "colab_type": "code",
    "id": "qn_eOn2EblT3"
   },
   "outputs": [],
   "source": [
    "%matplotlib inline\n",
    "import warnings\n",
    "warnings.filterwarnings(\"ignore\")\n",
    "import pandas as pd\n",
    "import numpy as np\n",
    "from sklearn.datasets import load_iris\n",
    "from sklearn.linear_model import SGDClassifier\n",
    "from sklearn.model_selection import GridSearchCV\n",
    "import seaborn as sns\n",
    "from sklearn.linear_model import LogisticRegression\n",
    "import matplotlib.pyplot as plt"
   ]
  },
  {
   "cell_type": "code",
   "execution_count": 2,
   "metadata": {
    "colab": {},
    "colab_type": "code",
    "id": "VMoYWIayblUB"
   },
   "outputs": [],
   "source": [
    "data = pd.read_csv('task_d.csv')"
   ]
  },
  {
   "cell_type": "code",
   "execution_count": 3,
   "metadata": {
    "colab": {},
    "colab_type": "code",
    "id": "RfStXG4tblUI",
    "outputId": "ddf4eec6-7f53-4d28-914f-23133957d6d5",
    "scrolled": true
   },
   "outputs": [
    {
     "data": {
      "text/html": [
       "<div>\n",
       "<style scoped>\n",
       "    .dataframe tbody tr th:only-of-type {\n",
       "        vertical-align: middle;\n",
       "    }\n",
       "\n",
       "    .dataframe tbody tr th {\n",
       "        vertical-align: top;\n",
       "    }\n",
       "\n",
       "    .dataframe thead th {\n",
       "        text-align: right;\n",
       "    }\n",
       "</style>\n",
       "<table border=\"1\" class=\"dataframe\">\n",
       "  <thead>\n",
       "    <tr style=\"text-align: right;\">\n",
       "      <th></th>\n",
       "      <th>x</th>\n",
       "      <th>y</th>\n",
       "      <th>z</th>\n",
       "      <th>x*x</th>\n",
       "      <th>2*y</th>\n",
       "      <th>2*z+3*x*x</th>\n",
       "      <th>w</th>\n",
       "      <th>target</th>\n",
       "    </tr>\n",
       "  </thead>\n",
       "  <tbody>\n",
       "    <tr>\n",
       "      <th>0</th>\n",
       "      <td>-0.581066</td>\n",
       "      <td>0.841837</td>\n",
       "      <td>-1.012978</td>\n",
       "      <td>-0.604025</td>\n",
       "      <td>0.841837</td>\n",
       "      <td>-0.665927</td>\n",
       "      <td>-0.536277</td>\n",
       "      <td>0</td>\n",
       "    </tr>\n",
       "    <tr>\n",
       "      <th>1</th>\n",
       "      <td>-0.894309</td>\n",
       "      <td>-0.207835</td>\n",
       "      <td>-1.012978</td>\n",
       "      <td>-0.883052</td>\n",
       "      <td>-0.207835</td>\n",
       "      <td>-0.917054</td>\n",
       "      <td>-0.522364</td>\n",
       "      <td>0</td>\n",
       "    </tr>\n",
       "    <tr>\n",
       "      <th>2</th>\n",
       "      <td>-1.207552</td>\n",
       "      <td>0.212034</td>\n",
       "      <td>-1.082312</td>\n",
       "      <td>-1.150918</td>\n",
       "      <td>0.212034</td>\n",
       "      <td>-1.166507</td>\n",
       "      <td>0.205738</td>\n",
       "      <td>0</td>\n",
       "    </tr>\n",
       "    <tr>\n",
       "      <th>3</th>\n",
       "      <td>-1.364174</td>\n",
       "      <td>0.002099</td>\n",
       "      <td>-0.943643</td>\n",
       "      <td>-1.280666</td>\n",
       "      <td>0.002099</td>\n",
       "      <td>-1.266540</td>\n",
       "      <td>-0.665720</td>\n",
       "      <td>0</td>\n",
       "    </tr>\n",
       "    <tr>\n",
       "      <th>4</th>\n",
       "      <td>-0.737687</td>\n",
       "      <td>1.051772</td>\n",
       "      <td>-1.012978</td>\n",
       "      <td>-0.744934</td>\n",
       "      <td>1.051772</td>\n",
       "      <td>-0.792746</td>\n",
       "      <td>-0.735054</td>\n",
       "      <td>0</td>\n",
       "    </tr>\n",
       "  </tbody>\n",
       "</table>\n",
       "</div>"
      ],
      "text/plain": [
       "          x         y         z       x*x       2*y  2*z+3*x*x         w  \\\n",
       "0 -0.581066  0.841837 -1.012978 -0.604025  0.841837  -0.665927 -0.536277   \n",
       "1 -0.894309 -0.207835 -1.012978 -0.883052 -0.207835  -0.917054 -0.522364   \n",
       "2 -1.207552  0.212034 -1.082312 -1.150918  0.212034  -1.166507  0.205738   \n",
       "3 -1.364174  0.002099 -0.943643 -1.280666  0.002099  -1.266540 -0.665720   \n",
       "4 -0.737687  1.051772 -1.012978 -0.744934  1.051772  -0.792746 -0.735054   \n",
       "\n",
       "   target  \n",
       "0       0  \n",
       "1       0  \n",
       "2       0  \n",
       "3       0  \n",
       "4       0  "
      ]
     },
     "execution_count": 3,
     "metadata": {},
     "output_type": "execute_result"
    }
   ],
   "source": [
    "data.head()"
   ]
  },
  {
   "cell_type": "code",
   "execution_count": 4,
   "metadata": {},
   "outputs": [
    {
     "data": {
      "text/plain": [
       "(100, 8)"
      ]
     },
     "execution_count": 4,
     "metadata": {},
     "output_type": "execute_result"
    }
   ],
   "source": [
    "data.shape"
   ]
  },
  {
   "cell_type": "code",
   "execution_count": 5,
   "metadata": {
    "colab": {},
    "colab_type": "code",
    "id": "JIIuomCkblUP"
   },
   "outputs": [],
   "source": [
    "X = data.drop(['target'], axis=1).values\n",
    "Y = data['target'].values"
   ]
  },
  {
   "cell_type": "markdown",
   "metadata": {
    "colab_type": "text",
    "id": "Ydm98u3EblUU"
   },
   "source": [
    "### Doing perturbation test to check the presence of collinearity  \n",
    "\n",
    "#### Task: 1 Logistic Regression\n",
    "<pre>\n",
    "\n",
    "\n",
    "1. <b>Finding the Correlation between the features</b>\n",
    "    a. check the correlation between the features\n",
    "    b. plot heat map of correlation matrix using seaborn heatmap\n",
    "2. <b>Finding the best model for the given data</b>\n",
    "    a. Train Logistic regression on data(X,Y) that we have created in the above cell\n",
    "    b. Find the best hyper prameter alpha with hyper parameter tuning using k-fold cross validation (grid search CV or         \n",
    "    random search CV make sure you choose the alpha in log space)\n",
    "    c. Creat a new Logistic regression with the best alpha\n",
    "    (search for how to get the best hyper parameter value), name the best model as 'best_model'\n",
    "    \n",
    "3. <b>Getting the weights with the original data</b>\n",
    "    a. train the 'best_model' with X, Y\n",
    "    b. Check the accuracy of the model 'best_model_accuracy'\n",
    "    c. Get the weights W using best_model.coef_\n",
    "\n",
    "4. <b>Modifying original data</b>\n",
    "    a. Add a noise(order of 10^-2) to each element of X \n",
    "    and get the new data set X' (X' = X + e)\n",
    "    b. Train the same 'best_model' with data (X', Y)\n",
    "    c. Check the accuracy of the model 'best_model_accuracy_edited'\n",
    "    d. Get the weights W' using best_model.coef_\n",
    "    \n",
    "5. <b> Checking deviations in metric and weights </b>\n",
    "    a. find the difference between 'best_model_accuracy_edited' and 'best_model_accuracy'\n",
    "    b. find the absolute change between each value of W and W' ==> |(W-W')|\n",
    "    c. print the top 4 features which have higher % change in weights \n",
    "    compare to the other feature\n",
    "\n",
    "</pre>\n",
    "\n",
    "#### Task: 2 Linear SVM\n",
    "\n",
    "<pre>\n",
    "1. Do the same steps (2, 3, 4, 5) we have done in the above task 1.\n",
    "</pre>\n",
    "\n",
    "<strong><font color='red'>Do write the observations based on the results you get from the deviations of weights in both Logistic Regression and linear SVM</font></strong>"
   ]
  },
  {
   "cell_type": "markdown",
   "metadata": {},
   "source": [
    "# Correlation of the Features"
   ]
  },
  {
   "cell_type": "code",
   "execution_count": 6,
   "metadata": {},
   "outputs": [
    {
     "name": "stdout",
     "output_type": "stream",
     "text": [
      "Correlation Between the Features\n",
      "                  x         y         z       x*x       2*y  2*z+3*x*x  \\\n",
      "x          1.000000 -0.205926  0.812458  0.997947 -0.205926   0.996252   \n",
      "y         -0.205926  1.000000 -0.602663 -0.209289  1.000000  -0.261123   \n",
      "z          0.812458 -0.602663  1.000000  0.807137 -0.602663   0.847163   \n",
      "x*x        0.997947 -0.209289  0.807137  1.000000 -0.209289   0.997457   \n",
      "2*y       -0.205926  1.000000 -0.602663 -0.209289  1.000000  -0.261123   \n",
      "2*z+3*x*x  0.996252 -0.261123  0.847163  0.997457 -0.261123   1.000000   \n",
      "w          0.583277 -0.401790  0.674486  0.583803 -0.401790   0.606860   \n",
      "\n",
      "                  w  \n",
      "x          0.583277  \n",
      "y         -0.401790  \n",
      "z          0.674486  \n",
      "x*x        0.583803  \n",
      "2*y       -0.401790  \n",
      "2*z+3*x*x  0.606860  \n",
      "w          1.000000  \n"
     ]
    }
   ],
   "source": [
    "print(\"Correlation Between the Features\")\n",
    "print(data.drop(columns = ['target'] , axis = 1).corr())"
   ]
  },
  {
   "cell_type": "code",
   "execution_count": 7,
   "metadata": {},
   "outputs": [
    {
     "data": {
      "image/png": "[encoded data removed]",
      "text/plain": [
       "<Figure size 720x576 with 2 Axes>"
      ]
     },
     "metadata": {
      "needs_background": "light"
     },
     "output_type": "display_data"
    }
   ],
   "source": [
    "data_corr = data.drop(columns = ['target'],axis = 1)\n",
    "plt.figure(figsize = (10,8))\n",
    "sns.heatmap(data_corr.corr(),annot = True)\n",
    "plt.title(\"Correlation Between the Features\")\n",
    "plt.show()"
   ]
  },
  {
   "cell_type": "markdown",
   "metadata": {},
   "source": [
    "# Observation "
   ]
  },
  {
   "cell_type": "markdown",
   "metadata": {},
   "source": [
    "Correlation tells about how close two variables are to having a linear relationship with each other\n",
    "\n",
    "Correlation is lies in the range between (-1,1)\n",
    "\n",
    "1.-1 is represented as negative Corelated,Value 1 Represented as Posively Correlated and 0 represented as No relation\n",
    "2.We can Observe the heatmap the feature X is Highly Correlated with Features X*X, 2*z+3*x*x and w\n",
    "3.If the two Varible is highly Correlated means these features are Dependent to each other.While Build a model this feture \n",
    "the same,while build a model we can remove the highgly correlated feature,These features doing the same jobs build a model,\n",
    "if we remove the features not affect our model features"
   ]
  },
  {
   "cell_type": "markdown",
   "metadata": {},
   "source": [
    "##  2 . Finding the best model for the given data"
   ]
  },
  {
   "cell_type": "code",
   "execution_count": 8,
   "metadata": {
    "colab": {},
    "colab_type": "code",
    "id": "Lai8wXU1pmSb"
   },
   "outputs": [],
   "source": [
    "#hyperparamter tuning\n",
    "#https://scikit-learn.org/stable/modules/generated/sklearn.linear_model.LogisticRegression.html\n",
    "penalty = ['l2']\n",
    "c = np.logspace(-4,4,5)\n",
    "model = LogisticRegression()\n",
    "grid = dict(penalty=penalty,C=c)\n",
    "grid_search = GridSearchCV(estimator=model, param_grid=grid, n_jobs=-1, cv=10, scoring='accuracy',error_score=0)\n",
    "grid_result = grid_search.fit(X, Y)"
   ]
  },
  {
   "cell_type": "code",
   "execution_count": 9,
   "metadata": {
    "scrolled": true
   },
   "outputs": [
    {
     "data": {
      "text/plain": [
       "array([1.e-04, 1.e-02, 1.e+00, 1.e+02, 1.e+04])"
      ]
     },
     "execution_count": 9,
     "metadata": {},
     "output_type": "execute_result"
    }
   ],
   "source": [
    "np.logspace(-4,4,5)"
   ]
  },
  {
   "cell_type": "code",
   "execution_count": 10,
   "metadata": {},
   "outputs": [
    {
     "name": "stdout",
     "output_type": "stream",
     "text": [
      "best Param : {'C': 0.0001, 'penalty': 'l2'}\n",
      "Weight : [ 0.0035963  -0.00341973  0.00479983  0.00355269 -0.00341973  0.00377695\n",
      "  0.00316971]\n",
      "Intercept : 9.096934797740206e-10\n"
     ]
    }
   ],
   "source": [
    "print(\"best Param : {0}\".format(grid_result.best_params_))\n",
    "best_alpha = 0.0001\n",
    "best_model = LogisticRegression(C = best_alpha, penalty = 'l2')\n",
    "#train the model\n",
    "logistic_best = best_model.fit(X,Y)\n",
    "weight = logistic_best.coef_[0]\n",
    "intercept = logistic_best.intercept_[0]\n",
    "print(\"Weight : {0}\".format(weight))\n",
    "print(\"Intercept : {0}\".format(intercept))"
   ]
  },
  {
   "cell_type": "code",
   "execution_count": 11,
   "metadata": {},
   "outputs": [],
   "source": [
    "def accuracy_score(actual_value,predicted_value):\n",
    "    correct_class = 0\n",
    "    for i in range(len(actual_value)):\n",
    "        if actual_value[i] == predicted_value[i]:\n",
    "            correct_class += 1\n",
    "            \n",
    "    return correct_class / len(actual_value)"
   ]
  },
  {
   "cell_type": "code",
   "execution_count": 12,
   "metadata": {
    "scrolled": true
   },
   "outputs": [
    {
     "name": "stdout",
     "output_type": "stream",
     "text": [
      "Accuracy_score for the Model Without adding Error  :1.0\n"
     ]
    }
   ],
   "source": [
    "#accuracy on training data\n",
    "actual_value = Y\n",
    "predicted_value = logistic_best.predict(X)\n",
    "accuracy_score_logistic = accuracy_score(actual_value,predicted_value)\n",
    "print(\"Accuracy_score for the Model Without adding Error  :{0}\".format(accuracy_score_logistic))\n"
   ]
  },
  {
   "cell_type": "markdown",
   "metadata": {},
   "source": [
    "# Adding Small noise to every feature "
   ]
  },
  {
   "cell_type": "code",
   "execution_count": 13,
   "metadata": {},
   "outputs": [],
   "source": [
    "def add_noise_data(data,column):\n",
    "    \n",
    "    original_value = data[column].values \n",
    "    \n",
    "    modified_feature_value = original_value + 0.01\n",
    "    \n",
    "    return modified_feature_value\n",
    "    "
   ]
  },
  {
   "cell_type": "code",
   "execution_count": 14,
   "metadata": {},
   "outputs": [],
   "source": [
    "noise_added_features = [ add_noise_data(data,column) for column in data.columns[:-1]]\n",
    "X_dash = np.vstack(tuple(noise_added_features))\n",
    "X_dash = X_dash.T"
   ]
  },
  {
   "cell_type": "code",
   "execution_count": 15,
   "metadata": {},
   "outputs": [
    {
     "data": {
      "text/plain": [
       "(100, 7)"
      ]
     },
     "execution_count": 15,
     "metadata": {},
     "output_type": "execute_result"
    }
   ],
   "source": [
    "X_dash.shape"
   ]
  },
  {
   "cell_type": "code",
   "execution_count": 16,
   "metadata": {},
   "outputs": [],
   "source": [
    "def grid_search_cv(X,y,model,grid):\n",
    "    grid_search = GridSearchCV(estimator=model, param_grid=grid, n_jobs=-1, cv=10, scoring='accuracy',error_score=0)\n",
    "    grid_result = grid_search.fit(X, Y)\n",
    "    grid_result.best_params_\n",
    "    return grid_result.best_params_"
   ]
  },
  {
   "cell_type": "code",
   "execution_count": 17,
   "metadata": {},
   "outputs": [
    {
     "name": "stdout",
     "output_type": "stream",
     "text": [
      "Best Param After Pertubation Test:{'C': 0.0001, 'penalty': 'l2'}\n"
     ]
    }
   ],
   "source": [
    "penalty = ['l2']\n",
    "C =np.logspace(-4,4,5)\n",
    "param_grid = dict(penalty=penalty,C=C)\n",
    "model = LogisticRegression()\n",
    "best_param = grid_search_cv(X_dash,Y,model,param_grid)\n",
    "print(\"Best Param After Pertubation Test:{}\".format(best_param) )\n"
   ]
  },
  {
   "cell_type": "code",
   "execution_count": 18,
   "metadata": {},
   "outputs": [
    {
     "name": "stdout",
     "output_type": "stream",
     "text": [
      "Accuracy Score For After Pertubation Test ; 1.0\n"
     ]
    }
   ],
   "source": [
    "from sklearn.metrics import accuracy_score\n",
    "best_C = best_param['C']\n",
    "penalty = 'l2'\n",
    "best_model_logistic = LogisticRegression(C = best_C,penalty = 'l2')\n",
    "best_model_logistic.fit(X_dash,Y)\n",
    "y_predict = best_model_logistic.predict(X_dash)\n",
    "accuracy_score_adding_noise = accuracy_score(Y,y_predict)\n",
    "print(\"Accuracy Score For After Pertubation Test ; {0}\".format(accuracy_score(Y,y_predict)))\n"
   ]
  },
  {
   "cell_type": "code",
   "execution_count": 19,
   "metadata": {},
   "outputs": [
    {
     "name": "stdout",
     "output_type": "stream",
     "text": [
      "Weight After Pertubation Test : [ 0.00359617 -0.00341988  0.00480004  0.00355254 -0.00341988  0.00377683\n",
      "  0.00316958]\n"
     ]
    }
   ],
   "source": [
    "weight_noise = best_model_logistic.coef_[0]\n",
    "Intercept_adding_noise = best_model_logistic.intercept_[0]\n",
    "print(\"Weight After Pertubation Test : {0}\".format(weight_noise))"
   ]
  },
  {
   "cell_type": "code",
   "execution_count": 20,
   "metadata": {
    "scrolled": true
   },
   "outputs": [
    {
     "name": "stdout",
     "output_type": "stream",
     "text": [
      "Weight differene : [1.30431323e-07 1.45321783e-07 2.04625934e-07 1.53887588e-07\n",
      " 1.45321783e-07 1.13731171e-07 1.22541126e-07]\n",
      "Top four Features : Index(['x*x', 'y', '2*y', 'x'], dtype='object')\n",
      "Difference Between the Accuracy Score for two models : 0.0\n"
     ]
    }
   ],
   "source": [
    "# difference between the feature weight before and after pertubation test\n",
    "diff_noise = weight_noise - weight\n",
    "print(\"Weight differene : {0}\".format(np.abs(diff_noise)))\n",
    "\n",
    "#display the top four feature\n",
    "four_feature_index = np.argsort(diff_noise).tolist()[:4]\n",
    "\n",
    "data_feature = data.columns[:-1]\n",
    "\n",
    "top_four_features = np.take(data_feature,four_feature_index)\n",
    "print('Top four Features : {0}'.format(top_four_features))\n",
    "print(\"Difference Between the Accuracy Score for two models : {0}\".format(accuracy_score_adding_noise - accuracy_score_logistic))"
   ]
  },
  {
   "cell_type": "markdown",
   "metadata": {},
   "source": [
    "# Observation "
   ]
  },
  {
   "cell_type": "markdown",
   "metadata": {},
   "source": [
    "1.We Can Observe there is no difference in accuracy Score for Before and After Pertubation Tesing ( Adding SMall Noise In the Training Data).\n",
    "\n",
    "2.Adding Noise for the Features weights is changes Slightly for the all the features.\n",
    "\n",
    "3.top Four Featues X*X ,Y 2*Y and X is Multicollinear(i.e features are dependent to each Other)"
   ]
  },
  {
   "cell_type": "markdown",
   "metadata": {},
   "source": [
    "# Multicollinear Checking For Support Vector Machine"
   ]
  },
  {
   "cell_type": "code",
   "execution_count": 21,
   "metadata": {},
   "outputs": [],
   "source": [
    "#hyperparamter tuning\n",
    "#https://scikit-learn.org/stable/modules/generated/sklearn.svm.LinearSVC.html\n",
    "from sklearn.svm import LinearSVC\n",
    "c = np.logspace(-4,4,5)\n",
    "model = LinearSVC()\n",
    "grid = dict(C=c)\n",
    "grid_search = GridSearchCV(estimator=model, param_grid=grid, n_jobs=-1, cv=10, scoring='accuracy',error_score=0)\n",
    "grid_result = grid_search.fit(X, Y)"
   ]
  },
  {
   "cell_type": "code",
   "execution_count": 22,
   "metadata": {},
   "outputs": [
    {
     "name": "stdout",
     "output_type": "stream",
     "text": [
      "best Param : {'C': 0.0001}\n",
      "Weight : [ 0.01323056 -0.01280974  0.01791372  0.01305589 -0.01280974  0.01391318\n",
      "  0.01167827]\n",
      "Intercept : 4.763807631789213e-11\n"
     ]
    }
   ],
   "source": [
    "best_c = grid_result.best_params_\n",
    "print(\"best Param : {0}\".format(best_c))\n",
    "best_c = 0.0001\n",
    "best_model = LinearSVC(C = best_c, penalty = 'l2')\n",
    "#train the model\n",
    "svC_best = best_model.fit(X,Y)\n",
    "weight = svC_best.coef_[0]\n",
    "intercept = svC_best.intercept_[0]\n",
    "print(\"Weight : {0}\".format(weight))\n",
    "print(\"Intercept : {0}\".format(intercept))"
   ]
  },
  {
   "cell_type": "code",
   "execution_count": 23,
   "metadata": {},
   "outputs": [
    {
     "name": "stdout",
     "output_type": "stream",
     "text": [
      "Accuracy_score for the Model Without adding Noise  :1.0\n"
     ]
    }
   ],
   "source": [
    "#accuracy on training data\n",
    "actual_value = Y\n",
    "predicted_value = svC_best.predict(X)\n",
    "accuracy_score_svc= accuracy_score(actual_value,predicted_value)\n",
    "print(\"Accuracy_score for the Model Without adding Noise  :{0}\".format(accuracy_score_svc))\n"
   ]
  },
  {
   "cell_type": "code",
   "execution_count": 24,
   "metadata": {},
   "outputs": [],
   "source": [
    "noise_added_features = [ add_noise_data(data,column) for column in data.columns[:-1]]\n",
    "X_dash = np.vstack(tuple(noise_added_features))\n",
    "X_dash = X_dash.T\n",
    "def grid_search_cv(X,y,model,grid):\n",
    "    grid_search = GridSearchCV(estimator=model, param_grid=grid, n_jobs=-1, cv=10, scoring='accuracy',error_score=0)\n",
    "    grid_result = grid_search.fit(X, Y)\n",
    "    grid_result.best_params_\n",
    "    return grid_result.best_params_"
   ]
  },
  {
   "cell_type": "code",
   "execution_count": 25,
   "metadata": {},
   "outputs": [
    {
     "name": "stdout",
     "output_type": "stream",
     "text": [
      "Best Param After Pertubation Test:{'C': 0.0001, 'penalty': 'l2'}\n"
     ]
    }
   ],
   "source": [
    "penalty = ['l2']\n",
    "C =np.logspace(-4,4,5)\n",
    "param_grid = dict(penalty=penalty,C=C)\n",
    "model = LinearSVC()\n",
    "best_param = grid_search_cv(X_dash,Y,model,param_grid)\n",
    "print(\"Best Param After Pertubation Test:{}\".format(best_param) )"
   ]
  },
  {
   "cell_type": "code",
   "execution_count": 26,
   "metadata": {},
   "outputs": [
    {
     "name": "stdout",
     "output_type": "stream",
     "text": [
      "Accuracy Score For After Pertubation Test ; 1.0\n"
     ]
    }
   ],
   "source": [
    "best_C = best_param['C']\n",
    "penalty = 'l2'\n",
    "best_model_svc = LogisticRegression(C = best_C,penalty = 'l2')\n",
    "best_model_svc.fit(X_dash,Y)\n",
    "y_predict = best_model_svc.predict(X_dash)\n",
    "accuracy_score_adding_noise = accuracy_score(Y,y_predict)\n",
    "print(\"Accuracy Score For After Pertubation Test ; {0}\".format(accuracy_score_adding_noise))\n"
   ]
  },
  {
   "cell_type": "code",
   "execution_count": 27,
   "metadata": {},
   "outputs": [
    {
     "name": "stdout",
     "output_type": "stream",
     "text": [
      "Weight After Pertubation Test : [ 0.00359617 -0.00341988  0.00480004  0.00355254 -0.00341988  0.00377683\n",
      "  0.00316958]\n"
     ]
    }
   ],
   "source": [
    "weight_noise = best_model_svc.coef_[0]\n",
    "Intercept_adding_noise = best_model_svc.intercept_[0]\n",
    "print(\"Weight After Pertubation Test : {0}\".format(weight_noise))"
   ]
  },
  {
   "cell_type": "code",
   "execution_count": 28,
   "metadata": {
    "scrolled": true
   },
   "outputs": [
    {
     "name": "stdout",
     "output_type": "stream",
     "text": [
      "Weight differene : [0.00963439 0.00938986 0.01311368 0.00950335 0.00938986 0.01013635\n",
      " 0.00850868]\n",
      "Top four Features : Index(['z', '2*z+3*x*x', 'x', 'x*x'], dtype='object')\n",
      "Difference Between the Accuracy Score for two models : 0.0\n"
     ]
    }
   ],
   "source": [
    "# difference between the feature weight before and after pertubation test\n",
    "diff_noise = weight_noise - weight\n",
    "print(\"Weight differene : {0}\".format(np.abs(diff_noise)))\n",
    "\n",
    "#display the top four feature\n",
    "four_feature_index = np.argsort(diff_noise).tolist()[:4]\n",
    "\n",
    "data_feature = data.columns[:-1]\n",
    "\n",
    "top_four_features = np.take(data_feature,four_feature_index)\n",
    "print('Top four Features : {0}'.format(top_four_features))\n",
    "print(\"Difference Between the Accuracy Score for two models : {0}\".format(accuracy_score_adding_noise - accuracy_score_svc))"
   ]
  },
  {
   "cell_type": "markdown",
   "metadata": {},
   "source": [
    "## Observation "
   ]
  },
  {
   "cell_type": "markdown",
   "metadata": {},
   "source": [
    "1.We Can Observe there is no difference in accuracy Score for Before and After Pertubation Tesing ( Adding SMall Noise In the Training Data).\n",
    "\n",
    "2.Adding Noise for the Features weights is changes Slightly for the all the features.\n",
    "\n",
    "3.top Four Featues z', '2*z+3*x*x', 'x', 'x*x'is Multicollinear(i.e features are dependent to each Other)"
   ]
  },
  {
   "cell_type": "markdown",
   "metadata": {},
   "source": [
    "# Conclusion "
   ]
  },
  {
   "cell_type": "markdown",
   "metadata": {},
   "source": [
    "In this Note Book We Perform the Multi Collinearty Checking For the Given Dataset Using Logistic Regression and Linear SVM\n",
    "We Can Observe Both Linear and SVC give the Same Accuracy for the original Training data and Adding a Small noise in original Data. difference between the weights changes Slightly.\n",
    "\n",
    "1.In Linear Regression feature X*X is the higher Changes weight comparing othersY 2*Y and X\n",
    "2.In Linear SVC Feature z is the higher percentage of weight changes comparing other features 2z+3xx, x, xx"
   ]
  }
 ],
 "metadata": {
  "colab": {
   "name": "8D_LR_SVM.ipynb",
   "provenance": []
  },
  "kernelspec": {
   "display_name": "Python 3",
   "language": "python",
   "name": "python3"
  },
  "language_info": {
   "codemirror_mode": {
    "name": "ipython",
    "version": 3
   },
   "file_extension": ".py",
   "mimetype": "text/x-python",
   "name": "python",
   "nbconvert_exporter": "python",
   "pygments_lexer": "ipython3",
   "version": "3.8.8"
  }
 },
 "nbformat": 4,
 "nbformat_minor": 1
}
