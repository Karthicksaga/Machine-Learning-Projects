{
 "cells": [
  {
   "cell_type": "markdown",
   "metadata": {},
   "source": [
    "# Facebook Recommendation System "
   ]
  },
  {
   "cell_type": "code",
   "execution_count": null,
   "metadata": {
    "execution": {
     "iopub.execute_input": "2021-10-08T08:43:43.009069Z",
     "iopub.status.busy": "2021-10-08T08:43:43.008745Z",
     "iopub.status.idle": "2021-10-08T08:43:43.019355Z",
     "shell.execute_reply": "2021-10-08T08:43:43.0185Z",
     "shell.execute_reply.started": "2021-10-08T08:43:43.009036Z"
    },
    "id": "kD4Nm_ktI36c"
   },
   "outputs": [],
   "source": [
    "#import the necessary library\n",
    "#Importing Libraries\n",
    "# please do go through this python notebook: \n",
    "import warnings\n",
    "warnings.filterwarnings(\"ignore\")\n",
    "\n",
    "import csv\n",
    "import pandas as pd#pandas to create small dataframes \n",
    "import datetime #Convert to unix time\n",
    "import time #Convert to unix time\n",
    "# if numpy is not installed already : pip3 install numpy\n",
    "import numpy as np#Do aritmetic operations on arrays\n",
    "# matplotlib: used to plot graphs\n",
    "import matplotlib\n",
    "import matplotlib.pylab as plt\n",
    "import seaborn as sns#Plots\n",
    "from matplotlib import rcParams#Size of plots  \n",
    "from sklearn.cluster import MiniBatchKMeans, KMeans#Clustering\n",
    "import math\n",
    "import pickle\n",
    "import os\n",
    "# to install xgboost: pip3 install xgboost\n",
    "import xgboost as xgb\n",
    "import time\n",
    "import lightgbm as lgb\n",
    "import warnings\n",
    "import networkx as nx\n",
    "import pdb\n",
    "import pickle\n",
    "from sklearn.metrics import f1_score\n",
    "from sklearn.ensemble import RandomForestClassifier\n",
    "from sklearn.metrics import f1_score\n",
    "from sklearn.model_selection import RandomizedSearchCV\n",
    "from scipy.stats import randint as sp_randint\n",
    "from scipy.stats import uniform\n",
    "from scipy.stats import randint as sp_randint\n",
    "from scipy.stats import uniform as sp_uniform\n",
    "import time\n",
    "import lightgbm as lgb\n",
    "from sklearn.metrics import confusion_matrix"
   ]
  },
  {
   "cell_type": "code",
   "execution_count": null,
   "metadata": {
    "colab": {
     "base_uri": "https://localhost:8080/",
     "height": 89,
     "resources": {
      "http://localhost:8080/nbextensions/google.colab/files.js": {
       "data": "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",
       "headers": [
        [
         "content-type",
         "application/javascript"
        ]
       ],
       "ok": true,
       "status": 200,
       "status_text": ""
      }
     }
    },
    "id": "eENRWPWwKBUY",
    "outputId": "bea3142d-0a27-44f7-a7d9-84008e00f1c3"
   },
   "outputs": [
    {
     "data": {
      "text/html": [
       "\n",
       "     <input type=\"file\" id=\"files-a5f53fe3-73d6-4883-a834-c8f2704d1b65\" name=\"files[]\" multiple disabled\n",
       "        style=\"border:none\" />\n",
       "     <output id=\"result-a5f53fe3-73d6-4883-a834-c8f2704d1b65\">\n",
       "      Upload widget is only available when the cell has been executed in the\n",
       "      current browser session. Please rerun this cell to enable.\n",
       "      </output>\n",
       "      <script src=\"/nbextensions/google.colab/files.js\"></script> "
      ],
      "text/plain": [
       "<IPython.core.display.HTML object>"
      ]
     },
     "metadata": {},
     "output_type": "display_data"
    },
    {
     "name": "stdout",
     "output_type": "stream",
     "text": [
      "Saving kaggle.json to kaggle.json\n"
     ]
    },
    {
     "data": {
      "text/plain": [
       "{'kaggle.json': b'{\"username\":\"karthicktj\",\"key\":\"0fdf4475e2fad32a54bb9eea38c4bbf2\"}'}"
      ]
     },
     "execution_count": 1,
     "metadata": {},
     "output_type": "execute_result"
    }
   ],
   "source": [
    "from google.colab import files\n",
    "files.upload()"
   ]
  },
  {
   "cell_type": "code",
   "execution_count": null,
   "metadata": {
    "colab": {
     "base_uri": "https://localhost:8080/"
    },
    "id": "hfEFvI1dJbIp",
    "outputId": "128f3e8a-c16e-4e83-ae43-59121770ae36"
   },
   "outputs": [
    {
     "name": "stdout",
     "output_type": "stream",
     "text": [
      "Downloading test-pos-data.zip to /content\n",
      " 67% 9.00M/13.4M [00:00<00:00, 24.4MB/s]\n",
      "100% 13.4M/13.4M [00:00<00:00, 30.3MB/s]\n"
     ]
    }
   ],
   "source": [
    "!mkdir ~/.kaggle\n",
    "! cp kaggle.json ~/.kaggle/\n",
    "! chmod 600 ~/.kaggle/kaggle.json\n",
    "!kaggle datasets download -d karthicktj/test-pos-data"
   ]
  },
  {
   "cell_type": "code",
   "execution_count": null,
   "metadata": {
    "colab": {
     "base_uri": "https://localhost:8080/"
    },
    "id": "WLlf5iHoKbIp",
    "outputId": "9889d1de-ac6b-4f22-b8c6-dc23387567db"
   },
   "outputs": [
    {
     "name": "stdout",
     "output_type": "stream",
     "text": [
      "Downloading finalsample.zip to /content\n",
      " 88% 65.0M/73.8M [00:02<00:00, 33.7MB/s]\n",
      "100% 73.8M/73.8M [00:02<00:00, 34.9MB/s]\n"
     ]
    }
   ],
   "source": [
    "!kaggle datasets download -d karthicktj/finalsample"
   ]
  },
  {
   "cell_type": "code",
   "execution_count": null,
   "metadata": {
    "colab": {
     "base_uri": "https://localhost:8080/"
    },
    "id": "pwFvw8J9Ks2s",
    "outputId": "3371bb67-6023-4a37-ad23-734747bb9c82"
   },
   "outputs": [
    {
     "name": "stdout",
     "output_type": "stream",
     "text": [
      "Downloading train-test-facebook-clean-data.zip to /content\n",
      " 97% 130M/134M [00:04<00:00, 37.7MB/s]\n",
      "100% 134M/134M [00:04<00:00, 34.6MB/s]\n"
     ]
    }
   ],
   "source": [
    "!kaggle datasets download -d karthicktj/train-test-facebook-clean-data"
   ]
  },
  {
   "cell_type": "markdown",
   "metadata": {
    "id": "GnDTuO6eQADh"
   },
   "source": []
  },
  {
   "cell_type": "code",
   "execution_count": null,
   "metadata": {
    "colab": {
     "base_uri": "https://localhost:8080/"
    },
    "id": "BEuP9WcFMQBw",
    "outputId": "dae719fe-69cb-409f-a7d2-4e7014cde3a4"
   },
   "outputs": [
    {
     "name": "stdout",
     "output_type": "stream",
     "text": [
      "Downloading train-pos-after-eda-facebook.zip to /content\n",
      " 95% 121M/128M [00:03<00:00, 42.3MB/s]\n",
      "100% 128M/128M [00:03<00:00, 38.8MB/s]\n"
     ]
    }
   ],
   "source": [
    "!kaggle datasets download -d karthicktj/train-pos-after-eda-facebook"
   ]
  },
  {
   "cell_type": "code",
   "execution_count": null,
   "metadata": {
    "id": "yFwtUfhJMTPh"
   },
   "outputs": [],
   "source": [
    "import zipfile \n",
    "\n",
    "storage_sample = zipfile.ZipFile(\"/content/finalsample.zip\",'r')\n",
    "storage_sample.extractall('storage_sample_stage4')\n",
    "storage_sample.close()\n",
    "\n",
    "train_pos_after_eda = zipfile.ZipFile('/content/train-pos-after-eda-facebook.zip','r')\n",
    "train_pos_after_eda.extractall('train_pos')\n",
    "train_pos_after_eda.close()\n",
    "\n",
    "\n",
    "test_pos_after_eda = zipfile.ZipFile(\"/content/test-pos-data.zip\",'r')\n",
    "test_pos_after_eda.extractall('test_pos')\n",
    "test_pos_after_eda.close()\n"
   ]
  },
  {
   "cell_type": "code",
   "execution_count": null,
   "metadata": {
    "execution": {
     "iopub.execute_input": "2021-10-08T08:44:33.990176Z",
     "iopub.status.busy": "2021-10-08T08:44:33.989877Z",
     "iopub.status.idle": "2021-10-08T08:44:36.975439Z",
     "shell.execute_reply": "2021-10-08T08:44:36.974523Z",
     "shell.execute_reply.started": "2021-10-08T08:44:33.990149Z"
    },
    "id": "3SmzwqGmI36d"
   },
   "outputs": [],
   "source": [
    "#import the cleaned data \n",
    "train_data = pd.read_hdf(\"/content/storage_sample_stage4/storage_sample_stage4.h5\",'train_df',mode = 'r')\n",
    "test_data = pd.read_hdf(\"/content/storage_sample_stage4/storage_sample_stage4.h5\",'test_df',mode = 'r')"
   ]
  },
  {
   "cell_type": "markdown",
   "metadata": {
    "id": "HIOdFlTpI36e"
   },
   "source": []
  },
  {
   "cell_type": "code",
   "execution_count": null,
   "metadata": {
    "colab": {
     "base_uri": "https://localhost:8080/"
    },
    "execution": {
     "iopub.execute_input": "2021-10-08T08:44:50.700188Z",
     "iopub.status.busy": "2021-10-08T08:44:50.699439Z",
     "iopub.status.idle": "2021-10-08T08:46:08.726047Z",
     "shell.execute_reply": "2021-10-08T08:46:08.724838Z",
     "shell.execute_reply.started": "2021-10-08T08:44:50.700142Z"
    },
    "id": "ZDTQhqzZI36h",
    "outputId": "e98d9779-37ce-4887-bc7f-93e746680a0a"
   },
   "outputs": [
    {
     "name": "stdout",
     "output_type": "stream",
     "text": [
      "DiGraph with 1780722 nodes and 7550015 edges\n"
     ]
    }
   ],
   "source": [
    "if os.path.isfile('/content/train_pos/train_pos_after_eda.csv'):\n",
    "    train_graph=nx.read_edgelist('/content/train_pos/train_pos_after_eda.csv',delimiter=',',create_using=nx.DiGraph(),nodetype=int)\n",
    "    print(nx.info(train_graph))"
   ]
  },
  {
   "cell_type": "code",
   "execution_count": null,
   "metadata": {
    "colab": {
     "base_uri": "https://localhost:8080/"
    },
    "execution": {
     "iopub.execute_input": "2021-10-08T08:50:06.518151Z",
     "iopub.status.busy": "2021-10-08T08:50:06.517183Z",
     "iopub.status.idle": "2021-10-08T08:50:37.974415Z",
     "shell.execute_reply": "2021-10-08T08:50:37.973528Z",
     "shell.execute_reply.started": "2021-10-08T08:50:06.518107Z"
    },
    "id": "tsxgggpGI36i",
    "outputId": "0009fa82-fb77-4105-c5cb-ff920c8403e6",
    "scrolled": true
   },
   "outputs": [
    {
     "name": "stdout",
     "output_type": "stream",
     "text": [
      "DiGraph with 1144623 nodes and 1887504 edges\n"
     ]
    }
   ],
   "source": [
    "if  os.path.isfile(\"/content/test_pos/test_pos_after_eda.csv\"):\n",
    "    test_graph = nx.read_edgelist('/content/test_pos/test_pos_after_eda.csv',delimiter=',',create_using=nx.DiGraph(),nodetype=int)\n",
    "    print(nx.info(test_graph))"
   ]
  },
  {
   "cell_type": "markdown",
   "metadata": {},
   "source": [
    "# Common Neighbour\n",
    "\n",
    "Reference_paper : https://www.researchgate.net/publication/330357572_Review_on_Learning_and_Extracting_Graph_Features_for_Link_Prediction\n",
    "Reference : https://neo4j.com/docs/graph-data-science/current/alpha-algorithms/common-neighbors/#:~:text=Common%20Neighbors%20This%20section%20describes%20the%20Common%20Neighbors,common.%20This%20algorithm%20is%20in%20the%20alpha%20tier.\n",
    "\n"
   ]
  },
  {
   "attachments": {
    "image.png": {
     "image/png": "[encoded data removed]"
    }
   },
   "cell_type": "markdown",
   "metadata": {},
   "source": [
    "![image.png](attachment:image.png)\n",
    "where N(x) is the set of nodes adjacent to node x, and N(y) is the set of nodes adjacent to node y"
   ]
  },
  {
   "cell_type": "code",
   "execution_count": null,
   "metadata": {
    "execution": {
     "iopub.execute_input": "2021-10-08T08:50:37.977029Z",
     "iopub.status.busy": "2021-10-08T08:50:37.976206Z",
     "iopub.status.idle": "2021-10-08T08:50:37.98274Z",
     "shell.execute_reply": "2021-10-08T08:50:37.982035Z",
     "shell.execute_reply.started": "2021-10-08T08:50:37.97699Z"
    },
    "id": "BOFYI-9kI36j"
   },
   "outputs": [],
   "source": [
    "def common_neighbour(source_node,destination_node,graph):\n",
    "    try: \n",
    "        if len(set(graph.predecessors(source_node))) == 0 or len(set(graph.predecessors(destination_node))) == 0:\n",
    "            return 0\n",
    "        \n",
    "        node_a_neighbours = set(graph.predecessors(source_node))\n",
    "        node_b_neighbours = set(graph.predecessors(destination_node))\n",
    "        common_neighbours = len(node_a_neighbours.intersection(node_b_neighbours))\n",
    "    except:\n",
    "        return 0 \n",
    "    \n",
    "    return common_neighbours"
   ]
  },
  {
   "cell_type": "code",
   "execution_count": null,
   "metadata": {
    "execution": {
     "iopub.execute_input": "2021-10-08T08:50:37.98448Z",
     "iopub.status.busy": "2021-10-08T08:50:37.984119Z",
     "iopub.status.idle": "2021-10-08T08:50:37.996532Z",
     "shell.execute_reply": "2021-10-08T08:50:37.995746Z",
     "shell.execute_reply.started": "2021-10-08T08:50:37.984441Z"
    },
    "id": "B66KfYy9I36k"
   },
   "outputs": [],
   "source": [
    "def common_neighbour_followee(source_node,destination_node,graph):\n",
    "    try: \n",
    "        if len(set(graph.successors(source_node))) == 0 or len(set(graph.successors(destination_node))) == 0:\n",
    "            return 0\n",
    "        \n",
    "        node_a_neighbours = set(graph.successors(source_node))\n",
    "        node_b_neighbours = set(graph.successors(destination_node))\n",
    "        common_neighbours = len(node_a_neighbours.successors(node_b_neighbours))\n",
    "    except:\n",
    "        return 0 \n",
    "    \n",
    "    return common_neighbours"
   ]
  },
  {
   "cell_type": "markdown",
   "metadata": {
    "id": "o7pfwqWnI36m"
   },
   "source": [
    "## Sørensen Index\n",
    "\n",
    "The difference in using the summation of the degrees instead of the size of the union of their neighbors makes SI less\n",
    "outlier sensitive when compared to JC"
   ]
  },
  {
   "cell_type": "code",
   "execution_count": null,
   "metadata": {
    "execution": {
     "iopub.execute_input": "2021-10-08T08:50:37.999108Z",
     "iopub.status.busy": "2021-10-08T08:50:37.998875Z",
     "iopub.status.idle": "2021-10-08T08:50:38.009551Z",
     "shell.execute_reply": "2021-10-08T08:50:38.008684Z",
     "shell.execute_reply.started": "2021-10-08T08:50:37.999082Z"
    },
    "id": "MAcVr3PzI36n"
   },
   "outputs": [],
   "source": [
    "def sorensen_index_followers(source,destination,graph):\n",
    "    source_set,destination_set = 0,0\n",
    "    sorensen_index_follower = 0.0\n",
    "    try:\n",
    "        if len(set(graph.predecessors(source))) == 0 or len(set(graph.predecessors(destination))) == 0:\n",
    "            return 0\n",
    "        \n",
    "        source_set = set(graph.predecessors(source))\n",
    "        \n",
    "        destination_set = set(graph.predecessors(destination))\n",
    "        \n",
    "        sorensen_index_follower = source_set.intersection(destination_set) / (len(source_set)+ len(destination_set))\n",
    "        \n",
    "    except:\n",
    "        return 0\n",
    "                                                                            \n",
    "    return sorensen_index_followers\n",
    "                                                                               \n",
    "        \n",
    "    "
   ]
  },
  {
   "cell_type": "code",
   "execution_count": null,
   "metadata": {
    "execution": {
     "iopub.execute_input": "2021-10-08T08:50:38.010935Z",
     "iopub.status.busy": "2021-10-08T08:50:38.010654Z",
     "iopub.status.idle": "2021-10-08T08:50:38.022074Z",
     "shell.execute_reply": "2021-10-08T08:50:38.021147Z",
     "shell.execute_reply.started": "2021-10-08T08:50:38.010908Z"
    },
    "id": "CpFM9eBLI36n"
   },
   "outputs": [],
   "source": [
    "def sorensen_index_followeee(source,destination,graph):\n",
    "    source_set,destination_set = 0,0\n",
    "    sorensen_index_followee = 0.0\n",
    "    try:\n",
    "        if len(set(graph.successors(source))) == 0 or len(set(graph.successors(destination))) == 0:\n",
    "            return 0\n",
    "        \n",
    "        source_set = set(graph.successors(source))\n",
    "        \n",
    "        destination_set = set(graph.successors(destination))\n",
    "        \n",
    "        sorensen_index_followee = source_set.intersection(destination_set) / (len(source_set)+ len(destination_set))\n",
    "        \n",
    "    except:\n",
    "        return 0\n",
    "                                                                            \n",
    "    return sorensen_index_followee\n",
    "                                                                               "
   ]
  },
  {
   "cell_type": "markdown",
   "metadata": {},
   "source": [
    "## Preferential_attachement"
   ]
  },
  {
   "cell_type": "code",
   "execution_count": null,
   "metadata": {
    "execution": {
     "iopub.execute_input": "2021-10-08T08:50:38.023429Z",
     "iopub.status.busy": "2021-10-08T08:50:38.023192Z",
     "iopub.status.idle": "2021-10-08T08:50:38.040691Z",
     "shell.execute_reply": "2021-10-08T08:50:38.039792Z",
     "shell.execute_reply.started": "2021-10-08T08:50:38.023403Z"
    },
    "id": "VOM9jXFkI36o"
   },
   "outputs": [],
   "source": [
    "def preferential_attachement_followee(source,destination,graph):\n",
    "    \n",
    "    source_set,destination_set = 0,0\n",
    "    pre_att_followers = 0\n",
    "    try:\n",
    "        if len(set(graph.predecessors(source))) == 0 or len(set(graph.predecessors(destination))) == 0:\n",
    "            return 0\n",
    "        \n",
    "        source_set = set(graph.predecessors(source))\n",
    "        \n",
    "        destination_set = set(graph.predecessors(destination))\n",
    "        \n",
    "        pre_att_followers = source_set * destination_set \n",
    "        \n",
    "    except:\n",
    "        return 0    \n",
    "    return pre_att_followers\n",
    "        "
   ]
  },
  {
   "cell_type": "code",
   "execution_count": null,
   "metadata": {
    "execution": {
     "iopub.execute_input": "2021-10-08T08:50:38.042122Z",
     "iopub.status.busy": "2021-10-08T08:50:38.041838Z",
     "iopub.status.idle": "2021-10-08T08:50:38.052841Z",
     "shell.execute_reply": "2021-10-08T08:50:38.051693Z",
     "shell.execute_reply.started": "2021-10-08T08:50:38.042093Z"
    },
    "id": "1698l4VnI36p"
   },
   "outputs": [],
   "source": [
    "def preferential_attachement_followers(source,destination,graph):\n",
    "    \n",
    "    source_set,destination_set = 0,0\n",
    "    pre_att_followers = 0\n",
    "    try:\n",
    "        if len(set(graph.successors(source))) == 0 or len(set(graph.successors(destination))) == 0:\n",
    "            return 0\n",
    "        \n",
    "        source_set = set(graph.successors(source))\n",
    "        \n",
    "        destination_set = set(graph.successors(destination))\n",
    "        \n",
    "        pre_att_followers = source_set * destination_set \n",
    "        \n",
    "    except:\n",
    "        return 0    \n",
    "    return pre_att_followers\n",
    "        "
   ]
  },
  {
   "cell_type": "code",
   "execution_count": null,
   "metadata": {
    "execution": {
     "iopub.execute_input": "2021-10-08T08:50:38.054368Z",
     "iopub.status.busy": "2021-10-08T08:50:38.054132Z",
     "iopub.status.idle": "2021-10-08T08:50:42.925106Z",
     "shell.execute_reply": "2021-10-08T08:50:42.924021Z",
     "shell.execute_reply.started": "2021-10-08T08:50:38.054343Z"
    },
    "id": "kCgEPer6I36p"
   },
   "outputs": [],
   "source": [
    "train_data['common_neighbour_follwer'] = train_data.apply(lambda row :common_neighbour(row['source_node'],row['destination_node'],train_graph),axis = 1)\n",
    "test_data['common_neighbour_follwer'] = test_data.apply(lambda row :common_neighbour(row['source_node'],row['destination_node'],test_graph),axis = 1)"
   ]
  },
  {
   "cell_type": "code",
   "execution_count": null,
   "metadata": {
    "execution": {
     "iopub.execute_input": "2021-10-08T08:50:42.926924Z",
     "iopub.status.busy": "2021-10-08T08:50:42.92657Z",
     "iopub.status.idle": "2021-10-08T08:50:47.73129Z",
     "shell.execute_reply": "2021-10-08T08:50:47.730343Z",
     "shell.execute_reply.started": "2021-10-08T08:50:42.926883Z"
    },
    "id": "h-0uka60I36q"
   },
   "outputs": [],
   "source": [
    "train_data['common_neighbour_followee'] = train_data.apply(lambda row :common_neighbour_followee(row['source_node'],row['destination_node'],train_graph),axis = 1)\n",
    "test_data['common_neighbour_followee'] = test_data.apply(lambda row :common_neighbour_followee(row['source_node'],row['destination_node'],test_graph),axis = 1)"
   ]
  },
  {
   "cell_type": "code",
   "execution_count": null,
   "metadata": {
    "execution": {
     "iopub.execute_input": "2021-10-08T08:50:47.734246Z",
     "iopub.status.busy": "2021-10-08T08:50:47.733931Z",
     "iopub.status.idle": "2021-10-08T08:50:52.685988Z",
     "shell.execute_reply": "2021-10-08T08:50:52.685139Z",
     "shell.execute_reply.started": "2021-10-08T08:50:47.734218Z"
    },
    "id": "pWRxQRqkI36q"
   },
   "outputs": [],
   "source": [
    "train_data[\"SI_followers\"] = train_data.apply(lambda row :sorensen_index_followers(row['source_node'],row['destination_node'],train_graph),axis = 1)\n",
    "test_data[\"SI_followers\"] = test_data.apply(lambda row :sorensen_index_followers(row['source_node'],row['destination_node'],test_graph),axis = 1)"
   ]
  },
  {
   "cell_type": "code",
   "execution_count": null,
   "metadata": {
    "execution": {
     "iopub.execute_input": "2021-10-08T08:50:52.687278Z",
     "iopub.status.busy": "2021-10-08T08:50:52.687055Z",
     "iopub.status.idle": "2021-10-08T08:50:57.660911Z",
     "shell.execute_reply": "2021-10-08T08:50:57.659979Z",
     "shell.execute_reply.started": "2021-10-08T08:50:52.687252Z"
    },
    "id": "6vRRNFOYI36q"
   },
   "outputs": [],
   "source": [
    "train_data[\"SI_followeee\"] = train_data.apply(lambda row :sorensen_index_followeee(row['source_node'],row['destination_node'],train_graph),axis = 1)\n",
    "test_data[\"SI_followeee\"] = test_data.apply(lambda row :sorensen_index_followeee(row['source_node'],row['destination_node'],test_graph),axis = 1)"
   ]
  },
  {
   "cell_type": "code",
   "execution_count": null,
   "metadata": {
    "execution": {
     "iopub.execute_input": "2021-10-08T08:50:57.662478Z",
     "iopub.status.busy": "2021-10-08T08:50:57.662224Z",
     "iopub.status.idle": "2021-10-08T08:51:02.578746Z",
     "shell.execute_reply": "2021-10-08T08:51:02.577979Z",
     "shell.execute_reply.started": "2021-10-08T08:50:57.662448Z"
    },
    "id": "b9ia-S23I36r"
   },
   "outputs": [],
   "source": [
    "train_data['pre_att_followee'] = train_data.apply(lambda row: preferential_attachement_followee(row['source_node'],row['destination_node'],train_graph),axis = 1)\n",
    "test_data['pre_att_followee'] = test_data.apply(lambda row: preferential_attachement_followee(row['source_node'],row['destination_node'],test_graph),axis = 1)"
   ]
  },
  {
   "cell_type": "code",
   "execution_count": null,
   "metadata": {
    "execution": {
     "iopub.execute_input": "2021-10-08T08:51:02.580085Z",
     "iopub.status.busy": "2021-10-08T08:51:02.579863Z",
     "iopub.status.idle": "2021-10-08T08:51:07.53186Z",
     "shell.execute_reply": "2021-10-08T08:51:07.530921Z",
     "shell.execute_reply.started": "2021-10-08T08:51:02.580059Z"
    },
    "id": "DG8_vJvVI36r"
   },
   "outputs": [],
   "source": [
    "train_data['pre_att_followers'] = train_data.apply(lambda row: preferential_attachement_followers(row['source_node'],row['destination_node'],train_graph),axis = 1)\n",
    "test_data['pre_att_followers'] = test_data.apply(lambda row: preferential_attachement_followers(row['source_node'],row['destination_node'],test_graph),axis = 1)\n"
   ]
  },
  {
   "cell_type": "markdown",
   "metadata": {},
   "source": [
    "### Resource Allocation Index\n",
    "\n",
    "Resource Allocation defined as inverted sum of degrees of common neighbours for given two vertices.\n",
    "$$RAI(x,y)=\\sum_{u \\in N(x) \\cap N(y)}\\frac{1}{|N(u)|)}$$\n",
    "\n",
    "Resource Allocation is Similar to Adar Index.The Main Difference between Resource Allocation and Adar Index is Instead of Tasking log of the neighbour we directly using the length of the set"
   ]
  },
  {
   "cell_type": "code",
   "execution_count": null,
   "metadata": {
    "execution": {
     "iopub.execute_input": "2021-10-08T08:51:07.53322Z",
     "iopub.status.busy": "2021-10-08T08:51:07.532991Z",
     "iopub.status.idle": "2021-10-08T08:51:07.540924Z",
     "shell.execute_reply": "2021-10-08T08:51:07.539976Z",
     "shell.execute_reply.started": "2021-10-08T08:51:07.533194Z"
    },
    "id": "HgPix68FI36s"
   },
   "outputs": [],
   "source": [
    "def resource_allocation(a,b,graph):\n",
    "    sum=0\n",
    "    try:\n",
    "        n=list(set(graph.successors(a)).intersection(set(graph.successors(b))))\n",
    "        if len(n)!=0:\n",
    "            for i in n:\n",
    "                sum=sum+(1/len(list(train_graph.predecessors(i))))\n",
    "            return sum\n",
    "        else:\n",
    "            return 0\n",
    "    except:\n",
    "        return 0"
   ]
  },
  {
   "cell_type": "markdown",
   "metadata": {},
   "source": [
    "#### HUB Promoted Index\n",
    "HP is determined by the ratio of the number of common neighbors of both vx and vy to the minimum of degrees of vx\n",
    "and vy"
   ]
  },
  {
   "cell_type": "code",
   "execution_count": 121,
   "metadata": {
    "id": "5QQIf_O0x9Rr"
   },
   "outputs": [],
   "source": [
    "def hub_promoted_index_followee(source,destination,graph):\n",
    "    source_set,destination_set = 0,0\n",
    "    hub_promoted_index_followee = 0.0\n",
    "    try:\n",
    "        if len(set(graph.successors(source))) == 0 or len(set(graph.successors(destination))) == 0:\n",
    "            return 0\n",
    "        \n",
    "        source_set = set(graph.successors(source))\n",
    "        \n",
    "        destination_set = set(graph.successors(destination))\n",
    "        \n",
    "        hub_promoted_index_followee = source_set.intersection(destination_set) / min(len(source_set), len(destination_set))\n",
    "        \n",
    "    except:\n",
    "        return 0\n",
    "                                                                            \n",
    "    return hub_promoted_index_followee"
   ]
  },
  {
   "cell_type": "code",
   "execution_count": 122,
   "metadata": {
    "id": "5oyhqZbiMWRR"
   },
   "outputs": [],
   "source": [
    "def hub_promoted_index_followers(source,destination,graph):\n",
    "    source_set,destination_set = 0,0\n",
    "    hub_promoted_index_followers = 0.0\n",
    "    try:\n",
    "        if len(set(graph.predecessors(source))) == 0 or len(set(graph.predecessors(destination))) == 0:\n",
    "            return 0\n",
    "        \n",
    "        source_set = set(graph.predecessors(source))\n",
    "        \n",
    "        destination_set = set(graph.predecessors(destination))\n",
    "        \n",
    "        hub_promoted_index_followers = source_set.intersection(destination_set) / min(len(source_set), len(destination_set))\n",
    "        \n",
    "    except:\n",
    "        return 0\n",
    "                                                                            \n",
    "    return hub_promoted_index_followers"
   ]
  },
  {
   "cell_type": "code",
   "execution_count": null,
   "metadata": {
    "execution": {
     "iopub.execute_input": "2021-10-08T08:51:07.542623Z",
     "iopub.status.busy": "2021-10-08T08:51:07.542358Z",
     "iopub.status.idle": "2021-10-08T08:51:07.557926Z",
     "shell.execute_reply": "2021-10-08T08:51:07.557005Z",
     "shell.execute_reply.started": "2021-10-08T08:51:07.54258Z"
    },
    "id": "iKlg6T2fI36s"
   },
   "outputs": [],
   "source": [
    "def svd_dot_u_product(data):\n",
    "    svd_dot_followers = 0\n",
    "    for i in range(1,7): \n",
    "        svd_dot_followers += data['svd_u_s_'+ str(i)] * data['svd_u_d_'+str(i)]\n",
    "    return svd_dot_followers\n",
    "    \n",
    "    "
   ]
  },
  {
   "cell_type": "code",
   "execution_count": null,
   "metadata": {
    "execution": {
     "iopub.execute_input": "2021-10-08T08:51:07.559554Z",
     "iopub.status.busy": "2021-10-08T08:51:07.559307Z",
     "iopub.status.idle": "2021-10-08T08:51:07.572342Z",
     "shell.execute_reply": "2021-10-08T08:51:07.571483Z",
     "shell.execute_reply.started": "2021-10-08T08:51:07.559527Z"
    },
    "id": "VRIx7MfuI36s"
   },
   "outputs": [],
   "source": [
    "def svd_v_dot_product(data):\n",
    "    svd_dot_followee = 0\n",
    "    for i in range(1,7):\n",
    "        svd_dot_followee += data['svd_v_s_' + str(i)] * data['svd_v_d_'+str(i)]\n",
    "    return svd_dot_followee"
   ]
  },
  {
   "cell_type": "code",
   "execution_count": null,
   "metadata": {
    "execution": {
     "iopub.execute_input": "2021-10-08T08:51:07.57383Z",
     "iopub.status.busy": "2021-10-08T08:51:07.573561Z",
     "iopub.status.idle": "2021-10-08T08:51:19.617968Z",
     "shell.execute_reply": "2021-10-08T08:51:19.61707Z",
     "shell.execute_reply.started": "2021-10-08T08:51:07.5738Z"
    },
    "id": "DtJf87GFI36t"
   },
   "outputs": [],
   "source": [
    "train_data['svd_u_dot'] = train_data.apply(lambda row :svd_dot_u_product(row),axis = 1)\n",
    "test_data['svd_u_dot'] = test_data.apply(lambda row : svd_dot_u_product(row),axis = 1)"
   ]
  },
  {
   "cell_type": "code",
   "execution_count": null,
   "metadata": {
    "execution": {
     "iopub.execute_input": "2021-10-08T08:51:19.619392Z",
     "iopub.status.busy": "2021-10-08T08:51:19.619146Z",
     "iopub.status.idle": "2021-10-08T08:51:31.75265Z",
     "shell.execute_reply": "2021-10-08T08:51:31.751698Z",
     "shell.execute_reply.started": "2021-10-08T08:51:19.619364Z"
    },
    "id": "hL0FNCoEI36t"
   },
   "outputs": [],
   "source": [
    "train_data['svd_v_dot'] = train_data.apply(lambda row :svd_v_dot_product(row),axis = 1)\n",
    "test_data['svd_v_dot'] = test_data.apply(lambda row : svd_v_dot_product(row),axis = 1)"
   ]
  },
  {
   "cell_type": "code",
   "execution_count": 123,
   "metadata": {
    "id": "l_uniJ9yMkCM"
   },
   "outputs": [],
   "source": [
    "train_data['hub_promoted_index_followers'] = train_data.apply(lambda row :hub_promoted_index_followers(row['source_node'],row['destination_node'],train_graph),axis = 1)\n",
    "test_data['hub_promoted_index_followers'] = test_data.apply(lambda row :hub_promoted_index_followers(row['source_node'],row['destination_node'],test_graph),axis = 1)\n",
    "train_data['hub_promoted_index_followee'] = train_data.apply(lambda row :hub_promoted_index_followee(row['source_node'],row['destination_node'],train_graph),axis = 1)\n",
    "test_data['hub_promoted_index_followee'] = test_data.apply(lambda row :hub_promoted_index_followee(row['source_node'],row['destination_node'],test_graph),axis = 1)"
   ]
  },
  {
   "cell_type": "code",
   "execution_count": null,
   "metadata": {
    "execution": {
     "iopub.execute_input": "2021-10-08T08:51:31.754344Z",
     "iopub.status.busy": "2021-10-08T08:51:31.754009Z",
     "iopub.status.idle": "2021-10-08T08:51:37.899506Z",
     "shell.execute_reply": "2021-10-08T08:51:37.898737Z",
     "shell.execute_reply.started": "2021-10-08T08:51:31.754302Z"
    },
    "id": "VFYN3906I36t"
   },
   "outputs": [],
   "source": [
    "train_data['resource_allocation'] = train_data.apply(lambda row :resource_allocation(row['source_node'],row['destination_node'],train_graph),axis = 1)\n",
    "test_data['resource_allocation'] = test_data.apply(lambda row : resource_allocation(row['source_node'],row['destination_node'],test_graph),axis = 1)"
   ]
  },
  {
   "cell_type": "code",
   "execution_count": null,
   "metadata": {
    "execution": {
     "iopub.execute_input": "2021-10-08T08:51:37.902147Z",
     "iopub.status.busy": "2021-10-08T08:51:37.901926Z",
     "iopub.status.idle": "2021-10-08T08:51:37.906973Z",
     "shell.execute_reply": "2021-10-08T08:51:37.906305Z",
     "shell.execute_reply.started": "2021-10-08T08:51:37.902122Z"
    },
    "id": "uCEaEEmiI36u"
   },
   "outputs": [],
   "source": [
    "y_train =train_data['indicator_link']\n",
    "y_test = test_data['indicator_link']"
   ]
  },
  {
   "cell_type": "code",
   "execution_count": null,
   "metadata": {
    "execution": {
     "iopub.execute_input": "2021-10-08T08:51:37.908436Z",
     "iopub.status.busy": "2021-10-08T08:51:37.907846Z",
     "iopub.status.idle": "2021-10-08T08:51:37.974412Z",
     "shell.execute_reply": "2021-10-08T08:51:37.973453Z",
     "shell.execute_reply.started": "2021-10-08T08:51:37.908405Z"
    },
    "id": "LTdb0FDQI36u"
   },
   "outputs": [],
   "source": [
    "x_train = train_data.drop(columns = ['source_node','destination_node','indicator_link'],axis = 1)\n",
    "x_test = test_data.drop(columns = ['source_node','destination_node','indicator_link'],axis = 1)"
   ]
  },
  {
   "cell_type": "code",
   "execution_count": null,
   "metadata": {
    "colab": {
     "base_uri": "https://localhost:8080/"
    },
    "execution": {
     "iopub.execute_input": "2021-10-08T08:51:37.976569Z",
     "iopub.status.busy": "2021-10-08T08:51:37.976166Z",
     "iopub.status.idle": "2021-10-08T08:51:37.982416Z",
     "shell.execute_reply": "2021-10-08T08:51:37.981758Z",
     "shell.execute_reply.started": "2021-10-08T08:51:37.976518Z"
    },
    "id": "tDCJuuY7I36u",
    "outputId": "9a8d9f66-cfbb-4055-c3f6-1d58dcaaaa7a"
   },
   "outputs": [
    {
     "name": "stdout",
     "output_type": "stream",
     "text": [
      "Shape of the train:(100002, 60) and the train_data y (100002,)\n"
     ]
    }
   ],
   "source": [
    "print(\"Shape of the train:{0} and the train_data y {1}\".format(x_train.shape,y_train.shape))"
   ]
  },
  {
   "cell_type": "markdown",
   "metadata": {
    "id": "Ha-KfahKI36v"
   },
   "source": [
    "# Random Forest Classifier"
   ]
  },
  {
   "cell_type": "code",
   "execution_count": null,
   "metadata": {
    "colab": {
     "base_uri": "https://localhost:8080/",
     "height": 381
    },
    "execution": {
     "iopub.status.busy": "2021-10-05T10:36:52.160804Z",
     "iopub.status.idle": "2021-10-05T10:36:52.161329Z",
     "shell.execute_reply": "2021-10-05T10:36:52.161169Z",
     "shell.execute_reply.started": "2021-10-05T10:36:52.161148Z"
    },
    "id": "T9l-FJp_I36v",
    "outputId": "bc82c222-00f8-4569-86f0-f22301cc63e5"
   },
   "outputs": [
    {
     "name": "stdout",
     "output_type": "stream",
     "text": [
      "Estimators =  10 Train Score 0.9217564787298156 test Score 0.9120093879005049\n",
      "Estimators =  50 Train Score 0.9211333506628542 test Score 0.9003218157181572\n",
      "Estimators =  100 Train Score 0.9174375287765268 test Score 0.8771366594360088\n",
      "Estimators =  250 Train Score 0.9210364037333947 test Score 0.8917735913830838\n",
      "Estimators =  450 Train Score 0.9215426226255496 test Score 0.9082497095172706\n"
     ]
    },
    {
     "data": {
      "text/plain": [
       "Text(0, 0.5, 'Score')"
      ]
     },
     "execution_count": 34,
     "metadata": {},
     "output_type": "execute_result"
    },
    {
     "data": {
      "image/png": "[encoded data removed]",
      "text/plain": [
       "<Figure size 432x288 with 1 Axes>"
      ]
     },
     "metadata": {
      "needs_background": "light"
     },
     "output_type": "display_data"
    }
   ],
   "source": [
    "from sklearn.ensemble import RandomForestClassifier\n",
    "from sklearn.metrics import f1_score\n",
    "\n",
    "#hyper\n",
    "estimators = [10,50,100,250,450]\n",
    "train_scores = []\n",
    "test_scores = []\n",
    "for i in estimators:\n",
    "    clf = RandomForestClassifier(bootstrap=True, class_weight=None, criterion='gini',\n",
    "            max_depth=5, max_features='auto', max_leaf_nodes=None,\n",
    "            min_impurity_decrease=0.0, min_impurity_split=None,\n",
    "            min_samples_leaf=52, min_samples_split=120,\n",
    "            min_weight_fraction_leaf=0.0, n_estimators=i, n_jobs=-1,random_state=25,verbose=0,warm_start=False)\n",
    "    clf.fit(x_train,y_train)\n",
    "    train_sc = f1_score(y_train,clf.predict(x_train))\n",
    "    test_sc = f1_score(y_test,clf.predict(x_test))\n",
    "    test_scores.append(test_sc)\n",
    "    train_scores.append(train_sc)\n",
    "    print('Estimators = ',i,'Train Score',train_sc,'test Score',test_sc)\n",
    "plt.plot(estimators,train_scores,label='Train Score')\n",
    "plt.plot(estimators,test_scores,label='Test Score')\n",
    "plt.xlabel('Estimators')\n",
    "plt.ylabel('Score')"
   ]
  },
  {
   "cell_type": "code",
   "execution_count": null,
   "metadata": {
    "colab": {
     "base_uri": "https://localhost:8080/",
     "height": 448
    },
    "execution": {
     "iopub.status.busy": "2021-10-05T10:36:52.162303Z",
     "iopub.status.idle": "2021-10-05T10:36:52.162804Z",
     "shell.execute_reply": "2021-10-05T10:36:52.162643Z",
     "shell.execute_reply.started": "2021-10-05T10:36:52.162621Z"
    },
    "id": "f0_i_os9I36v",
    "outputId": "dcc32f7d-29b1-4f15-9623-af2288d4234d"
   },
   "outputs": [
    {
     "name": "stdout",
     "output_type": "stream",
     "text": [
      "depth =  3 Train Score 0.8539938399459117 test Score 0.8404664191257899\n",
      "depth =  9 Train Score 0.9405988692389586 test Score 0.9203800855403157\n",
      "depth =  11 Train Score 0.9566351749370675 test Score 0.9185648480750539\n",
      "depth =  15 Train Score 0.9558810040664079 test Score 0.9226947368421053\n",
      "depth =  20 Train Score 0.9586963372607225 test Score 0.918758982162482\n",
      "depth =  35 Train Score 0.9586751654518284 test Score 0.915993982923367\n",
      "depth =  50 Train Score 0.9586751654518284 test Score 0.915993982923367\n",
      "depth =  70 Train Score 0.9586751654518284 test Score 0.915993982923367\n",
      "depth =  130 Train Score 0.9586751654518284 test Score 0.915993982923367\n"
     ]
    },
    {
     "data": {
      "image/png": "[encoded data removed]",
      "text/plain": [
       "<Figure size 432x288 with 1 Axes>"
      ]
     },
     "metadata": {
      "needs_background": "light"
     },
     "output_type": "display_data"
    }
   ],
   "source": [
    "best_estimator = 50\n",
    "depths = [3,9,11,15,20,35,50,70,130]\n",
    "train_scores = []\n",
    "test_scores = []\n",
    "for i in depths:\n",
    "    clf = RandomForestClassifier(bootstrap=True, class_weight=None, criterion='gini',\n",
    "            max_depth=i, max_features='auto', max_leaf_nodes=None,\n",
    "            min_impurity_decrease=0.0, min_impurity_split=None,\n",
    "            min_samples_leaf=70, min_samples_split = 200,\n",
    "            min_weight_fraction_leaf=0.0, n_estimators=50, n_jobs=-1,random_state=25,verbose=0,warm_start=False)\n",
    "    clf.fit(x_train,y_train)\n",
    "    train_sc = f1_score(y_train,clf.predict(x_train))\n",
    "    test_sc = f1_score(y_test,clf.predict(x_test))\n",
    "    test_scores.append(test_sc)\n",
    "    train_scores.append(train_sc)\n",
    "    print('depth = ',i,'Train Score',train_sc,'test Score',test_sc)\n",
    "plt.plot(depths,train_scores,label='Train Score')\n",
    "plt.plot(depths,test_scores,label='Test Score')\n",
    "plt.xlabel('Depth')\n",
    "plt.ylabel('Score')\n",
    "plt.title('Depth vs score at depth of 5 at estimators = 115')\n",
    "plt.show()"
   ]
  },
  {
   "cell_type": "markdown",
   "metadata": {
    "id": "sKz-c8aTI36w"
   },
   "source": [
    "# Hyper Parameter tuning for Lgbm Classifier"
   ]
  },
  {
   "cell_type": "code",
   "execution_count": null,
   "metadata": {
    "colab": {
     "base_uri": "https://localhost:8080/",
     "height": 568
    },
    "execution": {
     "iopub.status.busy": "2021-10-05T10:41:42.11141Z",
     "iopub.status.idle": "2021-10-05T10:41:42.112071Z",
     "shell.execute_reply": "2021-10-05T10:41:42.11189Z",
     "shell.execute_reply.started": "2021-10-05T10:41:42.111869Z"
    },
    "id": "Md0pX9rVI36x",
    "outputId": "de9a2e92-7ba3-42b7-b067-fca86d9687a6"
   },
   "outputs": [
    {
     "name": "stdout",
     "output_type": "stream",
     "text": [
      "Estimators =  10 Train Score 0.9716947549353647 test Score 0.9343950659006421\n",
      "Estimators =  20 Train Score 0.9729790084859312 test Score 0.9339696349008594\n",
      "Estimators =  30 Train Score 0.9755505427030965 test Score 0.9338337620714376\n",
      "Estimators =  50 Train Score 0.9779195091430186 test Score 0.9293502424152605\n",
      "Estimators =  60 Train Score 0.979581135994676 test Score 0.9288497374216499\n",
      "Estimators =  70 Train Score 0.9810651483851462 test Score 0.9290825183115289\n",
      "Estimators =  80 Train Score 0.9822939328015471 test Score 0.9291051885094943\n",
      "Estimators =  90 Train Score 0.983308836853444 test Score 0.9292929292929292\n",
      "Estimators =  100 Train Score 0.9842819191756562 test Score 0.9292552740828602\n",
      "Estimators =  150 Train Score 0.9890950716953849 test Score 0.9282002333227279\n",
      "Estimators =  200 Train Score 0.992860580779721 test Score 0.927328296120214\n",
      "Estimators =  300 Train Score 0.9979595102824678 test Score 0.9263014688689071\n",
      "Estimators =  400 Train Score 0.9995802518488907 test Score 0.9252079919994894\n",
      "Estimators =  500 Train Score 0.9999200735323502 test Score 0.923981341455622\n",
      "Time Estimate : 111.63366293907166\n",
      "CPU times: user 3min 9s, sys: 8.92 s, total: 3min 18s\n",
      "Wall time: 1min 51s\n"
     ]
    },
    {
     "data": {
      "image/png": "[encoded data removed]",
      "text/plain": [
       "<Figure size 432x288 with 1 Axes>"
      ]
     },
     "metadata": {
      "needs_background": "light"
     },
     "output_type": "display_data"
    }
   ],
   "source": [
    "%%time \n",
    "import time\n",
    "import lightgbm as lgb\n",
    "train_scores = []\n",
    "test_scores = []\n",
    "#hyper param tuning \n",
    "start_time = time.time()\n",
    "n_estimators=[10,20,30,50,60,70,80,90,100,150,200,300,400,500]\n",
    "for estimator in n_estimators:\n",
    "    \n",
    "    lgbm  = lgb.LGBMClassifier(learning_rate=0.1,n_estimators = estimator,max_depth= -1,random_state=314, silent=True, metric='None', n_jobs=4,\n",
    "                         min_child_samples = 100,reg_alpha = 1e-1 , reg_lambda = 1e-1)\n",
    "    lgbm.fit(x_train, y_train)\n",
    "    train_pred = lgbm.predict(x_train)\n",
    "    train_f1_score = f1_score(y_train,train_pred)\n",
    "    test_pred =lgbm.predict(x_test)\n",
    "    test_f1_score = f1_score(y_test,test_pred)\n",
    "    test_scores.append(train_f1_score)\n",
    "    train_scores.append(test_f1_score)\n",
    "    \n",
    "    print('Estimators = ',estimator,'Train Score',train_f1_score,'test Score',test_f1_score)\n",
    "print(\"Time Estimate : {0}\".format(time.time() - start_time))\n",
    "plt.plot(n_estimators,train_scores,label='Train Score')\n",
    "plt.plot(n_estimators,test_scores,label='Test Score')\n",
    "plt.xlabel('Estimators')\n",
    "plt.ylabel('Score')"
   ]
  },
  {
   "cell_type": "markdown",
   "metadata": {
    "id": "9hmD2nkUI36x"
   },
   "source": [
    "# Hyper param Tuning with depth"
   ]
  },
  {
   "cell_type": "code",
   "execution_count": null,
   "metadata": {
    "colab": {
     "base_uri": "https://localhost:8080/",
     "height": 449
    },
    "execution": {
     "iopub.status.busy": "2021-10-05T10:41:42.118227Z",
     "iopub.status.idle": "2021-10-05T10:41:42.119142Z",
     "shell.execute_reply": "2021-10-05T10:41:42.118951Z",
     "shell.execute_reply.started": "2021-10-05T10:41:42.11893Z"
    },
    "id": "ZS7Gnyz7I36y",
    "outputId": "baaad75e-c89d-44c1-b251-390548db29cd"
   },
   "outputs": [
    {
     "name": "stdout",
     "output_type": "stream",
     "text": [
      "depth =  3 Train Score 0.9832949018739112 test Score 0.9005226480836237\n",
      "depth =  9 Train Score 0.9998701130016886 test Score 0.923598379876359\n",
      "depth =  11 Train Score 0.9999400563470339 test Score 0.923896142622846\n",
      "depth =  15 Train Score 0.9999700290718003 test Score 0.9254010808970595\n",
      "depth =  20 Train Score 0.9999600383631714 test Score 0.9248845277878291\n",
      "depth =  35 Train Score 0.9999500474549178 test Score 0.9247206555283601\n",
      "depth =  50 Train Score 0.9999500474549178 test Score 0.9247206555283601\n",
      "depth =  70 Train Score 0.9999500474549178 test Score 0.9247206555283601\n",
      "depth =  130 Train Score 0.9999500474549178 test Score 0.9247206555283601\n"
     ]
    },
    {
     "data": {
      "text/plain": [
       "Text(0, 0.5, 'Score')"
      ]
     },
     "execution_count": 37,
     "metadata": {},
     "output_type": "execute_result"
    },
    {
     "data": {
      "image/png": "[encoded data removed]",
      "text/plain": [
       "<Figure size 432x288 with 1 Axes>"
      ]
     },
     "metadata": {
      "needs_background": "light"
     },
     "output_type": "display_data"
    }
   ],
   "source": [
    "import lightgbm as lgb\n",
    "train_scores = []\n",
    "test_scores = []\n",
    "#hyper param tuning \n",
    "depths=[3,9,11,15,20,35,50,70,130]\n",
    "for depth in depths:\n",
    "    \n",
    "    lgbm  = lgb.LGBMClassifier(learning_rate=0.1,n_estimators = 500,max_depth= depth,random_state=314, silent=True, metric='None', n_jobs=4,\n",
    "                         min_child_samples = 20,reg_alpha = 0.1 , reg_lambda = 0.1)\n",
    "    lgbm.fit(x_train, y_train)\n",
    "    train_pred = lgbm.predict(x_train)\n",
    "    train_f1_score = f1_score(y_train,train_pred)\n",
    "    test_pred =lgbm.predict(x_test)\n",
    "    test_f1_score = f1_score(y_test,test_pred)\n",
    "    test_scores.append(train_f1_score)\n",
    "    train_scores.append(test_f1_score)\n",
    "    \n",
    "    print('depth = ',depth,'Train Score',train_f1_score,'test Score',test_f1_score)\n",
    "plt.plot(depths,train_scores,label='Train Score')\n",
    "plt.plot(depths,test_scores,label='Test Score')\n",
    "plt.xlabel('depth')\n",
    "plt.ylabel('Score')"
   ]
  },
  {
   "cell_type": "markdown",
   "metadata": {
    "id": "RUiogyIoI36y"
   },
   "source": [
    "# Hyper param Tuning with Learning Rate"
   ]
  },
  {
   "cell_type": "code",
   "execution_count": null,
   "metadata": {
    "colab": {
     "base_uri": "https://localhost:8080/",
     "height": 416
    },
    "execution": {
     "iopub.status.busy": "2021-10-05T10:41:42.120072Z",
     "iopub.status.idle": "2021-10-05T10:41:42.120827Z",
     "shell.execute_reply": "2021-10-05T10:41:42.120649Z",
     "shell.execute_reply.started": "2021-10-05T10:41:42.120628Z"
    },
    "id": "4z6SrqU7I36y",
    "outputId": "86927fff-63b7-48fa-aec2-a379a6c934cb"
   },
   "outputs": [
    {
     "name": "stdout",
     "output_type": "stream",
     "text": [
      "Learning Rate  =  0.0001 Train Score 0.9706818460031829 test Score 0.9351215281450298\n",
      "Learning Rate  =  0.001 Train Score 0.9709945455472294 test Score 0.9341826800981969\n",
      "Learning Rate  =  0.01 Train Score 0.9781873605797863 test Score 0.929357953582924\n",
      "Learning Rate  =  0.1 Train Score 0.9999600383631714 test Score 0.9248845277878291\n",
      "Learning Rate  =  0.2 Train Score 1.0 test Score 0.9206539160166685\n",
      "Learning Rate  =  0.3 Train Score 1.0 test Score 0.919796389768158\n",
      "CPU times: user 4min 11s, sys: 12.5 s, total: 4min 24s\n",
      "Wall time: 2min 26s\n"
     ]
    },
    {
     "data": {
      "image/png": "[encoded data removed]",
      "text/plain": [
       "<Figure size 432x288 with 1 Axes>"
      ]
     },
     "metadata": {
      "needs_background": "light"
     },
     "output_type": "display_data"
    }
   ],
   "source": [
    "%%time\n",
    "train_scores = []\n",
    "test_scores = []\n",
    "#hyper param tuning \n",
    "learning_rate = [0.0001, 0.001, 0.01, 0.1, 0.2, 0.3]\n",
    "for lr in learning_rate:\n",
    "    \n",
    "    lgbm  = lgb.LGBMClassifier(learning_rate=lr,n_estimators = 500,max_depth= 20,random_state=314, silent=True, metric='None', n_jobs=4,\n",
    "                         min_child_samples = 20,reg_alpha = 0.1 , reg_lambda = 0.1)\n",
    "    lgbm.fit(x_train, y_train)\n",
    "    train_pred = lgbm.predict(x_train)\n",
    "    train_f1_score = f1_score(y_train,train_pred)\n",
    "    test_pred =lgbm.predict(x_test)\n",
    "    test_f1_score = f1_score(y_test,test_pred)\n",
    "    test_scores.append(train_f1_score)\n",
    "    train_scores.append(test_f1_score)\n",
    "    \n",
    "    print('Learning Rate  = ',lr,'Train Score',train_f1_score,'test Score',test_f1_score)\n",
    "plt.plot(learning_rate,train_scores,label='Train Score')\n",
    "plt.plot(learning_rate,test_scores,label='Test Score')\n",
    "plt.xlabel('learning_rate')\n",
    "plt.ylabel('Score')"
   ]
  },
  {
   "cell_type": "markdown",
   "metadata": {
    "id": "yOFLo7U8I36y"
   },
   "source": []
  },
  {
   "cell_type": "code",
   "execution_count": null,
   "metadata": {
    "colab": {
     "base_uri": "https://localhost:8080/",
     "height": 466
    },
    "execution": {
     "iopub.status.busy": "2021-10-05T10:41:42.121748Z",
     "iopub.status.idle": "2021-10-05T10:41:42.122638Z",
     "shell.execute_reply": "2021-10-05T10:41:42.12247Z",
     "shell.execute_reply.started": "2021-10-05T10:41:42.122451Z"
    },
    "id": "Z2CFgBRCI36z",
    "outputId": "24940b65-d313-4edf-d7d7-3b55c65b49dd"
   },
   "outputs": [
    {
     "name": "stdout",
     "output_type": "stream",
     "text": [
      " Alpha  =  0 Train Score 0.9706818460031829 test Score 0.9351215281450298\n",
      " Alpha  =  0.1 Train Score 0.9706818460031829 test Score 0.9351215281450298\n",
      " Alpha  =  1 Train Score 0.9706818460031829 test Score 0.9351215281450298\n",
      " Alpha  =  2 Train Score 0.9708538211729734 test Score 0.9350336760762621\n",
      " Alpha  =  5 Train Score 0.9706877113866967 test Score 0.9326539561885272\n",
      " Alpha  =  7 Train Score 0.9703644896441528 test Score 0.9329583333333332\n",
      " Alpha  =  10 Train Score 0.9705534033200185 test Score 0.9328727787257065\n",
      " Alpha  =  50 Train Score 0.968091001601999 test Score 0.9290481869729876\n",
      " Alpha  =  100 Train Score 0.947678174118998 test Score 0.9224469224469225\n",
      "CPU times: user 5min 20s, sys: 15.6 s, total: 5min 35s\n",
      "Wall time: 3min 5s\n"
     ]
    },
    {
     "data": {
      "image/png": "[encoded data removed]",
      "text/plain": [
       "<Figure size 432x288 with 1 Axes>"
      ]
     },
     "metadata": {
      "needs_background": "light"
     },
     "output_type": "display_data"
    }
   ],
   "source": [
    "%%time\n",
    "train_scores = []\n",
    "test_scores = []\n",
    "best_learning_rate = 0.0001\n",
    "max_depth = 20,\n",
    "best_estimators = 500\n",
    "#hyper param tuning \n",
    "reg_alpha =  [0, 1e-1, 1, 2, 5, 7, 10, 50, 100]\n",
    "for alpha in reg_alpha:\n",
    "    \n",
    "    lgbm  = lgb.LGBMClassifier(learning_rate=best_learning_rate,n_estimators =best_estimators ,max_depth= max_depth,random_state=314, silent=True, metric='None', n_jobs=4,\n",
    "                         min_child_samples = 20,reg_alpha = alpha , reg_lambda = 0.1)\n",
    "    lgbm.fit(x_train, y_train)\n",
    "    train_pred = lgbm.predict(x_train)\n",
    "    train_f1_score = f1_score(y_train,train_pred)\n",
    "    test_pred =lgbm.predict(x_test)\n",
    "    test_f1_score = f1_score(y_test,test_pred)\n",
    "    test_scores.append(train_f1_score)\n",
    "    train_scores.append(test_f1_score)\n",
    "    \n",
    "    print(' Alpha  = ',alpha,'Train Score',train_f1_score,'test Score',test_f1_score)\n",
    "plt.plot(reg_alpha,train_scores,label='Train Score')\n",
    "plt.plot(reg_alpha,test_scores,label='Test Score')\n",
    "plt.xlabel('Alpha')\n",
    "plt.ylabel('Score')"
   ]
  },
  {
   "cell_type": "code",
   "execution_count": null,
   "metadata": {
    "colab": {
     "base_uri": "https://localhost:8080/",
     "height": 466
    },
    "execution": {
     "iopub.status.busy": "2021-10-05T10:41:42.123444Z",
     "iopub.status.idle": "2021-10-05T10:41:42.124338Z",
     "shell.execute_reply": "2021-10-05T10:41:42.124144Z",
     "shell.execute_reply.started": "2021-10-05T10:41:42.124123Z"
    },
    "id": "rhKhsEGGI36z",
    "outputId": "cf3781fd-3680-44e0-c734-9158a599abd8"
   },
   "outputs": [
    {
     "name": "stdout",
     "output_type": "stream",
     "text": [
      " lambda  =  0 Train Score 0.9709020862847417 test Score 0.9344106262822819\n",
      " lambda  =  0.1 Train Score 0.97095156555773 test Score 0.9343655477293399\n",
      " lambda  =  1 Train Score 0.9708625064970802 test Score 0.9345205363563301\n",
      " lambda  =  2 Train Score 0.9715912557193696 test Score 0.935005171722289\n",
      " lambda  =  5 Train Score 0.9715732324772769 test Score 0.9348078424751495\n",
      " lambda  =  7 Train Score 0.9723360240133045 test Score 0.9344286466561349\n",
      " lambda  =  10 Train Score 0.9719781500511792 test Score 0.9351135407905803\n",
      " lambda  =  50 Train Score 0.9706392782113606 test Score 0.9327263530601921\n",
      " lambda  =  100 Train Score 0.9652473355609373 test Score 0.9263090812533191\n",
      "CPU times: user 5min 24s, sys: 16 s, total: 5min 40s\n",
      "Wall time: 3min 7s\n"
     ]
    },
    {
     "data": {
      "image/png": "[encoded data removed]",
      "text/plain": [
       "<Figure size 432x288 with 1 Axes>"
      ]
     },
     "metadata": {
      "needs_background": "light"
     },
     "output_type": "display_data"
    }
   ],
   "source": [
    "%%time\n",
    "train_scores = []\n",
    "test_scores = []\n",
    "best_learning_rate = 0.001\n",
    "max_depth = 20,\n",
    "best_estimators = 500\n",
    "alpha = 1\n",
    "reg_lambda = []\n",
    "#hyper param tuning \n",
    "reg_lambda =  [0, 1e-1, 1, 2, 5, 7, 10, 50, 100]\n",
    "for lamb in reg_alpha:\n",
    "    \n",
    "    lgbm  = lgb.LGBMClassifier(learning_rate=best_learning_rate,n_estimators =best_estimators ,max_depth= max_depth,random_state=314, silent=True, metric='None', n_jobs=4,\n",
    "                         min_child_samples = 20,reg_alpha = alpha , reg_lambda = lamb)\n",
    "    lgbm.fit(x_train, y_train)\n",
    "    train_pred = lgbm.predict(x_train)\n",
    "    train_f1_score = f1_score(y_train,train_pred)\n",
    "    test_pred =lgbm.predict(x_test)\n",
    "    test_f1_score = f1_score(y_test,test_pred)\n",
    "    test_scores.append(train_f1_score)\n",
    "    train_scores.append(test_f1_score)\n",
    "    \n",
    "    print(' lambda  = ',lamb,'Train Score',train_f1_score,'test Score',test_f1_score)\n",
    "plt.plot(reg_lambda,train_scores,label='Train Score')\n",
    "plt.plot(reg_lambda,test_scores,label='Test Score')\n",
    "plt.xlabel('Lambda')\n",
    "plt.ylabel('Score')"
   ]
  },
  {
   "cell_type": "code",
   "execution_count": 115,
   "metadata": {
    "colab": {
     "base_uri": "https://localhost:8080/"
    },
    "execution": {
     "iopub.status.busy": "2021-10-05T10:36:52.180391Z",
     "iopub.status.idle": "2021-10-05T10:36:52.180792Z",
     "shell.execute_reply": "2021-10-05T10:36:52.180617Z",
     "shell.execute_reply.started": "2021-10-05T10:36:52.180593Z"
    },
    "id": "Nv9DJxpCI360",
    "outputId": "cbc5cb2d-8af0-48b0-e298-14936e30c201"
   },
   "outputs": [
    {
     "name": "stdout",
     "output_type": "stream",
     "text": [
      "Train F1 Score : 0.9784861364096336\n",
      "Test F1 Score : 0.9347926947572652\n"
     ]
    }
   ],
   "source": [
    "lgdm_best = lgb.LGBMClassifier(learning_rate=0.001,n_estimators =500 ,max_depth= 30,random_state=314, silent=True, metric='None', n_jobs=4,\n",
    "                         min_child_samples = 200,reg_alpha = 0.1 , reg_lambda = 0.1)\n",
    "lgdm_best.fit(x_train,y_train)\n",
    "train_pred = lgdm_best.predict(x_train)\n",
    "test_pred = lgdm_best.predict(x_test)\n",
    "train_fl_score = f1_score(y_train,train_pred)\n",
    "test_f1_score = f1_score(y_test,test_pred)\n",
    "print(\"Train F1 Score : {0}\".format(train_f1_score))\n",
    "print(\"Test F1 Score : {0}\".format(test_f1_score))"
   ]
  },
  {
   "cell_type": "code",
   "execution_count": null,
   "metadata": {
    "id": "Y2FlbvBKNp1y"
   },
   "outputs": [],
   "source": [
    "\n",
    "def plot_confusion_matrix(test_y, predict_y):\n",
    "    C = confusion_matrix(test_y, predict_y)\n",
    "    \n",
    "    A =(((C.T)/(C.sum(axis=1))).T)\n",
    "    \n",
    "    B =(C/C.sum(axis=0))\n",
    "    plt.figure(figsize=(20,4))\n",
    "    \n",
    "    labels = [0,1]\n",
    "    # representing A in heatmap format\n",
    "    cmap=sns.light_palette(\"#2ecc71\")\n",
    "    plt.subplot(1, 3, 1)\n",
    "    sns.heatmap(C, annot=True, cmap=cmap, fmt=\".3f\", xticklabels=labels, yticklabels=labels)\n",
    "    plt.xlabel('Predicted Class')\n",
    "    plt.ylabel('Original Class')\n",
    "    plt.title(\"Confusion matrix\")\n",
    "    \n",
    "    plt.subplot(1, 3, 2)\n",
    "    sns.heatmap(B, annot=True, cmap=cmap, fmt=\".3f\", xticklabels=labels, yticklabels=labels)\n",
    "    plt.xlabel('Predicted Class')\n",
    "    plt.ylabel('Original Class')\n",
    "    plt.title(\"Precision matrix\")\n",
    "    \n",
    "    plt.subplot(1, 3, 3)\n",
    "    # representing B in heatmap format\n",
    "    sns.heatmap(A, annot=True, cmap=cmap, fmt=\".3f\", xticklabels=labels, yticklabels=labels)\n",
    "    plt.xlabel('Predicted Class')\n",
    "    plt.ylabel('Original Class')\n",
    "    plt.title(\"Recall matrix\")\n",
    "    \n",
    "    plt.show()"
   ]
  },
  {
   "cell_type": "code",
   "execution_count": 118,
   "metadata": {
    "colab": {
     "base_uri": "https://localhost:8080/",
     "height": 730
    },
    "execution": {
     "iopub.status.busy": "2021-10-05T10:36:52.18277Z",
     "iopub.status.idle": "2021-10-05T10:36:52.183136Z",
     "shell.execute_reply": "2021-10-05T10:36:52.182973Z",
     "shell.execute_reply.started": "2021-10-05T10:36:52.18295Z"
    },
    "id": "gCBj3gJvI360",
    "outputId": "cd440aaf-694d-4613-b8ef-d351c8d2823a"
   },
   "outputs": [
    {
     "data": {
      "image/png": "[encoded data removed]",
      "text/plain": [
       "<Figure size 720x864 with 1 Axes>"
      ]
     },
     "metadata": {
      "needs_background": "light"
     },
     "output_type": "display_data"
    }
   ],
   "source": [
    "features = x_train.columns\n",
    "#important Feature\n",
    "importances = lgdm_best.feature_importances_\n",
    "indices = (np.argsort(importances))[-25:]\n",
    "plt.figure(figsize=(10,12))\n",
    "plt.title('Feature Importances')\n",
    "plt.barh(range(len(indices)), importances[indices], color='b', align='center')\n",
    "plt.yticks(range(len(indices)), [features[i] for i in indices])\n",
    "plt.xlabel('Relative Importance')\n",
    "plt.show()"
   ]
  },
  {
   "cell_type": "code",
   "execution_count": 116,
   "metadata": {
    "colab": {
     "base_uri": "https://localhost:8080/",
     "height": 509
    },
    "id": "8qPr5ls5KlgO",
    "outputId": "e53ba5e3-0075-4ba2-d61f-54192161f5f9"
   },
   "outputs": [
    {
     "name": "stdout",
     "output_type": "stream",
     "text": [
      "Train confusion_matrix\n"
     ]
    },
    {
     "data": {
      "image/png": "[encoded data removed]",
      "text/plain": [
       "<Figure size 1440x288 with 6 Axes>"
      ]
     },
     "metadata": {
      "needs_background": "light"
     },
     "output_type": "display_data"
    },
    {
     "name": "stdout",
     "output_type": "stream",
     "text": [
      "Test confusion_matrix\n"
     ]
    },
    {
     "data": {
      "image/png": "[encoded data removed]",
      "text/plain": [
       "<Figure size 1440x288 with 6 Axes>"
      ]
     },
     "metadata": {
      "needs_background": "light"
     },
     "output_type": "display_data"
    }
   ],
   "source": [
    "print('Train confusion_matrix')\n",
    "plot_confusion_matrix(y_train,train_pred)\n",
    "print('Test confusion_matrix')\n",
    "plot_confusion_matrix(y_test,test_pred)"
   ]
  },
  {
   "cell_type": "code",
   "execution_count": 117,
   "metadata": {
    "colab": {
     "base_uri": "https://localhost:8080/",
     "height": 295
    },
    "id": "x6Ld7RfpLXkO",
    "outputId": "124b6792-50eb-46dd-c497-977e44db939f",
    "scrolled": true
   },
   "outputs": [
    {
     "data": {
      "image/png": "[encoded data removed]",
      "text/plain": [
       "<Figure size 432x288 with 1 Axes>"
      ]
     },
     "metadata": {
      "needs_background": "light"
     },
     "output_type": "display_data"
    }
   ],
   "source": [
    "fpr,tpr,ths = roc_curve(y_test,test_pred)\n",
    "auc_sc = auc(fpr, tpr)\n",
    "plt.plot(fpr, tpr, color='navy',label='ROC curve (area = %0.2f)' % auc_sc)\n",
    "plt.xlabel('False Positive Rate')\n",
    "plt.ylabel('True Positive Rate')\n",
    "plt.title('Receiver operating characteristic with test data')\n",
    "plt.legend()\n",
    "plt.show()"
   ]
  },
  {
   "cell_type": "markdown",
   "metadata": {},
   "source": [
    "### Observation\n",
    "1.To Build  Model GBDT algorithm Using LGBM we got Auc Score as 0.94\n",
    "\n",
    "2.As We see the Feature Important Shortest Path is the Most Important Features,weight Feature is 2nd Important Feature"
   ]
  },
  {
   "cell_type": "markdown",
   "metadata": {},
   "source": [
    "# XGBoost Model"
   ]
  },
  {
   "cell_type": "code",
   "execution_count": 125,
   "metadata": {
    "colab": {
     "base_uri": "https://localhost:8080/",
     "height": 534
    },
    "id": "zBLrUlyMTgGr",
    "outputId": "5a7dc899-75f5-4b61-fd73-87a2f8c44514"
   },
   "outputs": [
    {
     "name": "stdout",
     "output_type": "stream",
     "text": [
      "Estimators =  10 Train Score 0.9989708336247639 test Score 0.9322752655666121\n",
      "Estimators =  20 Train Score 0.9996803643846016 test Score 0.9337652230612287\n",
      "Estimators =  30 Train Score 0.9998501723018529 test Score 0.9337515525335243\n",
      "Estimators =  50 Train Score 0.9999800203792133 test Score 0.9328977871443626\n",
      "Estimators =  60 Train Score 0.9999900100898093 test Score 0.9325880615903817\n",
      "Estimators =  70 Train Score 1.0 test Score 0.9286606670195872\n",
      "Estimators =  80 Train Score 1.0 test Score 0.9283565648434521\n",
      "Estimators =  90 Train Score 1.0 test Score 0.9284836673304242\n",
      "Estimators =  100 Train Score 1.0 test Score 0.9284806372341329\n",
      "Estimators =  150 Train Score 1.0 test Score 0.9286501143970849\n",
      "Estimators =  200 Train Score 1.0 test Score 0.9284382679433947\n",
      "Estimators =  300 Train Score 1.0 test Score 0.9285774803016181\n",
      "Time Estimate : 1672.796641588211\n",
      "CPU times: user 53min 11s, sys: 16.3 s, total: 53min 27s\n",
      "Wall time: 27min 52s\n"
     ]
    },
    {
     "data": {
      "image/png": "[encoded data removed]",
      "text/plain": [
       "<Figure size 432x288 with 1 Axes>"
      ]
     },
     "metadata": {
      "needs_background": "light"
     },
     "output_type": "display_data"
    }
   ],
   "source": [
    "# class xgboost.XGBClassifier(max_depth=3, learning_rate=0.1, n_estimators=100, silent=True, \n",
    "# objective='binary:logistic', booster='gbtree', n_jobs=1, nthread=None, gamma=0, min_child_weight=1, \n",
    "# max_delta_step=0, subsample=1, colsample_bytree=1, colsample_bylevel=1, reg_alpha=0, reg_lambda=1, \n",
    "# scale_pos_weight=1, base_score=0.5, random_state=0, seed=None, missing=None, **kwargs)\n",
    "%%time\n",
    "train_scores = []\n",
    "test_scores = []\n",
    "#hyper param tuning \n",
    "start_time = time.time()\n",
    "n_estimators=[10,20,30,50,60,70,80,90,100,150,200,300]\n",
    "for estimator in n_estimators:\n",
    "    \n",
    "    xgboost  = xgb.XGBClassifier(learning_rate=0.1,n_estimators = estimator,max_depth= 50,random_state=314, silent=True, metric='None', n_jobs=4,\n",
    "                         min_child_samples = 100,reg_alpha = 1e-1 , reg_lambda = 1e-1)\n",
    "    xgboost.fit(x_train,y_train)  \n",
    "    train_pred = xgboost.predict(x_train)\n",
    "    train_f1_score = f1_score(y_train,train_pred)\n",
    "    test_pred =xgboost.predict(x_test)\n",
    "    test_f1_score = f1_score(y_test,test_pred)\n",
    "    test_scores.append(train_f1_score)\n",
    "    train_scores.append(test_f1_score)\n",
    "    \n",
    "    print('Estimators = ',estimator,'Train Score',train_f1_score,'test Score',test_f1_score)\n",
    "print(\"Time Estimate : {0}\".format(time.time() - start_time))\n",
    "plt.plot(n_estimators,train_scores,label='Train Score')\n",
    "plt.plot(n_estimators,test_scores,label='Test Score')\n",
    "plt.xlabel('Estimators')\n",
    "plt.ylabel('Score')"
   ]
  },
  {
   "cell_type": "code",
   "execution_count": null,
   "metadata": {
    "colab": {
     "base_uri": "https://localhost:8080/",
     "height": 466
    },
    "id": "ro3RyK8BuzoH",
    "outputId": "097e0395-692d-4970-9d22-bde31a5f70f6"
   },
   "outputs": [
    {
     "name": "stdout",
     "output_type": "stream",
     "text": [
      "Depth =  3 Train Score 0.9622414671421294 test Score 0.9256114560892156\n",
      "Depth =  5 Train Score 0.9643581629341123 test Score 0.9273667830256129\n",
      "Depth =  7 Train Score 0.9737640694617828 test Score 0.9331163065995857\n",
      "Depth =  9 Train Score 0.9777988960106759 test Score 0.9334880776535134\n",
      "Depth =  11 Train Score 0.9828739819757996 test Score 0.9339746023710078\n",
      "Depth =  23 Train Score 0.9998601566245804 test Score 0.9331704543061143\n",
      "Depth =  30 Train Score 0.9998501723018529 test Score 0.9338975201044167\n",
      "Depth =  40 Train Score 0.9998501723018529 test Score 0.9337515525335243\n",
      "Depth =  50 Train Score 0.9998501723018529 test Score 0.9337515525335243\n",
      "Time Estimate : 289.776132106781\n"
     ]
    },
    {
     "data": {
      "text/plain": [
       "Text(0, 0.5, 'Score')"
      ]
     },
     "execution_count": 66,
     "metadata": {},
     "output_type": "execute_result"
    },
    {
     "data": {
      "image/png": "[encoded data removed]",
      "text/plain": [
       "<Figure size 432x288 with 1 Axes>"
      ]
     },
     "metadata": {
      "needs_background": "light"
     },
     "output_type": "display_data"
    }
   ],
   "source": [
    "train_scores = []\n",
    "test_scores = []\n",
    "#hyper param tuning \n",
    "start_time = time.time()\n",
    "best_estimator = 30\n",
    "max_depth = [3,5,7,9,11,23,30,40,50]\n",
    "for depth in max_depth:\n",
    "    \n",
    "    xgboost  = xgb.XGBClassifier(learning_rate=0.1,n_estimators = best_estimator,max_depth= depth,random_state=314, silent=True, metric='None', n_jobs=4,\n",
    "                         min_child_samples = 100,reg_alpha = 1e-1 , reg_lambda = 1e-1)\n",
    "    \n",
    "    xgboost.fit(x_train,y_train)\n",
    "      \n",
    "    train_pred = xgboost.predict(x_train)\n",
    "    train_f1_score = f1_score(y_train,train_pred)\n",
    "    test_pred =xgboost.predict(x_test)\n",
    "    test_f1_score = f1_score(y_test,test_pred)\n",
    "    test_scores.append(train_f1_score)\n",
    "    train_scores.append(test_f1_score)\n",
    "    \n",
    "    print('Depth = ',depth,'Train Score',train_f1_score,'test Score',test_f1_score)\n",
    "print(\"Time Estimate : {0}\".format(time.time() - start_time))\n",
    "plt.plot(max_depth,train_scores,label='Train Score')\n",
    "plt.plot(max_depth,test_scores,label='Test Score')\n",
    "plt.xlabel('Depth')\n",
    "plt.ylabel('Score')"
   ]
  },
  {
   "cell_type": "code",
   "execution_count": null,
   "metadata": {
    "colab": {
     "base_uri": "https://localhost:8080/"
    },
    "id": "wf96ab7f5-Lq",
    "outputId": "b4d681a7-37e8-4970-8547-d7dd2dfa220a"
   },
   "outputs": [
    {
     "name": "stdout",
     "output_type": "stream",
     "text": [
      "Learning Rate  =  0.0001 Train Score 0.992349901870469 test Score 0.9269912890894279\n",
      "Learning Rate  =  0.001 Train Score 0.9932213911667818 test Score 0.9280756042485574\n",
      "Learning Rate  =  0.01 Train Score 0.9973291720433334 test Score 0.930526404164218\n",
      "Learning Rate  =  0.1 Train Score 0.9998501723018529 test Score 0.9338975201044167\n",
      "Learning Rate  =  0.2 Train Score 0.9999900100898093 test Score 0.9290862590095327\n"
     ]
    }
   ],
   "source": [
    "%%time\n",
    "train_scores = []\n",
    "test_scores = []\n",
    "#hyper param tuning \n",
    "learning_rate = [0.0001, 0.001, 0.01, 0.1, 0.2, 0.3]\n",
    "for lr in learning_rate:\n",
    "    \n",
    "    xgboost  = xgb.XGBClassifier(learning_rate=lr,n_estimators = 30,max_depth= 30,random_state=314, silent=True, metric='None', n_jobs=4,\n",
    "                         min_child_samples = 20,reg_alpha = 0.1 , reg_lambda = 0.1)\n",
    "    xgboost.fit(x_train, y_train)\n",
    "    train_pred = xgboost.predict(x_train)\n",
    "    train_f1_score = f1_score(y_train,train_pred)\n",
    "    test_pred =xgboost.predict(x_test)\n",
    "    test_f1_score = f1_score(y_test,test_pred)\n",
    "    test_scores.append(train_f1_score)\n",
    "    train_scores.append(test_f1_score)\n",
    "    \n",
    "    print('Learning Rate  = ',lr,'Train Score',train_f1_score,'test Score',test_f1_score)\n",
    "plt.plot(learning_rate,train_scores,label='Train Score')\n",
    "plt.plot(learning_rate,test_scores,label='Test Score')\n",
    "plt.xlabel('learning_rate')\n",
    "plt.ylabel('Score')"
   ]
  },
  {
   "cell_type": "code",
   "execution_count": 84,
   "metadata": {
    "colab": {
     "base_uri": "https://localhost:8080/",
     "height": 398
    },
    "id": "5Ez5C_2G-Euk",
    "outputId": "82217362-696f-490e-967a-fb3b72d5afcb"
   },
   "outputs": [
    {
     "name": "stdout",
     "output_type": "stream",
     "text": [
      " Alpha  =  0 Train Score 0.9998801342496404 test Score 0.9336027106088346\n",
      " Alpha  =  0.1 Train Score 0.9998501723018529 test Score 0.9338975201044167\n",
      " Alpha  =  0.5 Train Score 0.9996803643846016 test Score 0.9332574895714827\n",
      " Alpha  =  1 Train Score 0.9990308237997703 test Score 0.9333192878963447\n",
      " Alpha  =  2 Train Score 0.9964370070859523 test Score 0.933423226023934\n",
      "CPU times: user 8min 9s, sys: 3.17 s, total: 8min 12s\n",
      "Wall time: 4min 18s\n"
     ]
    },
    {
     "data": {
      "image/png": "[encoded data removed]",
      "text/plain": [
       "<Figure size 432x288 with 1 Axes>"
      ]
     },
     "metadata": {
      "needs_background": "light"
     },
     "output_type": "display_data"
    }
   ],
   "source": [
    "%%time\n",
    "train_scores = []\n",
    "test_scores = []\n",
    "best_learning_rate = 0.1\n",
    "max_depth = 30\n",
    "best_estimators = 30\n",
    "#hyper param tuning \n",
    "reg_alpha =  [0, 1e-1, 0.5,1, 2]\n",
    "for alpha in reg_alpha:\n",
    "    \n",
    "    xgboost  = xgb.XGBClassifier(learning_rate=best_learning_rate,n_estimators =best_estimators ,max_depth= max_depth,random_state=314, silent=True, metric='None', n_jobs=4,\n",
    "                         min_child_samples = 20,reg_alpha = alpha , reg_lambda = 0.1)\n",
    "    xgboost.fit(x_train, y_train)\n",
    "    train_pred = xgboost.predict(x_train)\n",
    "    train_f1_score = f1_score(y_train,train_pred)\n",
    "    test_pred =xgboost.predict(x_test)\n",
    "    test_f1_score = f1_score(y_test,test_pred)\n",
    "    test_scores.append(train_f1_score)\n",
    "    train_scores.append(test_f1_score)\n",
    "    \n",
    "    print(' Alpha  = ',alpha,'Train Score',train_f1_score,'test Score',test_f1_score)\n",
    "plt.plot(reg_alpha,train_scores,label='Train Score')\n",
    "plt.plot(reg_alpha,test_scores,label='Test Score')\n",
    "plt.xlabel('Alpha')\n",
    "plt.ylabel('Score')"
   ]
  },
  {
   "cell_type": "code",
   "execution_count": 91,
   "metadata": {
    "colab": {
     "base_uri": "https://localhost:8080/",
     "height": 484
    },
    "id": "90kqk4_R-9Vr",
    "outputId": "b92aada6-d075-48fb-ced9-ba010b2c032b"
   },
   "outputs": [
    {
     "name": "stdout",
     "output_type": "stream",
     "text": [
      " Min_leaf_samples  =  1.0 Train Score 0.9784861364096336 test Score 0.9336850991979739\n",
      " Min_leaf_samples  =  12.0 Train Score 0.9784861364096336 test Score 0.9336850991979739\n",
      " Min_leaf_samples  =  23.0 Train Score 0.9784861364096336 test Score 0.9336850991979739\n",
      " Min_leaf_samples  =  34.0 Train Score 0.9784861364096336 test Score 0.9336850991979739\n",
      " Min_leaf_samples  =  45.0 Train Score 0.9784861364096336 test Score 0.9336850991979739\n",
      " Min_leaf_samples  =  56.0 Train Score 0.9784861364096336 test Score 0.9336850991979739\n",
      " Min_leaf_samples  =  67.0 Train Score 0.9784861364096336 test Score 0.9336850991979739\n",
      " Min_leaf_samples  =  78.0 Train Score 0.9784861364096336 test Score 0.9336850991979739\n",
      " Min_leaf_samples  =  89.0 Train Score 0.9784861364096336 test Score 0.9336850991979739\n",
      " Min_leaf_samples  =  100.0 Train Score 0.9784861364096336 test Score 0.9336850991979739\n",
      "CPU times: user 13min 25s, sys: 4.07 s, total: 13min 29s\n",
      "Wall time: 7min 3s\n"
     ]
    },
    {
     "data": {
      "image/png": "[encoded data removed]",
      "text/plain": [
       "<Figure size 432x288 with 1 Axes>"
      ]
     },
     "metadata": {
      "needs_background": "light"
     },
     "output_type": "display_data"
    }
   ],
   "source": [
    "%%time\n",
    "train_scores = []\n",
    "test_scores = []\n",
    "best_learning_rate = 0.1\n",
    "max_depth = 30\n",
    "best_estimators = 30\n",
    "alpha = 0.1\n",
    "#hyper param tuning \n",
    "min_child_samples =  np.linspace(1,100,num = 10)\n",
    "for samples in min_child_samples:\n",
    "    \n",
    "    xgboost  = xgb.XGBClassifier(learning_rate=best_learning_rate,n_estimators =best_estimators ,max_depth= max_depth,random_state=314, silent=True, metric='None', n_jobs=4,\n",
    "                         min_child_samples = samples,reg_alpha = alpha , reg_lambda = lamb)\n",
    "    xgboost.fit(x_train, y_train)\n",
    "    train_pred = xgboost.predict(x_train)\n",
    "    train_f1_score = f1_score(y_train,train_pred)\n",
    "    test_pred =xgboost.predict(x_test)\n",
    "    test_f1_score = f1_score(y_test,test_pred)\n",
    "    test_scores.append(train_f1_score)\n",
    "    train_scores.append(test_f1_score)\n",
    "    \n",
    "    print(' Min_leaf_samples  = ',samples,'Train Score',train_f1_score,'test Score',test_f1_score)\n",
    "plt.plot(min_child_samples,train_scores,label='Train Score')\n",
    "plt.plot(min_child_samples,test_scores,label='Test Score')\n",
    "plt.xlabel('Min Child Samples')\n",
    "plt.ylabel('Score')"
   ]
  },
  {
   "cell_type": "code",
   "execution_count": 95,
   "metadata": {
    "colab": {
     "base_uri": "https://localhost:8080/"
    },
    "id": "pbQFlDbMCp5J",
    "outputId": "71732f40-b73e-490f-c62c-8efc9a2ff94f"
   },
   "outputs": [
    {
     "name": "stdout",
     "output_type": "stream",
     "text": [
      "Training F1 Score : 0.9784861364096336\n",
      "Test F1 Score : 0.9335099671965682\n"
     ]
    }
   ],
   "source": [
    "best_learning_rate = 0.1\n",
    "max_depth = 30\n",
    "best_estimators = 20\n",
    "alpha = 0.1\n",
    "#hyper param tuning \n",
    "best_min_child_samples =  100\n",
    "lamb = 0.1\n",
    "\n",
    "best_xg_boost_model_2 = xgb.XGBClassifier(learning_rate=best_learning_rate,n_estimators =best_estimators ,max_depth= max_depth,random_state=314, silent=True, metric='None', n_jobs=4,\n",
    "                         min_child_samples = best_min_child_samples,reg_alpha = alpha , reg_lambda = lamb)\n",
    "best_xg_boost_model_2.fit(x_train,y_train)\n",
    "y_train_pred = best_xg_boost_model_2.predict(x_train)\n",
    "y_test_pred = best_xg_boost_model_2.predict(x_test)\n",
    "train_fl_score = f1_score(y_train,y_train_pred)\n",
    "test_f1_score = f1_score(y_test,y_test_pred)\n",
    "print(\"Training F1 Score : {0}\".format(train_f1_score))\n",
    "print(\"Test F1 Score : {0}\".format(test_f1_score))"
   ]
  },
  {
   "cell_type": "code",
   "execution_count": 119,
   "metadata": {
    "colab": {
     "base_uri": "https://localhost:8080/",
     "height": 730
    },
    "id": "K19bh1kF935V",
    "outputId": "0f1034b9-b536-4d3d-8afe-ac7b217a40bf"
   },
   "outputs": [
    {
     "data": {
      "image/png": "[encoded data removed]",
      "text/plain": [
       "<Figure size 720x864 with 1 Axes>"
      ]
     },
     "metadata": {
      "needs_background": "light"
     },
     "output_type": "display_data"
    }
   ],
   "source": [
    "features = x_train.columns\n",
    "importances = best_xg_boost_model_2.feature_importances_\n",
    "indices = (np.argsort(importances))[-25:]\n",
    "plt.figure(figsize=(10,12))\n",
    "plt.title('Feature Importances')\n",
    "plt.barh(range(len(indices)), importances[indices], color='b', align='center')\n",
    "plt.yticks(range(len(indices)), [features[i] for i in indices])\n",
    "plt.xlabel('Relative Importance')\n",
    "plt.show()"
   ]
  },
  {
   "cell_type": "code",
   "execution_count": 109,
   "metadata": {
    "colab": {
     "base_uri": "https://localhost:8080/",
     "height": 509
    },
    "id": "DrHPinlrIOlt",
    "outputId": "116d1990-cfa3-4fbd-c390-a307c986defb"
   },
   "outputs": [
    {
     "name": "stdout",
     "output_type": "stream",
     "text": [
      "Train confusion_matrix\n"
     ]
    },
    {
     "data": {
      "image/png": "[encoded data removed]",
      "text/plain": [
       "<Figure size 1440x288 with 6 Axes>"
      ]
     },
     "metadata": {
      "needs_background": "light"
     },
     "output_type": "display_data"
    },
    {
     "name": "stdout",
     "output_type": "stream",
     "text": [
      "Test confusion_matrix\n"
     ]
    },
    {
     "data": {
      "image/png": "[encoded data removed]",
      "text/plain": [
       "<Figure size 1440x288 with 6 Axes>"
      ]
     },
     "metadata": {
      "needs_background": "light"
     },
     "output_type": "display_data"
    }
   ],
   "source": [
    "print('Train confusion_matrix')\n",
    "plot_confusion_matrix(y_train,y_train_pred)\n",
    "print('Test confusion_matrix')\n",
    "plot_confusion_matrix(y_test,y_test_pred)"
   ]
  },
  {
   "cell_type": "code",
   "execution_count": 124,
   "metadata": {
    "colab": {
     "base_uri": "https://localhost:8080/",
     "height": 295
    },
    "id": "topOil_VNOba",
    "outputId": "cb67e7e9-99ff-4deb-bfbe-90b4e1fd8ddc",
    "scrolled": true
   },
   "outputs": [
    {
     "data": {
      "image/png": "[encoded data removed]",
      "text/plain": [
       "<Figure size 432x288 with 1 Axes>"
      ]
     },
     "metadata": {
      "needs_background": "light"
     },
     "output_type": "display_data"
    }
   ],
   "source": [
    "fpr,tpr,ths = roc_curve(y_test,y_test_pred)\n",
    "auc_sc = auc(fpr, tpr)\n",
    "plt.plot(fpr, tpr, color='navy',label='ROC curve (area = %0.2f)' % auc_sc)\n",
    "plt.xlabel('False Positive Rate')\n",
    "plt.ylabel('True Positive Rate')\n",
    "plt.title('Receiver operating characteristic with test data')\n",
    "plt.legend()\n",
    "plt.show()"
   ]
  },
  {
   "cell_type": "markdown",
   "metadata": {},
   "source": [
    "### Observation\n",
    "1.To Build  Model GBDT algorithm Using XGB we got Auc Score as 0.94\n",
    "\n",
    "2.As We see the Feature Important Follow Back and Cosine Followers is the most Important Features\n",
    "\n",
    "3.We Observe XGBClaasifier and LGBClassifier,Both the Model we get AUC as 0.94,But in the Case LGB classifier Feature Importance is changes\n",
    "LGB - (Shortest path,page Rank and weights more no of features are important).XGB Classifier (Follow Back and Cosine Follower those features consider as value)\n",
    "rest of the feauture value is 0\n",
    "\n",
    "4.We notice LGBClassifier model is fast as compared to XGBClassifier"
   ]
  },
  {
   "cell_type": "markdown",
   "metadata": {},
   "source": [
    "# Hyperparam Tuning Using Random Search CV "
   ]
  },
  {
   "cell_type": "code",
   "execution_count": null,
   "metadata": {
    "colab": {
     "base_uri": "https://localhost:8080/"
    },
    "id": "oPeFjJxba-0N",
    "outputId": "bc077327-38b6-48af-adc9-c406b3fe1266"
   },
   "outputs": [
    {
     "name": "stdout",
     "output_type": "stream",
     "text": [
      "Fitting 5 folds for each of 10 candidates, totalling 50 fits\n"
     ]
    },
    {
     "name": "stderr",
     "output_type": "stream",
     "text": [
      "[Parallel(n_jobs=-1)]: Using backend LokyBackend with 2 concurrent workers.\n",
      "[Parallel(n_jobs=-1)]: Done   1 tasks      | elapsed:  2.6min\n",
      "[Parallel(n_jobs=-1)]: Done   4 tasks      | elapsed:  5.1min\n",
      "[Parallel(n_jobs=-1)]: Done   9 tasks      | elapsed: 14.6min\n",
      "[Parallel(n_jobs=-1)]: Done  14 tasks      | elapsed: 19.2min\n",
      "[Parallel(n_jobs=-1)]: Done  21 tasks      | elapsed: 24.3min\n",
      "[Parallel(n_jobs=-1)]: Done  28 tasks      | elapsed: 27.5min\n",
      "[Parallel(n_jobs=-1)]: Done  37 tasks      | elapsed: 30.3min\n",
      "[Parallel(n_jobs=-1)]: Done  46 tasks      | elapsed: 34.7min\n",
      "[Parallel(n_jobs=-1)]: Done  50 out of  50 | elapsed: 35.9min finished\n"
     ]
    },
    {
     "data": {
      "text/plain": [
       "RandomizedSearchCV(cv=None, error_score=nan,\n",
       "                   estimator=XGBClassifier(base_score=0.5, booster='gbtree',\n",
       "                                           colsample_bylevel=1,\n",
       "                                           colsample_bynode=1,\n",
       "                                           colsample_bytree=1, gamma=0,\n",
       "                                           learning_rate=0.1, max_delta_step=0,\n",
       "                                           max_depth=3, min_child_weight=1,\n",
       "                                           missing=None, n_estimators=100,\n",
       "                                           n_jobs=1, nthread=None,\n",
       "                                           objective='binary:logistic',\n",
       "                                           random_state=0, reg_alpha=0,\n",
       "                                           reg_lambda=1...\n",
       "                                        'n_estimators': [10, 20, 30, 50, 60, 70,\n",
       "                                                         80, 90, 100, 150, 200,\n",
       "                                                         300, 400, 500],\n",
       "                                        'reg_alpha': <scipy.stats._distn_infrastructure.rv_frozen object at 0x7f15cd3f2bd0>,\n",
       "                                        'reg_lambda': <scipy.stats._distn_infrastructure.rv_frozen object at 0x7f15cd3f2a10>,\n",
       "                                        'subsample': [0.1, 0.3, 0.5, 1]},\n",
       "                   pre_dispatch='2*n_jobs', random_state=None, refit=True,\n",
       "                   return_train_score=False, scoring=None, verbose=10)"
      ]
     },
     "execution_count": 49,
     "metadata": {},
     "output_type": "execute_result"
    }
   ],
   "source": [
    "from sklearn.model_selection import RandomizedSearchCV\n",
    "from scipy.stats import randint, uniform\n",
    "xgboost = xgb.XGBClassifier()\n",
    "prams={\n",
    "    'learning_rate':[0.01,0.03,0.05,0.1,0.15,0.2],\n",
    "     'n_estimators':[10,20,30,50,60,70,80,90,100,150,200,300,400,500],\n",
    "     'max_depth':[3,5,10,20],\n",
    "    'colsample_bytree':[0.1,0.3,0.5,1],\n",
    "    'subsample':[0.1,0.3,0.5,1],\n",
    "    'reg_lambda': uniform(0, 1),\n",
    "  'reg_alpha': uniform(0, 1)\n",
    "}\n",
    "random_search_param=RandomizedSearchCV(xgboost,param_distributions=prams,verbose=10,n_jobs=-1,)\n",
    "random_search_param.fit(x_train,y_train)"
   ]
  },
  {
   "cell_type": "code",
   "execution_count": null,
   "metadata": {
    "colab": {
     "base_uri": "https://localhost:8080/"
    },
    "id": "Kf4pJgGnl-bE",
    "outputId": "2f3629e0-e16a-498a-d89d-4037a35f6534"
   },
   "outputs": [
    {
     "name": "stdout",
     "output_type": "stream",
     "text": [
      "Best Param of the XGBOOSE : {'colsample_bytree': 0.3, 'learning_rate': 0.2, 'max_depth': 3, 'n_estimators': 500, 'reg_alpha': 0.5821950113933088, 'reg_lambda': 0.6915228927272138, 'subsample': 1}\n"
     ]
    }
   ],
   "source": [
    "print(\"Best Param of the XGBOOSE : {0}\".format(random_search_param.best_params_))"
   ]
  },
  {
   "cell_type": "markdown",
   "metadata": {
    "id": "E1ujOs4RoNS4"
   },
   "source": [
    "# HyperparamTuning Using Random Search CV"
   ]
  },
  {
   "cell_type": "code",
   "execution_count": 104,
   "metadata": {
    "colab": {
     "base_uri": "https://localhost:8080/"
    },
    "id": "tw-822XimQFT",
    "outputId": "861daa5b-634a-4746-ec84-9a1b3753e4ad"
   },
   "outputs": [
    {
     "name": "stdout",
     "output_type": "stream",
     "text": [
      "Train_f1_score : 0.9784861364096336\n",
      "Test_f1_score : 0.8996081845885938\n"
     ]
    }
   ],
   "source": [
    "best_xg_boost = xgb.XGBClassifier(colsample_bytree= 0.3,learning_rate= 0.2 ,max_depth = 5,n_estimators = 500,reg_alpha= 0.5821950113933088,subsample = 1,reg_lamda = 0.0691)\n",
    "best_xg_boost.fit(x_train,y_train)\n",
    "xg_boost_train_pred = best_xg_boost.predict(x_train)\n",
    "xg_boost_test_pred = best_xg_boost.predict(x_test)\n",
    "train_fl_score = f1_score(y_train,xg_boost_train_pred)\n",
    "test_f1_score = f1_score(y_test,xg_boost_test_pred)\n",
    "print(\"Train_f1_score : {0}\".format(train_f1_score))\n",
    "print(\"Test_f1_score : {0}\".format(test_f1_score))"
   ]
  },
  {
   "cell_type": "code",
   "execution_count": 107,
   "metadata": {
    "colab": {
     "base_uri": "https://localhost:8080/",
     "height": 509
    },
    "id": "sn62XMIbtPYn",
    "outputId": "cab9df0c-f9cf-4909-a0af-54adb7505666"
   },
   "outputs": [
    {
     "name": "stdout",
     "output_type": "stream",
     "text": [
      "Train confusion_matrix\n"
     ]
    },
    {
     "data": {
      "image/png": "[encoded data removed]",
      "text/plain": [
       "<Figure size 1440x288 with 6 Axes>"
      ]
     },
     "metadata": {
      "needs_background": "light"
     },
     "output_type": "display_data"
    },
    {
     "name": "stdout",
     "output_type": "stream",
     "text": [
      "Test confusion_matrix\n"
     ]
    },
    {
     "data": {
      "image/png": "[encoded data removed]",
      "text/plain": [
       "<Figure size 1440x288 with 6 Axes>"
      ]
     },
     "metadata": {
      "needs_background": "light"
     },
     "output_type": "display_data"
    }
   ],
   "source": [
    "print('Train confusion_matrix')\n",
    "plot_confusion_matrix(y_train,xg_boost_train_pred)\n",
    "print('Test confusion_matrix')\n",
    "plot_confusion_matrix(y_test,xg_boost_test_pred)"
   ]
  },
  {
   "cell_type": "code",
   "execution_count": 120,
   "metadata": {
    "colab": {
     "base_uri": "https://localhost:8080/",
     "height": 730
    },
    "id": "AibF6uNYobzV",
    "outputId": "5926005b-79a7-4b76-f0c6-f381a68cc461"
   },
   "outputs": [
    {
     "data": {
      "image/png": "[encoded data removed]",
      "text/plain": [
       "<Figure size 720x864 with 1 Axes>"
      ]
     },
     "metadata": {
      "needs_background": "light"
     },
     "output_type": "display_data"
    }
   ],
   "source": [
    "features = x_train.columns\n",
    "importances = best_xg_boost.feature_importances_\n",
    "indices = (np.argsort(importances))[-25:]\n",
    "plt.figure(figsize=(10,12))\n",
    "plt.title('Feature Importances')\n",
    "plt.barh(range(len(indices)), importances[indices], color='b', align='center')\n",
    "plt.yticks(range(len(indices)), [features[i] for i in indices])\n",
    "plt.xlabel('Relative Importance')\n",
    "plt.show()"
   ]
  },
  {
   "cell_type": "code",
   "execution_count": 113,
   "metadata": {
    "colab": {
     "base_uri": "https://localhost:8080/",
     "height": 295
    },
    "id": "1L38foNNKWWc",
    "outputId": "20cded4f-fe0d-4a14-e85c-cb9529b6c7a0"
   },
   "outputs": [
    {
     "data": {
      "image/png": "[encoded data removed]",
      "text/plain": [
       "<Figure size 432x288 with 1 Axes>"
      ]
     },
     "metadata": {
      "needs_background": "light"
     },
     "output_type": "display_data"
    }
   ],
   "source": [
    "fpr,tpr,ths = roc_curve(y_test,xg_boost_test_pred)\n",
    "auc_sc = auc(fpr, tpr)\n",
    "plt.plot(fpr, tpr, color='navy',label='ROC curve (area = %0.2f)' % auc_sc)\n",
    "plt.xlabel('False Positive Rate')\n",
    "plt.ylabel('True Positive Rate')\n",
    "plt.title('Receiver operating characteristic with test data')\n",
    "plt.legend()\n",
    "plt.show()"
   ]
  },
  {
   "cell_type": "markdown",
   "metadata": {
    "id": "cC6DX-cGs-e_"
   },
   "source": [
    "## Observation:\n",
    "1. After Tuning Hyperparameter using Random Search CV, train the XGBoost Model We got AUC Score is 91\n",
    "2. Feature Importance Resouce Allocation and Common Neighbour Feature is the most Important Features"
   ]
  },
  {
   "cell_type": "markdown",
   "metadata": {},
   "source": [
    "## Conclusion\n"
   ]
  },
  {
   "cell_type": "code",
   "execution_count": 3,
   "metadata": {
    "scrolled": false
   },
   "outputs": [
    {
     "name": "stdout",
     "output_type": "stream",
     "text": [
      "+----------------------------------------+----------+----------+\n",
      "|                 Model                  | F1 Score | Test AUC |\n",
      "+----------------------------------------+----------+----------+\n",
      "|         GBDT Classifier - LGBM         |  0.935   |   0.94   |\n",
      "|         GBDT  Classifier - XGB         |  0.933   |   0.94   |\n",
      "| GBDT Classifier - XGB Random_search CV |   0.89   |   0.91   |\n",
      "+----------------------------------------+----------+----------+\n"
     ]
    }
   ],
   "source": [
    "from prettytable import PrettyTable\n",
    "  \n",
    "# Specify the Column Names while initializing the Table\n",
    "table = PrettyTable([ \"Model\", 'F1 Score',\"Test AUC\"])\n",
    "  \n",
    "# Add rows\n",
    "table.add_row([ \"GBDT Classifier - LGBM\", \"0.935\", \"0.94\"])\n",
    "table.add_row([ \"GBDT  Classifier - XGB\", \"0.933 \", \"0.94\"])\n",
    "table.add_row([ \"GBDT Classifier - XGB Random_search CV\", \"0.89\", \"0.91\"])\n",
    "print(table)"
   ]
  },
  {
   "cell_type": "markdown",
   "metadata": {},
   "source": [
    "We train a Model using XGB and LGBM classifier Both the Model Perform good.LGBM Classifier is 5 times Faster than XGB Classifier "
   ]
  }
 ],
 "metadata": {
  "colab": {
   "collapsed_sections": [],
   "name": "FB-Final.ipynb",
   "provenance": []
  },
  "kernelspec": {
   "display_name": "Python 3",
   "language": "python",
   "name": "python3"
  },
  "language_info": {
   "codemirror_mode": {
    "name": "ipython",
    "version": 3
   },
   "file_extension": ".py",
   "mimetype": "text/x-python",
   "name": "python",
   "nbconvert_exporter": "python",
   "pygments_lexer": "ipython3",
   "version": "3.8.8"
  }
 },
 "nbformat": 4,
 "nbformat_minor": 1
}
