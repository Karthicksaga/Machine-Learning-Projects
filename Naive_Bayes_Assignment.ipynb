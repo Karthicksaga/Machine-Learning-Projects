{
 "cells": [
  {
   "cell_type": "markdown",
   "metadata": {
    "id": "Dnubs-Nnb3cw"
   },
   "source": [
    "# Assignment 6: Apply NB"
   ]
  },
  {
   "cell_type": "markdown",
   "metadata": {
    "id": "RW0zYHb5m_wI"
   },
   "source": [
    "<ol>\n",
    "    <li>Minimum data points need to be considered for people having 4GB RAM is <strong>50k</strong> and for 8GB RAM is <strong>100k</strong></li>\n",
    "    <li>When you are using ramdomsearchcv or gridsearchcv you need not split the data into X_train,X_cv,X_test. As the above methods use kfold. The model will learn better if train data is more so splitting to X_train,X_test will suffice.</li>\n",
    "    <li>If you are writing for loops to tune your model then you need split the data into X_train,X_cv,X_test.</li>\n",
    "    <li>While splitting the data explore stratify parameter. </li>\n",
    "    <li><strong>Apply Multinomial NB on these feature sets</strong></li>\n",
    "        <ul>\n",
    "            <li>Features that need to be considered</li> \n",
    "                <dl>\n",
    "                  <dt>essay</dt>\n",
    "                    <dd>while encoding essay, try to experiment with the max_features and n_grams parameter of vectorizers and see if it increases AUC score.</dd>\n",
    "                  <dt>categorical features</dt>\n",
    "                  <dd> - teacher_prefix</dd>\n",
    "                  <dd> - project_grade_category</dd>\n",
    "                  <dd> - school_state</dd>\n",
    "                  <dd> - clean_categories</dd>\n",
    "                  <dd> - clean_subcategories</dd>\n",
    "                  <dt>numerical features</dt>\n",
    "                  <dd> - price</dd>\n",
    "                  <dd> - teacher_number_of_previously_posted_projects</dd>\n",
    "                  <dd>while encoding the numerical features check <a href='https://imgur.com/ldZA1zg'>this</a> and <a href='https://ac-classroom-production.s3.amazonaws.com/public/COMMENT/Annotation_2020-05-21_225912_0lyZzN8.jpg'>this</a></dd>\n",
    "                </dl>    \n",
    "            <li><font color='red'>Set 1</font>: categorical, numerical features + preprocessed_eassay (BOW)</li>\n",
    "            <li><font color='red'>Set 2</font>: categorical, numerical features + preprocessed_eassay (TFIDF)</li>\n",
    "        </ul>\n",
    "    <li><strong>The hyper paramter tuning(find best alpha:smoothing parameter)</strong>\n",
    "        <ul>\n",
    "    <li>Consider alpha values in range: 10^-5 to 10^2 like [0.00001,0.0005, 0.0001,0.005,0.001,0.05,0.01,0.1,0.5,1,5,10,50,100]</li>\n",
    "    <li>Explore class_prior = [0.5, 0.5] parameter which can be present in MultinomialNB function(go through <a href='https://scikit-learn.org/stable/modules/generated/sklearn.naive_bayes.MultinomialNB.html'>this</a> ) then check how results might change.\n",
    "    <li>Find the best hyper parameter which will give the maximum <a href='https://www.appliedaicourse.com/course/applied-ai-course-online/lessons/receiver-operating-characteristic-curve-roc-curve-and-auc-1/'>AUC</a> value</li>\n",
    "    <li>For hyper parameter tuning using k-fold cross validation(use GridsearchCV or RandomsearchCV)/simple cross validation data (write for loop to iterate over hyper parameter values)</li>\n",
    "    <li>You need to plot the performance of model both on train data and cross validation data for each hyper parameter, like shown in the figure\n",
    "    <img src='https://i.imgur.com/hUv6aEy.jpg' width=300px><dd>-while plotting take log(alpha) on your X-axis so that it will be more readable</dd></li>\n",
    "    <li>Once after you found the best hyper parameter, you need to train your model with it, and find the AUC on test data and plot the ROC curve on both train and test.\n",
    "    <img src='https://imgur.com/q2P65L5.jpg' width=300px></li>\n",
    "    <li>Along with plotting ROC curve, you need to print the <a href='https://www.appliedaicourse.com/course/applied-ai-course-online/lessons/confusion-matrix-tpr-fpr-fnr-tnr-1/'>confusion matrix</a> with predicted and original labels of test data points\n",
    "        <img src='https://i.imgur.com/IdN5Ctv.png' width=300px><dd>-plot the confusion matrix in heatmaps, while plotting the confusion matrix go through the <a href='https://stackoverflow.com/questions/61748441/how-to-fix-the-values-displayed-in-a-confusion-matrix-in-exponential-form-to-nor'>link </a>\n",
    "</dd></li>\n",
    "        </ul>\n",
    "<li>find the top 20 features from either from feature <font color='red'>Set 1</font> or feature <font color='red'>Set 2</font> using values of `feature_log_prob_ ` parameter of `MultinomialNB` \n",
    "(https://scikit-learn.org/stable/modules/generated/sklearn.naive_bayes.MultinomialNB.html) and print <strong>BOTH</strong> positive as well as negative corresponding feature names. <dd> - go through the <a href='https://imgur.com/mWvE7gj'>link </a> </dd>\n",
    "    </li>\n",
    "    <li>You need to summarize the results at the end of the notebook, summarize it in the table format\n",
    "        <img src='http://i.imgur.com/YVpIGGE.jpg' width=400px>\n",
    "    </li>\n",
    "</ol>"
   ]
  },
  {
   "cell_type": "code",
   "execution_count": 1,
   "metadata": {
    "id": "chpSjDaXm9KG"
   },
   "outputs": [],
   "source": [
    "%matplotlib inline\n",
    "import warnings\n",
    "warnings.filterwarnings(\"ignore\")\n",
    "\n",
    "import pandas as pd\n",
    "import numpy as np\n",
    "import nltk\n",
    "import matplotlib.pyplot as plt\n",
    "import seaborn as sns\n",
    "from sklearn.feature_extraction.text import TfidfVectorizer\n",
    "from sklearn.feature_extraction.text import CountVectorizer\n",
    "from sklearn.model_selection import train_test_split\n",
    "from sklearn.metrics import confusion_matrix\n",
    "from sklearn import metrics\n",
    "from sklearn.metrics import roc_curve, auc\n",
    "from sklearn.preprocessing import Normalizer\n",
    "import re\n",
    "# Tutorial about Python regular expressions: https://pymotw.com/2/re/\n",
    "\n",
    "import pickle\n",
    "from tqdm import tqdm\n",
    "import os\n",
    "\n",
    "from collections import Counter"
   ]
  },
  {
   "cell_type": "markdown",
   "metadata": {
    "id": "FYqCIxzFb3c5"
   },
   "source": [
    "## 1.1 Loading Data"
   ]
  },
  {
   "cell_type": "code",
   "execution_count": 2,
   "metadata": {
    "id": "dA1jknyqb3c_"
   },
   "outputs": [],
   "source": [
    "import pandas\n",
    "data = pandas.read_csv('preprocessed_data.csv',nrows = 50000)"
   ]
  },
  {
   "cell_type": "code",
   "execution_count": 3,
   "metadata": {},
   "outputs": [
    {
     "name": "stdout",
     "output_type": "stream",
     "text": [
      "Shape of the Dataset :(50000, 9)\n"
     ]
    }
   ],
   "source": [
    "print(\"Shape of the Dataset :{0}\".format(data.shape))"
   ]
  },
  {
   "cell_type": "code",
   "execution_count": 4,
   "metadata": {
    "scrolled": true
   },
   "outputs": [
    {
     "name": "stdout",
     "output_type": "stream",
     "text": [
      "Index(['school_state', 'teacher_prefix', 'project_grade_category',\n",
      "       'teacher_number_of_previously_posted_projects', 'project_is_approved',\n",
      "       'clean_categories', 'clean_subcategories', 'essay', 'price'],\n",
      "      dtype='object')\n"
     ]
    }
   ],
   "source": [
    "print(data.columns)"
   ]
  },
  {
   "cell_type": "code",
   "execution_count": 5,
   "metadata": {
    "scrolled": false
   },
   "outputs": [
    {
     "name": "stdout",
     "output_type": "stream",
     "text": [
      "AxesSubplot(0.125,0.27;0.775x0.465)\n"
     ]
    },
    {
     "data": {
      "image/png": "[encoded data removed]",
      "text/plain": [
       "<Figure size 432x720 with 1 Axes>"
      ]
     },
     "metadata": {},
     "output_type": "display_data"
    }
   ],
   "source": [
    "#Count of Project is approved\n",
    "plt.figure(figsize = (6,10))\n",
    "print(data.project_is_approved.value_counts().plot.pie(explode = [0.1,0],startangle = 90, shadow = True,autopct = \"%1.1f%%\"))\n",
    "plt.title(\"Project Approved and Rejected Status\")\n",
    "plt.show()"
   ]
  },
  {
   "cell_type": "code",
   "execution_count": 6,
   "metadata": {
    "scrolled": false
   },
   "outputs": [
    {
     "data": {
      "text/html": [
       "<div>\n",
       "<style scoped>\n",
       "    .dataframe tbody tr th:only-of-type {\n",
       "        vertical-align: middle;\n",
       "    }\n",
       "\n",
       "    .dataframe tbody tr th {\n",
       "        vertical-align: top;\n",
       "    }\n",
       "\n",
       "    .dataframe thead th {\n",
       "        text-align: right;\n",
       "    }\n",
       "</style>\n",
       "<table border=\"1\" class=\"dataframe\">\n",
       "  <thead>\n",
       "    <tr style=\"text-align: right;\">\n",
       "      <th></th>\n",
       "      <th>school_state</th>\n",
       "      <th>teacher_prefix</th>\n",
       "      <th>project_grade_category</th>\n",
       "      <th>teacher_number_of_previously_posted_projects</th>\n",
       "      <th>project_is_approved</th>\n",
       "      <th>clean_categories</th>\n",
       "      <th>clean_subcategories</th>\n",
       "      <th>essay</th>\n",
       "      <th>price</th>\n",
       "    </tr>\n",
       "  </thead>\n",
       "  <tbody>\n",
       "    <tr>\n",
       "      <th>0</th>\n",
       "      <td>ca</td>\n",
       "      <td>mrs</td>\n",
       "      <td>grades_prek_2</td>\n",
       "      <td>53</td>\n",
       "      <td>1</td>\n",
       "      <td>math_science</td>\n",
       "      <td>appliedsciences health_lifescience</td>\n",
       "      <td>i fortunate enough use fairy tale stem kits cl...</td>\n",
       "      <td>725.05</td>\n",
       "    </tr>\n",
       "    <tr>\n",
       "      <th>1</th>\n",
       "      <td>ut</td>\n",
       "      <td>ms</td>\n",
       "      <td>grades_3_5</td>\n",
       "      <td>4</td>\n",
       "      <td>1</td>\n",
       "      <td>specialneeds</td>\n",
       "      <td>specialneeds</td>\n",
       "      <td>imagine 8 9 years old you third grade classroo...</td>\n",
       "      <td>213.03</td>\n",
       "    </tr>\n",
       "    <tr>\n",
       "      <th>2</th>\n",
       "      <td>ca</td>\n",
       "      <td>mrs</td>\n",
       "      <td>grades_prek_2</td>\n",
       "      <td>10</td>\n",
       "      <td>1</td>\n",
       "      <td>literacy_language</td>\n",
       "      <td>literacy</td>\n",
       "      <td>having class 24 students comes diverse learner...</td>\n",
       "      <td>329.00</td>\n",
       "    </tr>\n",
       "    <tr>\n",
       "      <th>3</th>\n",
       "      <td>ga</td>\n",
       "      <td>mrs</td>\n",
       "      <td>grades_prek_2</td>\n",
       "      <td>2</td>\n",
       "      <td>1</td>\n",
       "      <td>appliedlearning</td>\n",
       "      <td>earlydevelopment</td>\n",
       "      <td>i recently read article giving students choice...</td>\n",
       "      <td>481.04</td>\n",
       "    </tr>\n",
       "    <tr>\n",
       "      <th>4</th>\n",
       "      <td>wa</td>\n",
       "      <td>mrs</td>\n",
       "      <td>grades_3_5</td>\n",
       "      <td>2</td>\n",
       "      <td>1</td>\n",
       "      <td>literacy_language</td>\n",
       "      <td>literacy</td>\n",
       "      <td>my students crave challenge eat obstacles brea...</td>\n",
       "      <td>17.74</td>\n",
       "    </tr>\n",
       "  </tbody>\n",
       "</table>\n",
       "</div>"
      ],
      "text/plain": [
       "  school_state teacher_prefix project_grade_category  \\\n",
       "0           ca            mrs          grades_prek_2   \n",
       "1           ut             ms             grades_3_5   \n",
       "2           ca            mrs          grades_prek_2   \n",
       "3           ga            mrs          grades_prek_2   \n",
       "4           wa            mrs             grades_3_5   \n",
       "\n",
       "   teacher_number_of_previously_posted_projects  project_is_approved  \\\n",
       "0                                            53                    1   \n",
       "1                                             4                    1   \n",
       "2                                            10                    1   \n",
       "3                                             2                    1   \n",
       "4                                             2                    1   \n",
       "\n",
       "    clean_categories                 clean_subcategories  \\\n",
       "0       math_science  appliedsciences health_lifescience   \n",
       "1       specialneeds                        specialneeds   \n",
       "2  literacy_language                            literacy   \n",
       "3    appliedlearning                    earlydevelopment   \n",
       "4  literacy_language                            literacy   \n",
       "\n",
       "                                               essay   price  \n",
       "0  i fortunate enough use fairy tale stem kits cl...  725.05  \n",
       "1  imagine 8 9 years old you third grade classroo...  213.03  \n",
       "2  having class 24 students comes diverse learner...  329.00  \n",
       "3  i recently read article giving students choice...  481.04  \n",
       "4  my students crave challenge eat obstacles brea...   17.74  "
      ]
     },
     "execution_count": 6,
     "metadata": {},
     "output_type": "execute_result"
    }
   ],
   "source": [
    "#Preprocess Data\n",
    "data.head()"
   ]
  },
  {
   "cell_type": "code",
   "execution_count": 7,
   "metadata": {},
   "outputs": [],
   "source": [
    "#remove the word length < 2 and remove the stopwords\n",
    "from nltk.corpus import stopwords\n",
    "stop_words = stopwords.words('english')\n",
    "\n",
    "\n",
    "def stop_word_removal(sentence):\n",
    "    cleaned_words = []\n",
    "    for word in sentence.split():\n",
    "        \n",
    "        if len(word) >=2 and word not in stop_words:\n",
    "            \n",
    "            cleaned_words.append(word)\n",
    "    return \" \".join(cleaned_words)\n"
   ]
  },
  {
   "cell_type": "code",
   "execution_count": 8,
   "metadata": {},
   "outputs": [],
   "source": [
    "data_essay = data.essay.tolist()\n",
    "cleaned_sentence = []\n",
    "for sentence in data_essay:\n",
    "    cleaned_sentence.append(stop_word_removal(sentence))\n",
    "\n"
   ]
  },
  {
   "cell_type": "code",
   "execution_count": 9,
   "metadata": {},
   "outputs": [],
   "source": [
    "data.essay = np.array(cleaned_sentence)"
   ]
  },
  {
   "cell_type": "code",
   "execution_count": 10,
   "metadata": {},
   "outputs": [
    {
     "name": "stdout",
     "output_type": "stream",
     "text": [
      "Shape of  X: (50000, 8) and Y : (50000,)\n"
     ]
    }
   ],
   "source": [
    "#Independent feature\n",
    "X = data.drop(columns = ['project_is_approved'])\n",
    "#target feature or output feature\n",
    "y = data.loc[:,'project_is_approved']\n",
    "print(\"Shape of  X: {0} and Y : {1}\".format(X.shape,y.shape))"
   ]
  },
  {
   "cell_type": "markdown",
   "metadata": {
    "id": "WtVV13Fyb3dH"
   },
   "source": [
    "<h2>1.2 Splitting data into Train and cross validation(or test): Stratified Sampling</h2>"
   ]
  },
  {
   "cell_type": "code",
   "execution_count": 11,
   "metadata": {
    "id": "i-PyprDNb3dI"
   },
   "outputs": [
    {
     "name": "stdout",
     "output_type": "stream",
     "text": [
      "Shape Of the training Data :(40500, 8)\n",
      "Shape of the Validation Data : (4500, 8)\n",
      "Shape of the Test Data : (5000, 8)\n"
     ]
    }
   ],
   "source": [
    "# please write all the code with proper documentation, and proper titles for each subsection\n",
    "# go through documentations and blogs before you start coding\n",
    "# first figure out what to do, and then think about how to do.\n",
    "# reading and understanding error messages will be very much helpfull in debugging your code\n",
    "# when you plot any graph make sure you use \n",
    "    # a. Title, that describes your plot, this will be very helpful to the reader\n",
    "    # b. Legends if needed\n",
    "    # c. X-axis label\n",
    "    # d. Y-axis label\n",
    "\n",
    "#Split the data as train and test \n",
    "X_train,x_test,Y_train,y_test = train_test_split(X,y,test_size = 0.1,stratify=y)\n",
    "x_train_final,x_cv,Y_train_final,y_cv = train_test_split(X_train,Y_train,test_size = 0.1,stratify = Y_train)\n",
    "\n",
    "print(\"Shape Of the training Data :{0}\".format(x_train_final.shape))\n",
    "print(\"Shape of the Validation Data : {0}\".format(x_cv.shape))\n",
    "print(\"Shape of the Test Data : {0}\".format(x_test.shape))"
   ]
  },
  {
   "cell_type": "markdown",
   "metadata": {
    "id": "EnZwVNULb3dO"
   },
   "source": [
    "<h2>1.3 Make Data Model Ready: encoding eassay, and project_title</h2>"
   ]
  },
  {
   "cell_type": "code",
   "execution_count": 12,
   "metadata": {
    "id": "-SczZKiab3dR",
    "scrolled": false
   },
   "outputs": [],
   "source": [
    "# please write all the code with proper documentation, and proper titles for each subsection\n",
    "# go through documentations and blogs before you start coding\n",
    "# first figure out what to do, and then think about how to do.\n",
    "# reading and understanding error messages will be very much helpfull in debugging your code\n",
    "# make sure you featurize train and test data separatly\n",
    "\n",
    "# when you plot any graph make sure you use \n",
    "    # a. Title, that describes your plot, this will be very helpful to the reader\n",
    "    # b. Legends if needed\n",
    "    # c. X-axis label\n",
    "    # d. Y-axis label\n",
    "#Bag of Word for CategoriacalData"
   ]
  },
  {
   "cell_type": "code",
   "execution_count": 13,
   "metadata": {},
   "outputs": [],
   "source": [
    "#Store all the Feature Name in the List\n",
    "feature_name_List = []\n",
    "\n",
    "vectorizer = CountVectorizer(max_features = 7000).fit(x_train_final.essay.values)\n",
    "#extend all the essay featureName\n",
    "feature_name_List.extend(vectorizer.get_feature_names())\n",
    "X_train_essay_bow = vectorizer.transform(x_train_final.essay.values)\n",
    "x_cv_essay_bow = vectorizer.transform(x_cv.essay.values)\n",
    "x_test_essay_bow = vectorizer.transform(x_test.essay.values)"
   ]
  },
  {
   "cell_type": "code",
   "execution_count": 14,
   "metadata": {},
   "outputs": [
    {
     "name": "stdout",
     "output_type": "stream",
     "text": [
      "After Vectorization Shape of the Essay Feature\n",
      "Shape of the training Essay Feature : (40500, 7000)\n",
      "Shape of the CV Essay Feature :(4500, 7000)\n",
      "Shape of the Test Essay Feature : (5000, 7000)\n"
     ]
    }
   ],
   "source": [
    "print(\"After Vectorization Shape of the Essay Feature\")\n",
    "print(\"Shape of the training Essay Feature : {0}\".format(X_train_essay_bow.shape))\n",
    "print(\"Shape of the CV Essay Feature :{0}\".format(x_cv_essay_bow.shape))\n",
    "print(\"Shape of the Test Essay Feature : {0}\".format(x_test_essay_bow.shape))"
   ]
  },
  {
   "cell_type": "markdown",
   "metadata": {},
   "source": [
    "<h2>1.4 Make Data Model Ready: encoding numerical, categorical features</h2>"
   ]
  },
  {
   "cell_type": "markdown",
   "metadata": {},
   "source": [
    "#  Encoding Categorical Features"
   ]
  },
  {
   "cell_type": "code",
   "execution_count": 15,
   "metadata": {},
   "outputs": [],
   "source": [
    "#Cateforiacal Encodinf gor TeacherPrefix Data\n",
    "def categoricalEncoding(x_train,x_test,x_cv,col_name,feature_name_List):\n",
    "    \n",
    "    #param-1 -> training Data\n",
    "    \n",
    "    #param-2 -> test Data\n",
    "    \n",
    "    #param-3 -> validation Data \n",
    "    \n",
    "    #param-4 -< feature Name -(column Name)\n",
    "    \n",
    "    #param-5 -> feature_name_list\n",
    "    \n",
    "    vectorizer = CountVectorizer()\n",
    "    \n",
    "    vectorizer.fit(x_train[col_name])\n",
    "    \n",
    "    feature_name_List.extend(vectorizer.get_feature_names())\n",
    "    \n",
    "    x_train_category = vectorizer.transform(x_train[col_name])\n",
    "    \n",
    "    x_test_category = vectorizer.transform(x_test[col_name])\n",
    "    \n",
    "    x_cv_category = vectorizer.transform(x_cv[col_name])\n",
    "    \n",
    "    \n",
    "    print(\"After Transforming the Data Shape\")\n",
    "    \n",
    "    print(\"Shape of the Training Feature Category : {0}\".format(x_train_category.shape))\n",
    "    \n",
    "    print(\"Shape of the Test Feature Category : {0}\".format(x_test_category.shape))\n",
    "    \n",
    "    print(\"Shape of the Validation Feature Category : {0}\".format(x_cv_category.shape))\n",
    "    \n",
    "    return (x_train_category,x_test_category,x_cv_category)\n",
    "    "
   ]
  },
  {
   "cell_type": "code",
   "execution_count": 16,
   "metadata": {},
   "outputs": [
    {
     "name": "stdout",
     "output_type": "stream",
     "text": [
      "Categorical Encoding for teacher_prefix Feature\n",
      "Categories of teacher_prefix : ['mrs' 'ms' 'mr' 'teacher' 'dr']\n",
      "After Transforming the Data Shape\n",
      "Shape of the Training Feature Category : (40500, 5)\n",
      "Shape of the Test Feature Category : (5000, 5)\n",
      "Shape of the Validation Feature Category : (4500, 5)\n",
      "------------------------------------------------------------------------------------------------------------------------\n",
      "Categorical Encoding for Project_grade_category\n",
      "Categories of project_grade_category : ['grades_prek_2' 'grades_3_5' 'grades_6_8' 'grades_9_12']\n",
      "After Transforming the Data Shape\n",
      "Shape of the Training Feature Category : (40500, 4)\n",
      "Shape of the Test Feature Category : (5000, 4)\n",
      "Shape of the Validation Feature Category : (4500, 4)\n",
      "------------------------------------------------------------------------------------------------------------------------\n",
      "Categories of school_state : ['md' 'ca' 'sd' 'oh' 'tx' 'in' 'al' 'fl' 'va' 'tn' 'ok' 'de' 'il' 'ma'\n",
      " 'ia' 'mo' 'nc' 'mi' 'sc' 'ny' 'co' 'wa' 'pa' 'az' 'ga' 'nj' 'hi' 'id'\n",
      " 'wi' 'la' 'ms' 'ar' 'mn' 'ut' 'ky' 'or' 'ri' 'ct' 'ks' 'nv' 'dc' 'ne'\n",
      " 'mt' 'wv' 'me' 'nd' 'vt' 'wy' 'nh' 'ak' 'nm']\n",
      "Categorical Encoding for teacher_school_State category\n",
      "After Transforming the Data Shape\n",
      "Shape of the Training Feature Category : (40500, 51)\n",
      "Shape of the Test Feature Category : (5000, 51)\n",
      "Shape of the Validation Feature Category : (4500, 51)\n",
      "------------------------------------------------------------------------------------------------------------------------\n",
      "Categories of clean_categories : 45\n",
      "Categorical Encoding for clean Project Subject Category\n",
      "After Transforming the Data Shape\n",
      "Shape of the Training Feature Category : (40500, 9)\n",
      "Shape of the Test Feature Category : (5000, 9)\n",
      "Shape of the Validation Feature Category : (4500, 9)\n",
      "------------------------------------------------------------------------------------------------------------------------\n",
      "Categories of clean_subcategories : 352\n",
      "Categorical Encoding for Project Subject Sub Category\n",
      "After Transforming the Data Shape\n",
      "Shape of the Training Feature Category : (40500, 30)\n",
      "Shape of the Test Feature Category : (5000, 30)\n",
      "Shape of the Validation Feature Category : (4500, 30)\n"
     ]
    }
   ],
   "source": [
    "#Encoding teacher_prefix category\n",
    "print(\"Categorical Encoding for teacher_prefix Feature\")\n",
    "print('Categories of teacher_prefix : {0}'.format(x_train_final['teacher_prefix'].unique()))\n",
    "X_train_teacher_prefix_category,x_test_teacher_prefix_category,x_cv_test_prefix_category \\\n",
    "= categoricalEncoding(x_train_final,x_test,x_cv,'teacher_prefix',feature_name_List)\n",
    "\n",
    "print(\"--\"* 60)\n",
    "print(\"Categorical Encoding for Project_grade_category\")\n",
    "print('Categories of project_grade_category : {0}'.format(x_train_final['project_grade_category'].unique()))\n",
    "X_train_project_grade_category,x_test_project_grade_category,x_cv_project_grade_category \\\n",
    "= categoricalEncoding(x_train_final,x_test,x_cv,'project_grade_category',feature_name_List)\n",
    "\n",
    "print(\"--\"* 60)\n",
    "print('Categories of school_state : {0}'.format(x_train_final['school_state'].unique()))\n",
    "print(\"Categorical Encoding for teacher_school_State category\")\n",
    "X_train_school_state,x_test_teacher_school_state,x_cv_school_state \\\n",
    "= categoricalEncoding(x_train_final,x_test,x_cv,'school_state',feature_name_List)\n",
    "\n",
    "print(\"--\"* 60)\n",
    "print('Categories of clean_categories : {0}'.format(x_train_final['clean_categories'].nunique()))\n",
    "print(\"Categorical Encoding for clean Project Subject Category\")\n",
    "X_train_clean_categories,x_test_clean_categories,x_cv_clean_categories \\\n",
    "= categoricalEncoding(x_train_final,x_test,x_cv,'clean_categories',feature_name_List)\n",
    "\n",
    "print(\"--\"* 60)\n",
    "print('Categories of clean_subcategories : {0}'.format(x_train_final['clean_subcategories'].nunique()))\n",
    "print(\"Categorical Encoding for Project Subject Sub Category\")\n",
    "X_train_clean_subcategories,x_test_clean_subcategories,x_cv_clean_subcategories \\\n",
    "= categoricalEncoding(x_train_final,x_test,x_cv,'clean_subcategories',feature_name_List)\n",
    " \n"
   ]
  },
  {
   "cell_type": "code",
   "execution_count": 17,
   "metadata": {},
   "outputs": [],
   "source": [
    "\n",
    "\n",
    "def NumericalEncoding(x_train,x_cv,X_test,column_name):\n",
    "    \n",
    "    train_norm = Normalizer()\n",
    "    \n",
    "    train_norm.fit(x_train[column_name].values.reshape(-1,1))\n",
    "    \n",
    "    x_train_norm_transform = train_norm.fit_transform(x_train[column_name].values.reshape(-1,1))\n",
    "    \n",
    "    x_cv_norm = train_norm.transform(x_cv[column_name].values.reshape(-1,1))\n",
    "    \n",
    "    x_test_norm = train_norm.transform(X_test[column_name].values.reshape(-1,1))\n",
    "    \n",
    "    print(\"After Transforming the Data Shape\")\n",
    "    \n",
    "    print(\"Shape of the Training Feature Category : {0}\".format(x_train_norm_transform.shape))\n",
    "    \n",
    "    print(\"Shape of the Test Feature Category : {0}\".format(x_cv_norm.shape))\n",
    "    \n",
    "    print(\"Shape of the Validation Feature Category : {0}\".format(x_test_norm.shape))\n",
    "    \n",
    "    return (x_train_norm_transform,x_cv_norm,x_test_norm)\n",
    "    "
   ]
  },
  {
   "cell_type": "code",
   "execution_count": 18,
   "metadata": {
    "scrolled": false
   },
   "outputs": [
    {
     "name": "stdout",
     "output_type": "stream",
     "text": [
      "Numerical Transformation for the Feature price\n",
      "After Transforming the Data Shape\n",
      "Shape of the Training Feature Category : (40500, 1)\n",
      "Shape of the Test Feature Category : (4500, 1)\n",
      "Shape of the Validation Feature Category : (5000, 1)\n",
      "======================================================================\n",
      "Numerical Transformation for the Feature teacher_number_of_previously_posted_projects\n",
      "After Transforming the Data Shape\n",
      "Shape of the Training Feature Category : (40500, 1)\n",
      "Shape of the Test Feature Category : (4500, 1)\n",
      "Shape of the Validation Feature Category : (5000, 1)\n"
     ]
    }
   ],
   "source": [
    "#Numerical Feature Normalization\n",
    "#X_train.price.values.reshape(-1,1)\n",
    "#this Line Conver the One dimentional array to multiple dimentional Array\n",
    "\n",
    "#Numerical Encoding for the feature Price \n",
    "print(\"Numerical Transformation for the Feature price\")\n",
    "x_train_price_norm,x_cv_price_norm,x_test_price_norm =NumericalEncoding(x_train_final,x_cv,x_test,'price')\n",
    "feature_name_List.append(\"price\")\n",
    "\n",
    "print(\"=\"*70)\n",
    "#Numerical Feature Transformation for the feature Previous Teacher Project\n",
    "print(\"Numerical Transformation for the Feature teacher_number_of_previously_posted_projects\")\n",
    "x_train_previous_project_norm,x_cv_previous_project_norm,x_test_previous_project_norm =\\\n",
    "NumericalEncoding (x_train_final,x_cv,x_test,'teacher_number_of_previously_posted_projects')\n",
    "feature_name_List.append(\"teacher_number_of_previously_posted_projects\")\n"
   ]
  },
  {
   "cell_type": "markdown",
   "metadata": {},
   "source": [
    "# Concatinate Preprocessed Data "
   ]
  },
  {
   "cell_type": "code",
   "execution_count": 19,
   "metadata": {
    "scrolled": true
   },
   "outputs": [
    {
     "name": "stdout",
     "output_type": "stream",
     "text": [
      "====================================================================================================\n",
      "Ater Encoding and Transforming Numerical and Categorical Features\n",
      "(40500, 7101) (40500,)\n",
      "(5000, 7101) (5000,)\n",
      "(4500, 7101) (4500,)\n"
     ]
    }
   ],
   "source": [
    "from scipy.sparse import hstack\n",
    "\n",
    "#Training Preprocessing Dataset\n",
    "X_train_final_data = hstack((X_train_essay_bow, X_train_teacher_prefix_category, X_train_project_grade_category, \\\n",
    "               X_train_school_state, X_train_clean_categories,X_train_clean_subcategories,\\\n",
    "                 x_train_price_norm,x_train_previous_project_norm)).tocsr()\n",
    "\n",
    "\n",
    "#Test Prprocessing final Dataset\n",
    "X_test_final_data = hstack((x_test_essay_bow, x_test_teacher_prefix_category, x_test_project_grade_category, \\\n",
    "               x_test_teacher_school_state, x_test_clean_categories,x_test_clean_subcategories,\\\n",
    "                 x_test_price_norm,x_test_previous_project_norm)).tocsr()\n",
    "\n",
    "#Cross Validation Preprocessing Dataset\n",
    "X_cv_final_data = hstack((x_cv_essay_bow, x_cv_test_prefix_category, x_cv_project_grade_category, \\\n",
    "               x_cv_school_state, x_cv_clean_categories,x_cv_clean_subcategories,\\\n",
    "                 x_cv_price_norm,x_cv_previous_project_norm)).tocsr()\n",
    "\n",
    "print(\"=\"*100)\n",
    "print(\"Ater Encoding and Transforming Numerical and Categorical Features\")\n",
    "print(X_train_final_data.shape, Y_train_final.shape)\n",
    "print(X_test_final_data.shape, y_test.shape)\n",
    "print(X_cv_final_data.shape, y_cv.shape)\n"
   ]
  },
  {
   "cell_type": "markdown",
   "metadata": {
    "id": "bGy86kgHb3dX"
   },
   "source": [
    "\n",
    "<h2>1.5 Appling NB on different kind of featurization as mentioned in the instructions</h2>\n",
    "\n",
    "<br>Apply NB on different kind of featurization as mentioned in the instructions\n",
    "<br> For Every model that you work on make sure you do the step 2 and step 3 of instrucations"
   ]
  },
  {
   "cell_type": "code",
   "execution_count": 20,
   "metadata": {
    "id": "EfXkofX1b3da"
   },
   "outputs": [],
   "source": [
    "# please write all the code with proper documentation, and proper titles for each subsection\n",
    "# go through documentations and blogs before you start coding \n",
    "# first figure out what to do, and then think about how to do.\n",
    "# reading and understanding error messages will be very much helpfull in debugging your code\n",
    "# make sure you featurize train and test data separatly\n",
    "\n",
    "# when you plot any graph make sure you use \n",
    "    # a. Title, that describes your plot, this will be very helpful to the reader\n",
    "    # b. Legends if needed\n",
    "    # c. X-axis label\n",
    "    # d. Y-axis label"
   ]
  },
  {
   "cell_type": "code",
   "execution_count": 21,
   "metadata": {},
   "outputs": [],
   "source": [
    "def batchPredict(model,data):\n",
    "    y_predict_list = []\n",
    "    \n",
    "    dataLoop = data.shape[0] - (data.shape[0] %1000)\n",
    "    \n",
    "    for i in range(0, dataLoop, 1000):\n",
    "        y_predict_list.extend(model.predict_proba(data[i:i+1000])[:,1])\n",
    "    \n",
    "    #predict remainng data\n",
    "    \n",
    "    if data.shape[0] % 1000 != 0:\n",
    "        y_predict_list.extend(model.predict_proba(data[dataLoop:])[:,1])\n",
    "    \n",
    "    return y_predict_list\n",
    "    "
   ]
  },
  {
   "cell_type": "code",
   "execution_count": 22,
   "metadata": {
    "scrolled": false
   },
   "outputs": [
    {
     "name": "stderr",
     "output_type": "stream",
     "text": [
      "100%|██████████████████████████████████████████████████████████████████████████████████| 14/14 [00:03<00:00,  4.59it/s]\n"
     ]
    },
    {
     "data": {
      "image/png": "[encoded data removed]",
      "text/plain": [
       "<Figure size 432x288 with 1 Axes>"
      ]
     },
     "metadata": {
      "needs_background": "light"
     },
     "output_type": "display_data"
    }
   ],
   "source": [
    "from sklearn.naive_bayes import MultinomialNB\n",
    "import matplotlib.pyplot as plt\n",
    "from sklearn.metrics import roc_auc_score\n",
    "\n",
    "train_score = []\n",
    "crossValidation_Score = []\n",
    "train_auc,cv_auc = [],[]\n",
    "#hyper param tuning \n",
    "alphaList =  [0.00001,0.0005, 0.0001,0.005,0.001,0.05,0.01,0.1,0.5,1,5,10,50,100]\n",
    "class_weight = [0.5,0.5]\n",
    "for alpha in tqdm(alphaList):\n",
    "    naive_bag_of_words = MultinomialNB(alpha=alpha,class_prior = class_weight)\n",
    "    naive_bag_of_words.fit(X_train_final_data, Y_train_final)\n",
    "\n",
    "    y_train_pred = batchPredict(naive_bag_of_words, X_train_final_data)    \n",
    "    y_cv_pred = batchPredict(naive_bag_of_words, X_cv_final_data)\n",
    "    \n",
    "    train_auc.append(roc_auc_score(Y_train_final,y_train_pred))\n",
    "    cv_auc.append(roc_auc_score(y_cv, y_cv_pred))\n",
    "\n",
    "plt.plot(alphaList, train_auc, label='Train AUC')\n",
    "plt.plot(alphaList, cv_auc, label='CV AUC')\n",
    "\n",
    "plt.scatter(alphaList, train_auc, label='Train AUC points')\n",
    "plt.scatter(alphaList, cv_auc, label='CV AUC points')\n",
    "\n",
    "plt.legend()\n",
    "\n",
    "plt.xlabel(\"Hyper Paramater for Albha\")\n",
    "plt.ylabel(\"Area Under Curve\")\n",
    "plt.title(\"ERROR PLOTS\")\n",
    "plt.grid()\n",
    "plt.show() "
   ]
  },
  {
   "cell_type": "code",
   "execution_count": 23,
   "metadata": {
    "scrolled": false
   },
   "outputs": [
    {
     "data": {
      "image/png": "[encoded data removed]",
      "text/plain": [
       "<Figure size 432x288 with 1 Axes>"
      ]
     },
     "metadata": {
      "needs_background": "light"
     },
     "output_type": "display_data"
    }
   ],
   "source": [
    "# https://scikit-learn.org/stable/modules/generated/sklearn.metrics.roc_curve.html#sklearn.metrics.roc_curve\n",
    "from sklearn.metrics import roc_curve, auc\n",
    "\n",
    "\n",
    "#Best alpha estimates in Hyper param\n",
    "alpha = 0.5\n",
    "naive_bag_of_words = MultinomialNB(alpha=alpha)\n",
    "naive_bag_of_words.fit(X_train_final_data, Y_train_final)\n",
    "# roc_auc_score(y_true, y_score) the 2nd parameter should be probability estimates of the positive class\n",
    "# not the predicted outputs\n",
    "\n",
    "y_train_pred = batchPredict(naive_bag_of_words, X_train_final_data)    \n",
    "y_test_pred = batchPredict(naive_bag_of_words, X_test_final_data)\n",
    "\n",
    "train_fpr, train_tpr, tr_thresholds = roc_curve(Y_train_final, y_train_pred)\n",
    "test_fpr, test_tpr, te_thresholds = roc_curve(y_test, y_test_pred)\n",
    "\n",
    "plt.plot(train_fpr, train_tpr, label=\"train AUC =\"+str(auc(train_fpr, train_tpr)))\n",
    "plt.plot(test_fpr, test_tpr, label=\"test AUC =\"+str(auc(test_fpr, test_tpr)))\n",
    "plt.legend()\n",
    "plt.xlabel(\"False Positive Rate\")\n",
    "plt.ylabel(\"True Positive Rate\")\n",
    "plt.title(\"Roc\")\n",
    "plt.grid()\n",
    "plt.show()"
   ]
  },
  {
   "cell_type": "markdown",
   "metadata": {},
   "source": [
    "Select The Best Threshold"
   ]
  },
  {
   "cell_type": "code",
   "execution_count": 24,
   "metadata": {},
   "outputs": [],
   "source": [
    "def find_best_threshold(threshold, fpr, tpr):\n",
    "    \n",
    "    #https://numpy.org/doc/stable/reference/generated/numpy.argmax.html\n",
    "    t = threshold[np.argmax(tpr*(1-fpr))]\n",
    "    # (tpr*(1-fpr)) will be maximum if your fpr is very low and tpr is very high\n",
    "    print(\"The maximum value of tpr*(1-fpr)\", max(tpr*(1-fpr)), \"for threshold\", np.round(t,3))\n",
    "    return t\n",
    "\n",
    "def predict_with_best_threshold(proba, threshold):\n",
    "    predictions = [1 if i >= threshold else 0 for i in proba]\n",
    "    return predictions"
   ]
  },
  {
   "cell_type": "markdown",
   "metadata": {},
   "source": [
    "# Confusion Matrix "
   ]
  },
  {
   "cell_type": "code",
   "execution_count": 25,
   "metadata": {},
   "outputs": [],
   "source": [
    "#SRC : https://medium.com/@dtuk81/confusion-matrix-visualization-fc31e3f30fea\n",
    "def confusionMatrixPlot(confusionMatrix,title):\n",
    "    \n",
    "    plt.figure(figsize = (8,8))\n",
    "    group_names = ['True Negative','False Positive','False Negative','True Positive']\n",
    "    group_counts = [\"{0:0.0f}\".format(value) for value in\n",
    "                    confusionMatrix.flatten()]\n",
    "    group_percentages = [\"{0:.2%}\".format(value) for value in\n",
    "                         confusionMatrix.flatten()/np.sum(confusionMatrix)]\n",
    "    labels = [f'{v1}\\n{v2}\\n{v3}' for v1, v2, v3 in\n",
    "              zip(group_names,group_counts,group_percentages)]\n",
    "    labels = np.asarray(labels).reshape(2,2)\n",
    "    sns.heatmap(confusionMatrix, annot=labels,fmt='', cmap='Blues')\n",
    "    plt.xlabel('Predicted Label')\n",
    "    plt.ylabel('Actual Label')\n",
    "    plt.title(title)"
   ]
  },
  {
   "cell_type": "code",
   "execution_count": 26,
   "metadata": {
    "scrolled": true
   },
   "outputs": [
    {
     "name": "stdout",
     "output_type": "stream",
     "text": [
      "The maximum value of tpr*(1-fpr) 0.5021428275951094 for threshold 0.778\n"
     ]
    },
    {
     "data": {
      "image/png": "[encoded data removed]",
      "text/plain": [
       "<Figure size 576x576 with 2 Axes>"
      ]
     },
     "metadata": {
      "needs_background": "light"
     },
     "output_type": "display_data"
    }
   ],
   "source": [
    "from sklearn.metrics import confusion_matrix\n",
    "\n",
    "#training threshold,train_false_positive_rate,train_true_positive_rate\n",
    "best_t = find_best_threshold(tr_thresholds, train_fpr, train_tpr)\n",
    "\n",
    "\n",
    "y_train_prediction = predict_with_best_threshold(y_train_pred,best_t)\n",
    "\n",
    "train_confusion_matrix = confusion_matrix(Y_train_final,y_train_prediction)\n",
    "confusionMatrixPlot(train_confusion_matrix,\"Train Confusion Matrix\")"
   ]
  },
  {
   "cell_type": "code",
   "execution_count": 27,
   "metadata": {
    "scrolled": true
   },
   "outputs": [
    {
     "name": "stdout",
     "output_type": "stream",
     "text": [
      "Confusion Matrix For Test Data\n",
      "====================================================================================================\n"
     ]
    },
    {
     "data": {
      "image/png": "[encoded data removed]",
      "text/plain": [
       "<Figure size 576x576 with 2 Axes>"
      ]
     },
     "metadata": {
      "needs_background": "light"
     },
     "output_type": "display_data"
    }
   ],
   "source": [
    "y_test_prediction = predict_with_best_threshold(y_test_pred, best_t)\n",
    "test_confusion_matrix = confusion_matrix(y_test, y_test_prediction)\n",
    "print(\"Confusion Matrix For Test Data\")\n",
    "print(\"=\"* 100)\n",
    "confusionMatrixPlot(test_confusion_matrix,\"Test Confusion Matrix\")"
   ]
  },
  {
   "cell_type": "markdown",
   "metadata": {},
   "source": [
    "# Train the Model PreProcess with essay TFIDF"
   ]
  },
  {
   "cell_type": "code",
   "execution_count": 28,
   "metadata": {},
   "outputs": [
    {
     "data": {
      "text/html": [
       "<div>\n",
       "<style scoped>\n",
       "    .dataframe tbody tr th:only-of-type {\n",
       "        vertical-align: middle;\n",
       "    }\n",
       "\n",
       "    .dataframe tbody tr th {\n",
       "        vertical-align: top;\n",
       "    }\n",
       "\n",
       "    .dataframe thead th {\n",
       "        text-align: right;\n",
       "    }\n",
       "</style>\n",
       "<table border=\"1\" class=\"dataframe\">\n",
       "  <thead>\n",
       "    <tr style=\"text-align: right;\">\n",
       "      <th></th>\n",
       "      <th>school_state</th>\n",
       "      <th>teacher_prefix</th>\n",
       "      <th>project_grade_category</th>\n",
       "      <th>teacher_number_of_previously_posted_projects</th>\n",
       "      <th>clean_categories</th>\n",
       "      <th>clean_subcategories</th>\n",
       "      <th>essay</th>\n",
       "      <th>price</th>\n",
       "    </tr>\n",
       "  </thead>\n",
       "  <tbody>\n",
       "    <tr>\n",
       "      <th>2079</th>\n",
       "      <td>md</td>\n",
       "      <td>mrs</td>\n",
       "      <td>grades_prek_2</td>\n",
       "      <td>5</td>\n",
       "      <td>appliedlearning specialneeds</td>\n",
       "      <td>earlydevelopment specialneeds</td>\n",
       "      <td>behavior communication change environment beha...</td>\n",
       "      <td>172.27</td>\n",
       "    </tr>\n",
       "    <tr>\n",
       "      <th>42096</th>\n",
       "      <td>ca</td>\n",
       "      <td>ms</td>\n",
       "      <td>grades_prek_2</td>\n",
       "      <td>1</td>\n",
       "      <td>math_science specialneeds</td>\n",
       "      <td>environmentalscience specialneeds</td>\n",
       "      <td>students second third graders special needs in...</td>\n",
       "      <td>115.19</td>\n",
       "    </tr>\n",
       "    <tr>\n",
       "      <th>49283</th>\n",
       "      <td>sd</td>\n",
       "      <td>ms</td>\n",
       "      <td>grades_3_5</td>\n",
       "      <td>0</td>\n",
       "      <td>literacy_language math_science</td>\n",
       "      <td>literature_writing mathematics</td>\n",
       "      <td>first year teacher teaching special education ...</td>\n",
       "      <td>149.94</td>\n",
       "    </tr>\n",
       "    <tr>\n",
       "      <th>15511</th>\n",
       "      <td>oh</td>\n",
       "      <td>mrs</td>\n",
       "      <td>grades_3_5</td>\n",
       "      <td>2</td>\n",
       "      <td>literacy_language history_civics</td>\n",
       "      <td>literature_writing socialsciences</td>\n",
       "      <td>teach small rural school district district res...</td>\n",
       "      <td>245.61</td>\n",
       "    </tr>\n",
       "    <tr>\n",
       "      <th>3469</th>\n",
       "      <td>tx</td>\n",
       "      <td>ms</td>\n",
       "      <td>grades_prek_2</td>\n",
       "      <td>1</td>\n",
       "      <td>literacy_language</td>\n",
       "      <td>esl literacy</td>\n",
       "      <td>reading hard subject kids days much exposure t...</td>\n",
       "      <td>654.46</td>\n",
       "    </tr>\n",
       "  </tbody>\n",
       "</table>\n",
       "</div>"
      ],
      "text/plain": [
       "      school_state teacher_prefix project_grade_category  \\\n",
       "2079            md            mrs          grades_prek_2   \n",
       "42096           ca             ms          grades_prek_2   \n",
       "49283           sd             ms             grades_3_5   \n",
       "15511           oh            mrs             grades_3_5   \n",
       "3469            tx             ms          grades_prek_2   \n",
       "\n",
       "       teacher_number_of_previously_posted_projects  \\\n",
       "2079                                              5   \n",
       "42096                                             1   \n",
       "49283                                             0   \n",
       "15511                                             2   \n",
       "3469                                              1   \n",
       "\n",
       "                       clean_categories                clean_subcategories  \\\n",
       "2079       appliedlearning specialneeds      earlydevelopment specialneeds   \n",
       "42096         math_science specialneeds  environmentalscience specialneeds   \n",
       "49283    literacy_language math_science     literature_writing mathematics   \n",
       "15511  literacy_language history_civics  literature_writing socialsciences   \n",
       "3469                  literacy_language                       esl literacy   \n",
       "\n",
       "                                                   essay   price  \n",
       "2079   behavior communication change environment beha...  172.27  \n",
       "42096  students second third graders special needs in...  115.19  \n",
       "49283  first year teacher teaching special education ...  149.94  \n",
       "15511  teach small rural school district district res...  245.61  \n",
       "3469   reading hard subject kids days much exposure t...  654.46  "
      ]
     },
     "execution_count": 28,
     "metadata": {},
     "output_type": "execute_result"
    }
   ],
   "source": [
    "x_train_final.head()"
   ]
  },
  {
   "cell_type": "markdown",
   "metadata": {},
   "source": [
    "#  Tfidf Vectorization"
   ]
  },
  {
   "cell_type": "code",
   "execution_count": 29,
   "metadata": {
    "scrolled": true
   },
   "outputs": [
    {
     "name": "stdout",
     "output_type": "stream",
     "text": [
      "5000\n"
     ]
    }
   ],
   "source": [
    "#PreProcess the essay a feature with TFIDF Implementation\n",
    "vectorizer = TfidfVectorizer(max_features = 5000)\n",
    "vectorizer.fit(x_train_final.essay.values)\n",
    "print(len(vectorizer.get_feature_names()))\n",
    "X_train_essay_tfidf = vectorizer.transform(x_train_final.essay.values)\n",
    "x_cv_essay_tfidf = vectorizer.transform(x_cv.essay.values)\n",
    "x_test_essay_tfidf = vectorizer.transform(x_test.essay.values)"
   ]
  },
  {
   "cell_type": "markdown",
   "metadata": {},
   "source": [
    "## Merge  Preprocessed Data"
   ]
  },
  {
   "cell_type": "code",
   "execution_count": 30,
   "metadata": {
    "scrolled": true
   },
   "outputs": [
    {
     "name": "stdout",
     "output_type": "stream",
     "text": [
      "====================================================================================================\n",
      "Ater Encoding and Transforming Numerical and Categorical Features\n",
      "(40500, 5101) (40500,)\n",
      "(5000, 5101) (5000,)\n",
      "(4500, 5101) (4500,)\n"
     ]
    }
   ],
   "source": [
    "\n",
    "#Training Preprocessing Dataset\n",
    "X_train_final_data_tfidf = hstack((X_train_essay_tfidf, X_train_teacher_prefix_category, X_train_project_grade_category, \\\n",
    "               X_train_school_state, X_train_clean_categories,X_train_clean_subcategories,\\\n",
    "                 x_train_price_norm,x_train_previous_project_norm)).tocsr()\n",
    "\n",
    "\n",
    "#Test Prprocessing final Dataset\n",
    "X_test_final_data_tfidf = hstack((x_test_essay_tfidf, x_test_teacher_prefix_category, x_test_project_grade_category, \\\n",
    "               x_test_teacher_school_state, x_test_clean_categories,x_test_clean_subcategories,\\\n",
    "                 x_test_price_norm,x_test_previous_project_norm)).tocsr()\n",
    "\n",
    "#Cross Validation Preprocessing Dataset\n",
    "X_cv_final_data_tfidf = hstack((x_cv_essay_tfidf, x_cv_test_prefix_category, x_cv_project_grade_category, \\\n",
    "               x_cv_school_state, x_cv_clean_categories,x_cv_clean_subcategories,\\\n",
    "                 x_cv_price_norm,x_cv_previous_project_norm)).tocsr()\n",
    "\n",
    "print(\"=\"*100)\n",
    "print(\"Ater Encoding and Transforming Numerical and Categorical Features\")\n",
    "print(X_train_final_data_tfidf.shape, Y_train_final.shape)\n",
    "print(X_test_final_data_tfidf.shape, y_test.shape)\n",
    "print(X_cv_final_data_tfidf.shape, y_cv.shape)"
   ]
  },
  {
   "cell_type": "markdown",
   "metadata": {},
   "source": [
    "## Train the Model With Essay Feature as TFIDF Processing"
   ]
  },
  {
   "cell_type": "code",
   "execution_count": 31,
   "metadata": {},
   "outputs": [
    {
     "name": "stderr",
     "output_type": "stream",
     "text": [
      "100%|██████████████████████████████████████████████████████████████████████████████████| 14/14 [00:03<00:00,  4.54it/s]\n"
     ]
    },
    {
     "data": {
      "image/png": "[encoded data removed]",
      "text/plain": [
       "<Figure size 432x288 with 1 Axes>"
      ]
     },
     "metadata": {
      "needs_background": "light"
     },
     "output_type": "display_data"
    }
   ],
   "source": [
    "from sklearn.naive_bayes import MultinomialNB\n",
    "import matplotlib.pyplot as plt\n",
    "from sklearn.metrics import roc_auc_score\n",
    "\n",
    "train_auc_ifidf,cv_auc_tfidf = [],[]\n",
    "#hyper param tuning \n",
    "alphaList =  [0.00001,0.0005, 0.0001,0.005,0.001,0.05,0.01,0.1,0.5,1,5,10,50,100]\n",
    "class_weight = [0.5,0.5]\n",
    "for alpha in tqdm(alphaList):\n",
    "    naive = MultinomialNB(alpha=alpha,class_prior = class_weight)\n",
    "    naive.fit(X_train_final_data_tfidf, Y_train_final)\n",
    "\n",
    "    y_train_pred = batchPredict(naive, X_train_final_data_tfidf)    \n",
    "    y_cv_pred = batchPredict(naive, X_cv_final_data_tfidf)\n",
    "    \n",
    "    train_auc_ifidf.append(roc_auc_score(Y_train_final,y_train_pred))\n",
    "    cv_auc_tfidf.append(roc_auc_score(y_cv, y_cv_pred))\n",
    "\n",
    "plt.plot(alphaList, train_auc_ifidf, label='Train AUC')\n",
    "plt.plot(alphaList, cv_auc_tfidf, label='cv AUC')\n",
    "\n",
    "plt.scatter(alphaList, train_auc_ifidf, label='Train AUC points')\n",
    "plt.scatter(alphaList, cv_auc_tfidf, label='CV AUC points')\n",
    "\n",
    "plt.legend()\n",
    "plt.xlabel(\"Hyper Parameter for Alpha\")\n",
    "plt.ylabel(\"Area Under Curve\")\n",
    "plt.title(\"ERROR PLOTS\")\n",
    "plt.grid()\n",
    "plt.show() "
   ]
  },
  {
   "cell_type": "code",
   "execution_count": 32,
   "metadata": {
    "scrolled": true
   },
   "outputs": [
    {
     "data": {
      "image/png": "[encoded data removed]",
      "text/plain": [
       "<Figure size 432x288 with 1 Axes>"
      ]
     },
     "metadata": {
      "needs_background": "light"
     },
     "output_type": "display_data"
    }
   ],
   "source": [
    "# https://scikit-learn.org/stable/modules/generated/sklearn.metrics.roc_curve.html#sklearn.metrics.roc_curve\n",
    "from sklearn.metrics import roc_curve, auc\n",
    "\n",
    "#Best Alpha for TfIDF\n",
    "best_alpha = 0.1\n",
    "naive = MultinomialNB(alpha=best_alpha)\n",
    "naive.fit(X_train_final_data_tfidf, Y_train_final)\n",
    "\n",
    "y_train_pred = batchPredict(naive, X_train_final_data_tfidf)    \n",
    "y_test_pred = batchPredict(naive, X_test_final_data_tfidf)\n",
    "\n",
    "train_fpr, train_tpr, tr_thresholds = roc_curve(Y_train_final, y_train_pred)\n",
    "test_fpr, test_tpr, te_thresholds = roc_curve(y_test, y_test_pred)\n",
    "\n",
    "plt.plot(train_fpr, train_tpr, label=\"train AUC =\"+str(auc(train_fpr, train_tpr)))\n",
    "plt.plot(test_fpr, test_tpr, label=\"test AUC =\"+str(auc(test_fpr, test_tpr)))\n",
    "plt.legend()\n",
    "plt.xlabel(\"False Positive Rate\")\n",
    "plt.ylabel(\"True Positive Rate\")\n",
    "plt.title(\"Roc Curve\")\n",
    "plt.grid()\n",
    "plt.show()"
   ]
  },
  {
   "cell_type": "markdown",
   "metadata": {},
   "source": [
    "## Confusion Matrix For TFIDF Features\n"
   ]
  },
  {
   "cell_type": "code",
   "execution_count": 33,
   "metadata": {},
   "outputs": [
    {
     "name": "stdout",
     "output_type": "stream",
     "text": [
      "The maximum value of tpr*(1-fpr) 0.45047476106679313 for threshold 0.84\n"
     ]
    },
    {
     "data": {
      "image/png": "[encoded data removed]",
      "text/plain": [
       "<Figure size 576x576 with 2 Axes>"
      ]
     },
     "metadata": {
      "needs_background": "light"
     },
     "output_type": "display_data"
    }
   ],
   "source": [
    "#training threshold,train_false_positive_rate,train_true_positive_rate\n",
    "best_t = find_best_threshold(tr_thresholds, train_fpr, train_tpr)\n",
    "\n",
    "y_train_prediction = predict_with_best_threshold(y_train_pred,best_t)\n",
    "\n",
    "train_confusion_matrix = confusion_matrix(Y_train_final,y_train_prediction)\n",
    "confusionMatrixPlot(train_confusion_matrix,\"Train Confusion Matrix With TFIDF\")"
   ]
  },
  {
   "cell_type": "code",
   "execution_count": 34,
   "metadata": {
    "scrolled": true
   },
   "outputs": [
    {
     "name": "stdout",
     "output_type": "stream",
     "text": [
      "Confusion Matrix For Test Data\n",
      "====================================================================================================\n"
     ]
    },
    {
     "data": {
      "image/png": "[encoded data removed]",
      "text/plain": [
       "<Figure size 576x576 with 2 Axes>"
      ]
     },
     "metadata": {
      "needs_background": "light"
     },
     "output_type": "display_data"
    }
   ],
   "source": [
    "y_test_prediction = predict_with_best_threshold(y_test_pred, best_t)\n",
    "test_confusion_matrix = confusion_matrix(y_test, y_test_prediction)\n",
    "print(\"Confusion Matrix For Test Data\")\n",
    "print(\"=\"* 100)\n",
    "confusionMatrixPlot(test_confusion_matrix,\"Test Confusion Matrix With Tfidf\")"
   ]
  },
  {
   "cell_type": "code",
   "execution_count": 35,
   "metadata": {
    "scrolled": true
   },
   "outputs": [
    {
     "name": "stdout",
     "output_type": "stream",
     "text": [
      "Positive Feature Names :['year' 'class' 'come' 'teacher_number_of_previously_posted_projects'\n",
      " 'love' 'able' 'day' 'use' 'need' 'reading' 'work' 'nannan' 'many' 'price'\n",
      " 'help' 'learn' 'classroom' 'learning' 'school' 'students']\n",
      "Nagative Feature Names : ['want' 'skills' 'reading' 'teacher_number_of_previously_posted_projects'\n",
      " 'day' 'able' 'love' 'year' 'come' 'work' 'need' 'nannan' 'many' 'price'\n",
      " 'help' 'learn' 'classroom' 'learning' 'school' 'students']\n"
     ]
    }
   ],
   "source": [
    "#Find the Top @0 features \n",
    "#argSort the Probability based on sort the Indices\n",
    "Positive_probability_score = naive_bag_of_words.feature_log_prob_[1].argsort(kind = 'quicksort')\n",
    "Negative_probability_score = naive_bag_of_words.feature_log_prob_[0].argsort(kind = 'quicksort')\n",
    "\n",
    "Top_20_positive_probability = Positive_probability_score[-20:]\n",
    "Top_20_negative_probability = Negative_probability_score[-20:]\n",
    "#https://www.geeksforgeeks.org/numpy-take-python/\n",
    "#Take the Feature Based on the Indices\n",
    "top_positive_features =  np.take(feature_name_List,Top_20_positive_probability)\n",
    "top_negative_features = np.take(feature_name_List,Top_20_negative_probability)\n",
    "print(\"Positive Feature Names :{0}\".format(top_positive_features))\n",
    "\n",
    "print(\"Nagative Feature Names : {0}\".format(top_negative_features))\n",
    "\n",
    "\n"
   ]
  },
  {
   "cell_type": "markdown",
   "metadata": {
    "id": "lS9hIHdib3dp"
   },
   "source": [
    "<h1>3. Summary</h1>\n",
    "\n",
    "<br> as mentioned in the step 5 of instructions"
   ]
  },
  {
   "cell_type": "code",
   "execution_count": 37,
   "metadata": {},
   "outputs": [
    {
     "name": "stdout",
     "output_type": "stream",
     "text": [
      "+--------------+-------------+-------------------------+----------+\n",
      "|  Vectorizer  |    Model    | Hyper Parameter - Alpha | Test AUC |\n",
      "+--------------+-------------+-------------------------+----------+\n",
      "| Bag Of Words | Naive Bayes |           0.5           |   0.70   |\n",
      "|    TFIDF     | Naive Bayes |           0.1           |  0.67.2  |\n",
      "+--------------+-------------+-------------------------+----------+\n"
     ]
    }
   ],
   "source": [
    "#https://www.geeksforgeeks.org/creating-tables-with-prettytable-library-python/\n",
    "from prettytable import PrettyTable\n",
    "  \n",
    "# Specify the Column Names while initializing the Table\n",
    "table = PrettyTable([\"Vectorizer\", \"Model\", \"Hyper Parameter - Alpha\",\"Test AUC\"])\n",
    "  \n",
    "# Add rows\n",
    "table.add_row([\"Bag Of Words\", \"Naive Bayes\", \"0.5\", \"0.70\"])\n",
    "table.add_row([\"TFIDF\", \"Naive Bayes\", \"0.1\", \"0.67.2\"])\n",
    "\n",
    "  \n",
    "print(table)"
   ]
  }
 ],
 "metadata": {
  "colab": {
   "collapsed_sections": [],
   "name": "6_Assignment_NB_Instructions.ipynb",
   "provenance": []
  },
  "kernelspec": {
   "display_name": "Python 3",
   "language": "python",
   "name": "python3"
  },
  "language_info": {
   "codemirror_mode": {
    "name": "ipython",
    "version": 3
   },
   "file_extension": ".py",
   "mimetype": "text/x-python",
   "name": "python",
   "nbconvert_exporter": "python",
   "pygments_lexer": "ipython3",
   "version": "3.8.8"
  }
 },
 "nbformat": 4,
 "nbformat_minor": 1
}
