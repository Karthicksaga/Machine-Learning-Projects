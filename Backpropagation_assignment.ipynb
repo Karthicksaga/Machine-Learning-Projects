{
 "cells": [
  {
   "cell_type": "markdown",
   "metadata": {
    "id": "y871RZtRhCEH"
   },
   "source": [
    "# <font color='red'>BackPropagation</font>"
   ]
  },
  {
   "cell_type": "markdown",
   "metadata": {
    "id": "LqePYi-4mFvK"
   },
   "source": [
    "**There will be some functions that start with the word \"grader\" ex: grader_sigmoid(), grader_forwardprop(), grader_backprop() etc, you should not change those function definition.<br><br>Every Grader function has to return True.**"
   ]
  },
  {
   "cell_type": "markdown",
   "metadata": {
    "id": "0huUQ0byiI0I"
   },
   "source": [
    "## <font color='red'>Loading data </font>"
   ]
  },
  {
   "cell_type": "code",
   "execution_count": 1,
   "metadata": {
    "colab": {
     "base_uri": "https://localhost:8080/",
     "height": 50
    },
    "id": "1hSje5CBgcUb",
    "outputId": "66535fa5-f8a2-4792-bc62-7842c93480f7"
   },
   "outputs": [
    {
     "name": "stdout",
     "output_type": "stream",
     "text": [
      "(506, 6)\n",
      "(506, 5) (506,)\n"
     ]
    }
   ],
   "source": [
    "import pickle\n",
    "import numpy as np\n",
    "from tqdm import tqdm\n",
    "import matplotlib.pyplot as plt\n",
    "\n",
    "\n",
    "with open('data.pkl', 'rb') as f:\n",
    "    data = pickle.load(f)\n",
    "print(data.shape)\n",
    "X = data[:, :5]\n",
    "y = data[:, -1]\n",
    "print(X.shape, y.shape)"
   ]
  },
  {
   "cell_type": "markdown",
   "metadata": {
    "id": "5JL-0soQistC"
   },
   "source": [
    "# <font color='red'>Computational graph</font>"
   ]
  },
  {
   "cell_type": "markdown",
   "metadata": {
    "id": "nREnTTJ3i0Vd"
   },
   "source": [
    "<img src='https://i.imgur.com/seSGbNS.png'>"
   ]
  },
  {
   "cell_type": "markdown",
   "metadata": {
    "id": "DSPX_H_4i_HT"
   },
   "source": [
    "\n",
    "*  **If you observe the graph, we are having input features [f1, f2, f3, f4, f5] and 9 weights [w1, w2, w3, w4, w5, w6,    w7, w8, w9]**.<br><br>\n",
    "*  **The final output of this graph is a value L which is computed as (Y-Y')^2** "
   ]
  },
  {
   "cell_type": "markdown",
   "metadata": {
    "id": "D54eDEv6jkO4"
   },
   "source": [
    "# <font color='red'>Task 1: Implementing backpropagation and Gradient checking </font>"
   ]
  },
  {
   "cell_type": "markdown",
   "metadata": {
    "id": "qocI1Vzqkod9"
   },
   "source": [
    "<font color='blue'><b>Check this video for better understanding of the computational graphs and back propagation</font>"
   ]
  },
  {
   "cell_type": "code",
   "execution_count": 2,
   "metadata": {
    "colab": {
     "base_uri": "https://localhost:8080/",
     "height": 521
    },
    "id": "Wb5WMdwJinlX",
    "outputId": "b10489ec-890a-445a-c6a4-a3e0ea2a66be"
   },
   "outputs": [
    {
     "data": {
      "image/jpeg": "[encoded data removed]",
      "text/html": [
       "\n",
       "        <iframe\n",
       "            width=\"1000\"\n",
       "            height=\"500\"\n",
       "            src=\"https://www.youtube.com/embed/i94OvYb6noo\"\n",
       "            frameborder=\"0\"\n",
       "            allowfullscreen\n",
       "        ></iframe>\n",
       "        "
      ],
      "text/plain": [
       "<IPython.lib.display.YouTubeVideo at 0x17c5b0c02e0>"
      ]
     },
     "execution_count": 2,
     "metadata": {},
     "output_type": "execute_result"
    }
   ],
   "source": [
    "from IPython.display import YouTubeVideo\n",
    "YouTubeVideo('i94OvYb6noo',width=\"1000\",height=\"500\")"
   ]
  },
  {
   "cell_type": "markdown",
   "metadata": {
    "id": "2jecTyVRlh-6"
   },
   "source": [
    "\n",
    "*  <b>Write two functions<br>\n",
    "    *  Forward propagation</b>(Write your code in<font color='blue'> def forward_propagation()</b></font>)<br><br>\n",
    "    For easy debugging, we will break the computational graph into 3 parts.\n",
    "\n",
    "    <font color='green'><b>Part 1</b></font></b>\n",
    "    <img src='https://i.imgur.com/0xUaxy6.png'><br><br>\n",
    "    <font color='green'><b>Part 2</b></font></b><br>\n",
    "    <img src='https://i.imgur.com/J29pAJL.png'><br><br>\n",
    "    <font color='green'><b>Part 3</b></font></b>\n",
    "    <img src='https://i.imgur.com/vMyCsd9.png'>\n",
    "\n",
    "    <pre>\n",
    "    <font color='green'>\n",
    "def forward_propagation(X, y, W):\n",
    "        <font color='grey'>\n",
    "        # X: input data point, note that in this assignment you are having 5-d data points\n",
    "        # y: output varible\n",
    "        # W: weight array, its of length 9, W[0] corresponds to w1 in graph, W[1] corresponds to w2 in graph, <br>         ..., W[8] corresponds to w9 in graph.  \n",
    "        # you have to return the following variables\n",
    "        # exp= part1 (compute the forward propagation until exp and then store the values in exp)\n",
    "        # tanh =part2(compute the forward propagation until tanh and then store the values in tanh)\n",
    "        # sig = part3(compute the forward propagation until sigmoid and then store the values in sig)\n",
    "        # now compute remaining values from computional graph and get y'\n",
    "        # write code to compute the value of L=(y-y')^2\n",
    "        # compute derivative of L  w.r.to Y' and store it in dl\n",
    "        # Create a dictionary to store all the intermediate values\n",
    "        # store L, exp,tanh,sig,dl variables\n",
    "        </font>\n",
    "        return (dictionary, which you might need to use for back propagation)\n",
    "        <font color='grey'>\n",
    "        </font>\n",
    "</font>\n",
    "</pre>\n",
    "    *  <b>Backward propagation</b>(Write your code in<font color='blue'> def backward_propagation()</b></font>)\n",
    "    </b>\n",
    "    <pre>\n",
    "    <font color='green'>\n",
    "    def backward_propagation(L, W,dictionary):\n",
    "        <font color='grey'>\n",
    "        # L: the loss we calculated for the current point\n",
    "        # dictionary: the outputs of the forward_propagation() function\n",
    "        # write code to compute the gradients of each weight [w1,w2,w3,...,w9]\n",
    "        # Hint: you can use dict type to store the required variables \n",
    "        # return dW, dW is a dictionary with gradients of all the weights\n",
    "        </font>\n",
    "        return dW\n",
    "        </font>\n",
    "</font>\n",
    "</pre>"
   ]
  },
  {
   "cell_type": "markdown",
   "metadata": {
    "id": "STS4NrQQc6OH"
   },
   "source": [
    " ## <font color='red'>Gradient clipping</font>"
   ]
  },
  {
   "cell_type": "markdown",
   "metadata": {
    "id": "XY7ivRNzdPok"
   },
   "source": [
    "<b> Check this  <a href='https://towardsdatascience.com/how-to-debug-a-neural-network-with-gradient-checking-41deec0357a9'>blog link</a> for more details on Gradient clipping"
   ]
  },
  {
   "cell_type": "markdown",
   "metadata": {
    "id": "BrsfpDoidtZ5"
   },
   "source": [
    " we know that the derivative of any function is\n",
    " \n",
    " $$\\lim_{\\epsilon\\to0}\\frac{f(x+\\epsilon)-f(x-\\epsilon)}{2\\epsilon}$$\n"
   ]
  },
  {
   "cell_type": "markdown",
   "metadata": {
    "id": "vUcmt0kPd02f"
   },
   "source": [
    "*  The definition above can be used as a numerical approximation of the derivative. Taking an epsilon small enough, the calculated approximation will have an error in the range of epsilon squared. \n",
    "\n",
    "*  In other words, if epsilon is 0.001, the approximation will be off by 0.00001.\n",
    "\n",
    "Therefore, we can use this to approximate the gradient, and in turn make sure that backpropagation is implemented properly. This forms the basis of <b>gradient checking!</b>"
   ]
  },
  {
   "cell_type": "markdown",
   "metadata": {
    "id": "pFSu16KCeU0x"
   },
   "source": [
    "## <Font color='blue'>Gradient checking example</font>"
   ]
  },
  {
   "cell_type": "markdown",
   "metadata": {
    "id": "Gz0mmT_xecfC"
   },
   "source": [
    "<font >\n",
    "lets understand the concept with a simple example:\n",
    "$f(w1,w2,x1,x2)=w_{1}^{2} . x_{1} + w_{2} . x_{2}$ \n",
    "\n",
    "from the above function , lets assume $w_{1}=1$, $w_{2}=2$, $x_{1}=3$, $x_{2}=4$ the gradient of $f$ w.r.t $w_{1}$ is\n",
    "\n",
    "\\begin{array} {lcl}\n",
    "\\frac{df}{dw_{1}} = dw_{1} &=&2.w_{1}.x_{1} \\\\& = &2.1.3\\\\& = &6\n",
    "\\end{array}\n",
    "\n",
    "\n",
    "let calculate the aproximate gradient of $w_{1}$ as mentinoned in the above formula and considering $\\epsilon=0.0001$\n",
    "\n",
    "\\begin{array} {lcl}\n",
    "dw_1^{approx} & = & \\frac{f(w1+\\epsilon,w2,x1,x2)-f(w1-\\epsilon,w2,x1,x2)}{2\\epsilon} \\\\ & = & \\frac{((1+0.0001)^{2} . 3 + 2 . 4) - ((1-0.0001)^{2} . 3 + 2 . 4)}{2\\epsilon} \\\\ & = & \\frac{(1.00020001 . 3 + 2 . 4) - (0.99980001. 3 + 2 . 4)}{2*0.0001} \\\\ & = & \\frac{(11.00060003) - (10.99940003)}{0.0002}\\\\ & = & 5.99999999999\n",
    "\\end{array}\n",
    "\n",
    "Then, we apply the following formula for gradient check: <i>gradient_check</i> = \n",
    "$\\frac{\\left\\Vert\\left (dW-dW^{approx}\\rm\\right) \\right\\Vert_2}{\\left\\Vert\\left (dW\\rm\\right) \\right\\Vert_2+\\left\\Vert\\left (dW^{approx}\\rm\\right) \\right\\Vert_2}$\n",
    "\n",
    "The equation above is basically the Euclidean distance normalized by the sum of the norm of the vectors. We use normalization in case that one of the vectors is very small.\n",
    "As a value for epsilon, we usually opt for 1e-7. Therefore, if gradient check return a value less than 1e-7, then it means that backpropagation was implemented correctly. Otherwise, there is potentially a mistake in your implementation. If the value exceeds 1e-3, then you are sure that the code is not correct.\n",
    "\n",
    "in our example: <i>gradient_check</i> $ = \\frac{(6 - 5.999999999994898)}{(6 + 5.999999999994898)} = 4.2514140356330737e^{-13}$\n",
    "\n",
    "you can mathamatically derive the same thing like this\n",
    "\n",
    "\\begin{array} {lcl}\n",
    "dw_1^{approx} & = & \\frac{f(w1+\\epsilon,w2,x1,x2)-f(w1-\\epsilon,w2,x1,x2)}{2\\epsilon} \\\\ & = & \\frac{((w_{1}+\\epsilon)^{2} . x_{1} + w_{2} . x_{2}) - ((w_{1}-\\epsilon)^{2} . x_{1} + w_{2} . x_{2})}{2\\epsilon} \\\\ & = & \\frac{4. \\epsilon.w_{1}. x_{1}}{2\\epsilon} \\\\ & = &  2.w_{1}.x_{1}\n",
    "\\end{array}\n"
   ]
  },
  {
   "cell_type": "markdown",
   "metadata": {
    "id": "f1BFQQaCermK"
   },
   "source": [
    "## <font color='red'> Implement Gradient checking </font> <br>\n",
    " (Write your code in <font color='blue'> def gradient_checking()</font>)"
   ]
  },
  {
   "cell_type": "markdown",
   "metadata": {
    "id": "GqpfA3AqfJba"
   },
   "source": [
    "**Algorithm** \n",
    "\n"
   ]
  },
  {
   "cell_type": "markdown",
   "metadata": {
    "id": "FL39KeRFfNoD"
   },
   "source": [
    "<pre>\n",
    "<font color='darkblue'>\n",
    "W = initilize_randomly\n",
    "def gradient_checking(data_point, W):<font color='grey'>\n",
    "    # compute the L value using forward_propagation()\n",
    "    # compute the gradients of W using backword_propagation()</font>\n",
    "    approx_gradients = []\n",
    "    for each wi weight value in W:<font color='grey'>\n",
    "        # add a small value to weight wi, and then find the values of L with the updated weights\n",
    "        # subtract a small value to weight wi, and then find the values of L with the updated weights\n",
    "        # compute the approximation gradients of weight wi</font>\n",
    "        approx_gradients.append(approximation gradients of weight wi)<font color='grey'>\n",
    "    # compare the gradient of weights W from backword_propagation() with the aproximation gradients of weights with <br>  gradient_check formula</font>\n",
    "    return gradient_check</font>\n",
    "<b>NOTE: you can do sanity check by checking all the return values of gradient_checking(),<br> they have to be zero. if not you have bug in your code\n",
    "</pre></b>"
   ]
  },
  {
   "cell_type": "markdown",
   "metadata": {
    "id": "0ufbFBFfhgL0"
   },
   "source": [
    "# <font color='red'> Task 2 : Optimizers </font>"
   ]
  },
  {
   "cell_type": "markdown",
   "metadata": {
    "id": "7zt05soYh1RM"
   },
   "source": [
    "* As a part of this task, you will be implementing 3 type of optimizers(methods to update weight)\n",
    "* Use the same computational graph that was mentioned above to do this task\n",
    "* Initilze the 9 weights from normal distribution with mean=0 and std=0.01"
   ]
  },
  {
   "cell_type": "markdown",
   "metadata": {
    "id": "CAyi7aSAicbr"
   },
   "source": [
    "**Check below video and <a href='https://cs231n.github.io/neural-networks-3/'>this</a> blog**"
   ]
  },
  {
   "cell_type": "code",
   "execution_count": 3,
   "metadata": {
    "colab": {
     "base_uri": "https://localhost:8080/",
     "height": 521
    },
    "id": "ZogcxiegkQpz",
    "outputId": "9b4e0235-e638-4f20-d9c1-ac3ca4fb3ce8"
   },
   "outputs": [
    {
     "data": {
      "image/jpeg": "[encoded data removed]",
      "text/html": [
       "\n",
       "        <iframe\n",
       "            width=\"1000\"\n",
       "            height=\"500\"\n",
       "            src=\"https://www.youtube.com/embed/gYpoJMlgyXA\"\n",
       "            frameborder=\"0\"\n",
       "            allowfullscreen\n",
       "        ></iframe>\n",
       "        "
      ],
      "text/plain": [
       "<IPython.lib.display.YouTubeVideo at 0x17c5b0c0760>"
      ]
     },
     "execution_count": 3,
     "metadata": {},
     "output_type": "execute_result"
    }
   ],
   "source": [
    "from IPython.display import YouTubeVideo\n",
    "YouTubeVideo('gYpoJMlgyXA',width=\"1000\",height=\"500\")"
   ]
  },
  {
   "cell_type": "markdown",
   "metadata": {
    "id": "jmefh7ktjbaR"
   },
   "source": [
    "<font color='blue'><b>Algorithm</b>"
   ]
  },
  {
   "cell_type": "markdown",
   "metadata": {
    "id": "nAc4NudkjdNa"
   },
   "source": [
    "<pre>\n",
    "    for each epoch(1-100):\n",
    "        for each data point in your data:\n",
    "            using the functions forward_propagation() and backword_propagation() compute the gradients of weights\n",
    "            update the weigts with help of gradients  ex: w1 = w1-learning_rate*dw1\n",
    "</pre>"
   ]
  },
  {
   "cell_type": "markdown",
   "metadata": {
    "id": "_fdmPNqtjm3X"
   },
   "source": [
    "## <font color='red'> Implement below tasks</b>"
   ]
  },
  {
   "cell_type": "markdown",
   "metadata": {
    "id": "Ll9-CRsLjx_D"
   },
   "source": [
    "\n",
    "*  <b>Task 2.1</b>: you will be implementing the above algorithm with <b>Vanilla update</b> of weights<br><br>\n",
    "*  <b>Task 2.2</b>: you will be implementing the above algorithm with <b>Momentum update</b> of weights<br><br>\n",
    "*  <b>Task 2.3</b>: you will be implementing the above algorithm with <b>Adam update</b> of weights\n"
   ]
  },
  {
   "cell_type": "markdown",
   "metadata": {
    "id": "atp082demrUR"
   },
   "source": [
    "**Note : If you get any assertion error while running grader functions, please print the variables in grader functions and check which variable is returning False .Recheck your logic for that variable .**"
   ]
  },
  {
   "cell_type": "markdown",
   "metadata": {
    "id": "phG2WDkjkuIL"
   },
   "source": [
    "<br>\n",
    "<br>\n",
    "<br>"
   ]
  },
  {
   "cell_type": "markdown",
   "metadata": {
    "id": "CBaPzHP63grG"
   },
   "source": [
    "# <font color='red'>Task 1 </font>"
   ]
  },
  {
   "cell_type": "markdown",
   "metadata": {
    "id": "QfmV3FUgSrBo"
   },
   "source": [
    "## <font color='blue'>Forward propagation </font>"
   ]
  },
  {
   "cell_type": "code",
   "execution_count": 2,
   "metadata": {},
   "outputs": [],
   "source": [
    "def sigmoid(z):\n",
    "    '''In this function, we will compute the sigmoid(z)'''\n",
    "    # we can use this function in forward and backward propagation\n",
    "    sigma = 1 / (1 + np.exp(-z))\n",
    "\n",
    "    return sigma"
   ]
  },
  {
   "cell_type": "markdown",
   "metadata": {},
   "source": [
    " <img src='https://i.imgur.com/0xUaxy6.png'><br><br>"
   ]
  },
  {
   "cell_type": "code",
   "execution_count": 3,
   "metadata": {},
   "outputs": [],
   "source": [
    "#forward_propagation\n",
    "def part_1_graph(x,w):\n",
    "    \n",
    "    #a = w1 * f1 \n",
    "    \n",
    "    a = w[0] * x[0]\n",
    "    \n",
    "    \n",
    "    b = w[1] * x[1]\n",
    "    \n",
    "    c = a + b\n",
    "    \n",
    "    d  = c * c\n",
    "\n",
    "    f = w[5] + d\n",
    "    \n",
    "    exp = np.exp(f)\n",
    "    \n",
    "    return exp"
   ]
  },
  {
   "cell_type": "markdown",
   "metadata": {},
   "source": [
    "<img src='https://i.imgur.com/J29pAJL.png'>"
   ]
  },
  {
   "cell_type": "code",
   "execution_count": 4,
   "metadata": {},
   "outputs": [],
   "source": [
    "#computing the tanh function\n",
    "def part_2_graph(w,exp):\n",
    "    \n",
    "    a = exp + w[6]\n",
    "    \n",
    "    return np.tanh(a)"
   ]
  },
  {
   "cell_type": "markdown",
   "metadata": {},
   "source": [
    " <img src='https://i.imgur.com/vMyCsd9.png'>"
   ]
  },
  {
   "cell_type": "code",
   "execution_count": 5,
   "metadata": {},
   "outputs": [],
   "source": [
    "def part_3_graph(x,w):\n",
    "    \n",
    "    a = w[2] * x[2]\n",
    "    \n",
    "    b = w[3] * x[3]\n",
    "    \n",
    "    c = w[4] * x[4]\n",
    "    \n",
    "    d = b + c\n",
    "    \n",
    "    e = np.sin(a)\n",
    "    \n",
    "    f = d * e\n",
    "    \n",
    "    g = f + w[7]\n",
    "    \n",
    "    sigma = sigmoid(g)\n",
    "    \n",
    "    return sigma"
   ]
  },
  {
   "cell_type": "code",
   "execution_count": 6,
   "metadata": {
    "id": "5_pBivcY30qf"
   },
   "outputs": [],
   "source": [
    "\n",
    "    \n",
    "def forward_propagation(x, y, w):\n",
    "        '''In this function, we will compute the forward propagation '''\n",
    "        # X: input data point, note that in this assignment you are having 5-d data points\n",
    "        \n",
    "        \n",
    "        # y: output varible\n",
    "        # W: weight array, its of length 9, W[0] corresponds to w1 in graph, W[1] corresponds to w2 in graph,..., W[8] corresponds to w9 in graph.  \n",
    "        # you have to return the following variables\n",
    "        \n",
    "        #exponentiation for the forward_propagation\n",
    "        exp = part_1_graph(x,w)\n",
    "        #tanh function\n",
    "        tanh = part_2_graph(w,exp)\n",
    "        #sigmoid\n",
    "        sigma = part_3_graph(x,w)\n",
    "        #\n",
    "        y_dash = (sigma * w[8]) + tanh\n",
    "        \n",
    "        #loss\n",
    "        l = (y - y_dash) ** 2\n",
    "        \n",
    "        #derivative  of loss\n",
    "        dl = -2 * (y - y_dash)\n",
    "        \n",
    "        cache = {}\n",
    "        cache[\"dy_pr\"] = dl\n",
    "        \n",
    "        cache['loss'] = l\n",
    "        \n",
    "        cache['exp'] = exp\n",
    "        \n",
    "        cache['tanh'] = tanh\n",
    "        \n",
    "        cache['sigmoid'] = sigma\n",
    "        # exp= part1 (compute the forward propagation until exp and then store the values in exp)\n",
    "        # tanh =part2(compute the forward propagation until tanh and then store the values in tanh)\n",
    "        # sig = part3(compute the forward propagation until sigmoid and then store the values in sig)\n",
    "        # now compute remaining values from computional graph and get y'\n",
    "        # write code to compute the value of L=(y-y')^2\n",
    "        # compute derivative of L  w.r.to Y' and store it in dl\n",
    "        # Create a dictionary to store all the intermediate values\n",
    "        # store L, exp,tanh,sig variables\n",
    "        #return (dictionary, which you might need to use for back propagation)\n",
    "        return cache"
   ]
  },
  {
   "cell_type": "markdown",
   "metadata": {
    "id": "z-z1rGKqCHNN"
   },
   "source": [
    "<font color='cyan'>Grader function - 1</font>"
   ]
  },
  {
   "cell_type": "code",
   "execution_count": 7,
   "metadata": {
    "id": "6ZxFF00zBmx1"
   },
   "outputs": [
    {
     "data": {
      "text/plain": [
       "True"
      ]
     },
     "execution_count": 7,
     "metadata": {},
     "output_type": "execute_result"
    }
   ],
   "source": [
    "def grader_sigmoid(z):\n",
    "  val=sigmoid(z)\n",
    "  assert(val==0.8807970779778823)\n",
    "  return True\n",
    "grader_sigmoid(2)"
   ]
  },
  {
   "cell_type": "markdown",
   "metadata": {
    "id": "KgAUXq_aChey"
   },
   "source": [
    "<font color='cyan'>Grader function - 2 </font>"
   ]
  },
  {
   "cell_type": "code",
   "execution_count": 8,
   "metadata": {
    "id": "3uzsUqcjCorN"
   },
   "outputs": [
    {
     "data": {
      "text/plain": [
       "True"
      ]
     },
     "execution_count": 8,
     "metadata": {},
     "output_type": "execute_result"
    }
   ],
   "source": [
    "def grader_forwardprop(data):\n",
    "    dl = (data['dy_pr']==-1.9285278284819143)\n",
    "    loss=(data['loss']==0.9298048963072919)\n",
    "    part1=(data['exp']==1.1272967040973583)\n",
    "    part2=(data['tanh']==0.8417934192562146)\n",
    "    part3=(data['sigmoid']==0.5279179387419721)\n",
    "    assert(dl and loss and part1 and part2 and part3)\n",
    "    return True\n",
    "w=np.ones(9)*0.1\n",
    "d1=forward_propagation(X[0],y[0],w)\n",
    "grader_forwardprop(d1)"
   ]
  },
  {
   "cell_type": "markdown",
   "metadata": {
    "id": "obOaAqj3Sxvb"
   },
   "source": [
    "## <font color='blue'>Backward propagation</font>"
   ]
  },
  {
   "cell_type": "code",
   "execution_count": 9,
   "metadata": {
    "id": "dS49ykcOGhIv"
   },
   "outputs": [],
   "source": [
    "import math\n",
    "def backward_propagation(x,w,dict_):\n",
    "    '''In this function, we will compute the backward propagation '''\n",
    "    \n",
    "    grad_l = dict_['dy_pr']\n",
    "    \n",
    "    grad_sigmoid = dict_['sigmoid'] * (1 - dict_['sigmoid'])\n",
    "    \n",
    "    \n",
    "    \n",
    "    # L: the loss we calculated for the current point\n",
    "    # dictionary: the outputs of the forward_propagation() function\n",
    "    # write code to compute the gradients of each weight [w1,w2,w3,...,w9]\n",
    "    # Hint: you can use dict type to store the required variables \n",
    "\n",
    "    a = w[0] * x[0]\n",
    "    \n",
    "    \n",
    "    b = w[1] * x[1]\n",
    "    \n",
    "    c = a + b\n",
    "    \n",
    "   \n",
    "    \n",
    "    dw1 =  grad_l * (1-(dict_['tanh'] ** 2)) * dict_[\"exp\"] * (2 * c * x[0])\n",
    "    \n",
    "    dw2 = grad_l * (1-(dict_['tanh'] ** 2)) * dict_[\"exp\"] * (2 * c * x[1])\n",
    "    # dw1 = # in dw1 compute derivative of L w.r.to w1\n",
    "    # dw2 = # in dw2 compute derivative of L w.r.to w2\n",
    "    # dw3 = # in dw3 compute derivative of L w.r.to w3\n",
    "    # dw4 = # in dw4 compute derivative of L w.r.to w4\n",
    "    # dw5 = # in dw5 compute derivative of L w.r.to w5\n",
    "    # dw6 = # in dw6 compute derivative of L w.r.to w6\n",
    "    \n",
    "    # dw8 = # in dw8 compute derivative of L w.r.to w8\n",
    "   \n",
    "    dw3 = dict_['dy_pr'] * w[8] * grad_sigmoid * ((x[3] * w[3]) + (x[4] * w[4])) * np.cos(w[2] * x[2]) * x[2] \n",
    "    \n",
    "    dw4 =  dict_['dy_pr'] * w[8] * grad_sigmoid * np.sin(w[2] * x[2]) * x[3]\n",
    "    \n",
    "    dw5 =  dict_['dy_pr'] * w[8] * grad_sigmoid * np.sin(w[2] * x[2]) * x[4]\n",
    "    \n",
    "    dw6 = dict_['dy_pr'] * ((1 - dict_['tanh'] **2)) * dict_['exp']\n",
    "    # dw7 = # in dw7 compute derivative of L w.r.to w7\n",
    "    dw7 = dict_['dy_pr'] * ((1 - dict_['tanh'] **2))\n",
    "    # dw7 = # in dw7 compute derivative of L w.r.to w7\n",
    "    dw8 = dict_['dy_pr'] * w[8] *  grad_sigmoid\n",
    "     # dw9 = # in dw9 compute derivative of L w.r.to w9\n",
    "    dw9 = dict_['dy_pr'] * dict_['sigmoid']\n",
    "  \n",
    "    dw = {\"dw1\": dw1 ,'dw2' : dw2, 'dw3':dw3,'dw4':dw4, 'dw5' : dw5 ,'dw6' : dw6, 'dw7': dw7, 'dw8' : dw8, 'dw9' : dw9}\n",
    "    \n",
    "    \n",
    "    return dw\n",
    "    # return dW, dW is a dictionary with gradients of all the weights"
   ]
  },
  {
   "cell_type": "markdown",
   "metadata": {
    "id": "2NpZWAVlS4jb"
   },
   "source": [
    "<font color='cyan'>Grader function - 3 </font>"
   ]
  },
  {
   "cell_type": "code",
   "execution_count": 10,
   "metadata": {
    "id": "1a8Kll2xGhMJ"
   },
   "outputs": [
    {
     "data": {
      "text/plain": [
       "True"
      ]
     },
     "execution_count": 10,
     "metadata": {},
     "output_type": "execute_result"
    }
   ],
   "source": [
    "def grader_backprop(data):\n",
    "    dw1=(data['dw1']==-0.22973323498702003)\n",
    "    dw2=(data['dw2']==-0.021407614717752925)\n",
    "    dw3=(data['dw3']==-0.005625405580266319)\n",
    "    dw4=(data['dw4']==-0.004657941222712423)\n",
    "    dw5=(data['dw5']==-0.0010077228498574246)\n",
    "    dw6=(data['dw6']==-0.6334751873437471)\n",
    "    dw7=(data['dw7']==-0.561941842854033)\n",
    "    dw8=(data['dw8']==-0.04806288407316516)\n",
    "    dw9=(data['dw9']==-1.0181044360187037)\n",
    "    assert(dw1 and dw2 and dw3 and dw4 and dw5 and dw6 and dw7 and dw8 and dw9)\n",
    "    return True \n",
    "w=np.ones(9)*0.1\n",
    "d1=forward_propagation(X[0],y[0],w)\n",
    "d1=backward_propagation(X[0],w,d1)\n",
    "grader_backprop(d1)"
   ]
  },
  {
   "cell_type": "markdown",
   "metadata": {
    "id": "1rfHHXZwgwo6"
   },
   "source": [
    "## <font color='blue'> Implement gradient checking</font>"
   ]
  },
  {
   "cell_type": "code",
   "execution_count": 12,
   "metadata": {
    "id": "oh8wj1yjGhOi"
   },
   "outputs": [
    {
     "name": "stdout",
     "output_type": "stream",
     "text": [
      "Gradient Checking : [7.362150322263428e-09, 2.463797386193814e-10, 1.3034576038943928e-09, 3.1669130245845327e-09, 1.3670778027900151e-08, 1.2603894299020707e-09, 2.6672395515602407e-09, 4.849970475989172e-10, 6.418032240380466e-13]\n"
     ]
    }
   ],
   "source": [
    "def gradient_checking(datapoint,y, W,epsilon):\n",
    "    # compute the L value using forward_propagation()\n",
    "    \n",
    "    gradient_check = []\n",
    "    #compute the forward_propogarion \n",
    "    cache = forward_propagation(datapoint,y,W)\n",
    "    #compute backward_propogation\n",
    "    grad = backward_propagation(datapoint,W,cache)\n",
    "    # compute the gradients of W using backword_propagation()\n",
    "    approx_gradients = []\n",
    "   \n",
    "    #add small varience in each weight and compute the grad approximation\n",
    "    for w in range(len(W)):\n",
    "        theta_plus_weight,theta_minus_weight = [],[]\n",
    "        \n",
    "        for i in W:\n",
    "            if  i == W[w]:\n",
    "                theta_plus_weight.append(i + epsilon)\n",
    "                theta_minus_weight.append(i - epsilon)\n",
    "            else:\n",
    "                theta_plus_weight.append(i)\n",
    "                theta_minus_weight.append(i)\n",
    "                \n",
    "        lossPlus = forward_propagation(datapoint,y,theta_plus_weight)\n",
    "        lossMinus = forward_propagation(datapoint,y,theta_minus_weight)\n",
    "        \n",
    "        #grad_approximation \n",
    "        grad_approximation = (lossPlus['loss'] - lossMinus['loss']) / (2 * epsilon)\n",
    "        \n",
    "        approx_gradients.append(grad_approximation)\n",
    "    \n",
    "    grad = list(grad.values())\n",
    "    \n",
    "    if len(approx_gradients) == len(grad):\n",
    "        \n",
    "        for approx in range(len(grad)):\n",
    "            \n",
    "            numerator = np.linalg.norm(float(grad[approx]) - float(approx_gradients[approx]))\n",
    "            denominator = np.linalg.norm(float(grad[approx])) + np.linalg.norm(float(approx_gradients[approx]))\n",
    "\n",
    "            difference = numerator / denominator\n",
    "\n",
    "            if difference < 1e-7:\n",
    "                \n",
    "                gradient_check.append(difference)\n",
    "            else:\n",
    "                print(\"Error in Gradient : {0}\".format(grad[approx]))\n",
    "            \n",
    "    else:\n",
    "        print(\"Length is mismatching\")\n",
    "        \n",
    "        # add a small value to weight wi, and then find the values of L with the updated weights\n",
    "        # subtract a small value to weight wi, and then find the values of L with the updated weights\n",
    "        # compute the approximation gradients of weight wi\n",
    "    # compare the gradient of weights W from backword_propagation() with the aproximation gradients of weights with gradient_check formula\n",
    "    return gradient_check\n",
    "w = np.random.normal(0.0,0.01,size = 9)\n",
    "print(\"Gradient Checking : {0}\".format(gradient_checking(X[0],y[0],w,0.0001)))"
   ]
  },
  {
   "cell_type": "markdown",
   "metadata": {
    "id": "MhwDSe99kJ32"
   },
   "source": [
    "# <font color='red'>Task 2: Optimizers"
   ]
  },
  {
   "cell_type": "markdown",
   "metadata": {
    "id": "jJzI-vnPk1dB"
   },
   "source": [
    "###<font color='blue'>Algorithm with Vanilla update of weights</font>"
   ]
  },
  {
   "cell_type": "code",
   "execution_count": 14,
   "metadata": {
    "id": "xJspU6ZuGhRQ"
   },
   "outputs": [],
   "source": [
    "#https://towardsdatascience.com/adam-latest-trends-in-deep-learning-optimization-6be9a291375c\n",
    "#algorithm for SGD\n",
    "\n",
    "class NeuralNetworkOptimizer:\n",
    "    \n",
    "    def __init__(self,X,Y,epoch,learning_rate):\n",
    "        \n",
    "        self.X = X\n",
    "        self.Y = y\n",
    "        self.epochs = epoch\n",
    "        self.learning_rate = learning_rate\n",
    "        self.loss = []\n",
    "        \n",
    "        \n",
    "    def sigmoid(self,z):\n",
    "    # we can use this function in forward and backward propagation\n",
    "        sigma = 1 / (1 + np.exp(-z))\n",
    "\n",
    "        return sigma\n",
    "    \n",
    "    def part_1_graph(self,x,w):\n",
    "        #a = w1 * f1 \n",
    "        a = w[0] * x[0]\n",
    "        b = w[1] * x[1]\n",
    "        c = a + b\n",
    "        d  = c * c\n",
    "        f = w[5] + d\n",
    "        exp = np.exp(f)\n",
    "        return exp\n",
    "\n",
    "    #computing the tanh function\n",
    "    def part_2_graph(self,w,exp):\n",
    "        a = exp + w[6]\n",
    "        return np.tanh(a)\n",
    "\n",
    "    def part_3_graph(self,x,w):\n",
    "    \n",
    "        a = w[2] * x[2]\n",
    "        b = w[3] * x[3]\n",
    "        c = w[4] * x[4]\n",
    "        d = b + c\n",
    "        e = np.sin(a)\n",
    "        f = d * e\n",
    "        g = f + w[7]\n",
    "        sigma = sigmoid(g)\n",
    "        return sigma\n",
    "    \n",
    "    def forward_propagation(self,x, y, w):\n",
    "        cache = {}\n",
    "        exp = self.part_1_graph(x,w)\n",
    "        tanh =self.part_2_graph(w,exp)\n",
    "        sigma = self.part_3_graph(x,w)\n",
    "        y_dash = (sigma * w[8]) + tanh\n",
    "        l = (y - y_dash) ** 2\n",
    "        dl = -2 * (y - y_dash)\n",
    "        cache[\"dy_pr\"] = dl\n",
    "        cache['loss'] = l\n",
    "        cache['exp'] = exp\n",
    "        cache['tanh'] = tanh\n",
    "        cache['sigmoid'] = sigma\n",
    "        return cache\n",
    "    \n",
    "    \n",
    "    def backward_propagations(self,x,w,dict_):\n",
    "        '''In this function, we will compute the backward propagation '''\n",
    "\n",
    "        grad_l = dict_['dy_pr']\n",
    "        grad_sigmoid = dict_['sigmoid'] * (1 - dict_['sigmoid'])\n",
    "        # L: the loss we calculated for the current point\n",
    "        # dictionary: the outputs of the forward_propagation() function\n",
    "        # write code to compute the gradients of each weight [w1,w2,w3,...,w9]\n",
    "        # Hint: you can use dict type to store the required variables \n",
    "\n",
    "        a = w[0] * x[0]\n",
    "        b = w[1] * x[1]\n",
    "        c = a + b\n",
    "        dw1 =  grad_l * (1-(dict_['tanh'] ** 2)) * dict_[\"exp\"] * (2 * c * x[0])\n",
    "        dw2 = grad_l * (1-(dict_['tanh'] ** 2)) * dict_[\"exp\"] * (2 * c * x[1])\n",
    "        # dw1 = # in dw1 compute derivative of L w.r.to w1\n",
    "        # dw2 = # in dw2 compute derivative of L w.r.to w2\n",
    "        # dw3 = # in dw3 compute derivative of L w.r.to w3\n",
    "        # dw4 = # in dw4 compute derivative of L w.r.to w4\n",
    "        # dw5 = # in dw5 compute derivative of L w.r.to w5\n",
    "        # dw6 = # in dw6 compute derivative of L w.r.to w6\n",
    "\n",
    "        # dw8 = # in dw8 compute derivative of L w.r.to w8\n",
    "\n",
    "        dw3 = dict_['dy_pr'] * w[8] * grad_sigmoid * ((x[3] * w[3]) + (x[4] * w[4])) * np.cos(w[2] * x[2]) * x[2] \n",
    "\n",
    "        dw4 =  dict_['dy_pr'] * w[8] * grad_sigmoid * np.sin(w[2] * x[2]) * x[3]\n",
    "\n",
    "        dw5 =  dict_['dy_pr'] * w[8] * grad_sigmoid * np.sin(w[2] * x[2]) * x[4]\n",
    "\n",
    "        dw6 = dict_['dy_pr'] * ((1 - dict_['tanh'] **2)) * dict_['exp']\n",
    "        # dw7 = # in dw7 compute derivative of L w.r.to w7\n",
    "        dw7 = dict_['dy_pr'] * ((1 - dict_['tanh'] **2))\n",
    "        # dw7 = # in dw7 compute derivative of L w.r.to w7\n",
    "        dw8 = dict_['dy_pr'] * w[8] *  grad_sigmoid\n",
    "         # dw9 = # in dw9 compute derivative of L w.r.to w9\n",
    "        dw9 = dict_['dy_pr'] * dict_['sigmoid']\n",
    "\n",
    "        dw = {\"dw1\": dw1 ,'dw2' : dw2, 'dw3':dw3,'dw4':dw4, 'dw5' : dw5 ,'dw6' : dw6, 'dw7': dw7, 'dw8' : dw8, 'dw9' : dw9}\n",
    "\n",
    "\n",
    "        return dw\n",
    "    \n",
    "    \n",
    "    def vennila_update(self):\n",
    "    \n",
    "        #initialize weight randomly not all zero small mean  and varience\n",
    "        W = np.random.normal(0.0,0.01,size = 9)\n",
    "        loss = []\n",
    "        #number of epochs untill convergence\n",
    "        for epoch in tqdm(range(self.epochs)):\n",
    "            \n",
    "            for i in range(self.X.shape[0]):\n",
    "                 #compute the forward_propogation\n",
    "                cache =  self.forward_propagation(self.X[i],self.Y[i],W)\n",
    "                #compute the derivative \n",
    "                dw = self.backward_propagations(self.X[i],W,cache)\n",
    "                #new Weights\n",
    "                weighnew = np.array(list(dw.values()))\n",
    "                \n",
    "                #update the weights\n",
    "                W = W - self.learning_rate * weighnew     \n",
    "            loss.append(cache['loss'])\n",
    "            \n",
    "        return (loss,W)\n",
    "    \n",
    "    \n",
    "#     v = mu * v - learning_rate * dx # integrate velocity\n",
    "#     x += v\n",
    "    \n",
    "    def momentum_update(self,mu):\n",
    "    \n",
    "        #initialize weight randomly not all zero small mean  and varience\n",
    "        W = np.random.normal(0.0,0.01,size = 9)\n",
    "        loss = []\n",
    "       \n",
    "        #initially v is defines as vector zeos\n",
    "        v = np.zeros((len(W)))\n",
    "        #number of epochs untill convergence\n",
    "        for epoch in tqdm(range(self.epochs)):\n",
    "            \n",
    "            for i in range(self.X.shape[0]):\n",
    "                 #compute the forward_propogation\n",
    "                cache =  self.forward_propagation(self.X[i],self.Y[i],W)\n",
    "                #compute the derivative \n",
    "                dw = self.backward_propagations(self.X[i],W,cache)\n",
    "                #new Weights\n",
    "                grad_weight = np.array(list(dw.values()))\n",
    "                \n",
    "                v = mu * v - self.learning_rate * grad_weight\n",
    "                \n",
    "                \n",
    "                #update the weights\n",
    "                W = W + v\n",
    "            loss.append(cache['loss'])\n",
    "            \n",
    "        return (loss,W)\n",
    "    \n",
    "    \n",
    "#     m = beta1*m + (1-beta1)*dx\n",
    "#     mt = m / (1-beta1**t)\n",
    "#     v = beta2*v + (1-beta2)*(dx**2)\n",
    "#     vt = v / (1-beta2**t)\n",
    "#     x += - learning_rate * mt / (np.sqrt(vt) + eps)\n",
    "    \n",
    "    def Adam_update(self,beta1,beta2):\n",
    "        \n",
    "         #initialize weight randomly not all zero small mean  and varience\n",
    "        W = np.random.normal(0.0,0.01,size = 9)\n",
    "        loss = []\n",
    "        epsilon = 1e-8\n",
    "        m =  np.zeros((len(W)))\n",
    "        t =  np.zeros((len(W)))\n",
    "        vt = np.zeros((len(W)))\n",
    "        v = np.zeros((len(W)))\n",
    "        #number of epochs untill convergence\n",
    "        for epoch in tqdm(range(self.epochs)):\n",
    "            \n",
    "            for i in range(self.X.shape[0]):\n",
    "                 #compute the forward_propogation\n",
    "                t += 1\n",
    "                \n",
    "                cache =  self.forward_propagation(self.X[i],self.Y[i],W)\n",
    "                #compute the derivative \n",
    "                dw = self.backward_propagations(self.X[i],W,cache)\n",
    "                #new Weights\n",
    "                grad_weight = np.array(list(dw.values())) \n",
    "                \n",
    "                m = beta1 * m + ((1-beta1) * grad_weight)\n",
    "                \n",
    "                mt = m / (1 - beta2 ** t)\n",
    "                \n",
    "                v = beta2*v + (1-beta2)*(grad_weight ** 2)\n",
    "                \n",
    "                vt = v / (1-beta2 ** t)\n",
    "                \n",
    "                #weighnew = np.array(list(dw.values()))\n",
    "                \n",
    "                #update the weights\n",
    "                W = W - self.learning_rate * (mt / (np.sqrt(vt) + epsilon))\n",
    "                 \n",
    "            loss.append(cache['loss'])\n",
    "            \n",
    "        return (loss,W)\n",
    "        \n",
    "        \n",
    "    \n",
    "    \n",
    "    \n",
    "            #compute forward_prop"
   ]
  },
  {
   "cell_type": "markdown",
   "metadata": {},
   "source": [
    "# Adam Optimizer "
   ]
  },
  {
   "cell_type": "code",
   "execution_count": 23,
   "metadata": {
    "scrolled": true
   },
   "outputs": [
    {
     "name": "stderr",
     "output_type": "stream",
     "text": [
      "100%|████████████████████████████████████████████████████████████████████████████████| 100/100 [00:04<00:00, 20.74it/s]\n"
     ]
    }
   ],
   "source": [
    "nn_adam = NeuralNetworkOptimizer(X,y,100,0.0001)\n",
    "loss_adam,optimal_weight_adam = nn_adam.Adam_update(0.9,0.999)"
   ]
  },
  {
   "cell_type": "code",
   "execution_count": 25,
   "metadata": {},
   "outputs": [
    {
     "data": {
      "image/png": "[encoded data removed]",
      "text/plain": [
       "<Figure size 720x720 with 1 Axes>"
      ]
     },
     "metadata": {
      "needs_background": "light"
     },
     "output_type": "display_data"
    }
   ],
   "source": [
    "epoch = 100\n",
    "plt.figure(figsize = (10,10))\n",
    "plt.title(\"Loss With Adam Optimization\")\n",
    "plt.plot(range(epoch),loss_adam[:])\n",
    "plt.scatter(range(epoch),loss_adam[:])\n",
    "#plt.plot(range(epoch),loss2)\n",
    "plt.xlabel(\"Epoch\")\n",
    "plt.ylabel(\"Loss\")\n",
    "plt.show()"
   ]
  },
  {
   "cell_type": "markdown",
   "metadata": {},
   "source": [
    "##  Plain SGD"
   ]
  },
  {
   "cell_type": "code",
   "execution_count": 16,
   "metadata": {
    "scrolled": true
   },
   "outputs": [
    {
     "name": "stderr",
     "output_type": "stream",
     "text": [
      "100%|████████████████████████████████████████████████████████████████████████████████| 100/100 [00:03<00:00, 32.86it/s]\n"
     ]
    }
   ],
   "source": [
    "nn = NeuralNetworkOptimizer(X,y,100,0.0001)\n",
    "loss_simple,optimal_weight = nn.vennila_update()"
   ]
  },
  {
   "cell_type": "code",
   "execution_count": 18,
   "metadata": {},
   "outputs": [
    {
     "data": {
      "image/png": "[encoded data removed]",
      "text/plain": [
       "<Figure size 720x720 with 1 Axes>"
      ]
     },
     "metadata": {
      "needs_background": "light"
     },
     "output_type": "display_data"
    }
   ],
   "source": [
    "epoch = 100\n",
    "plt.figure(figsize = (10,10))\n",
    "plt.title(\"Loss With Simple SGD\")\n",
    "plt.plot(range(epoch),loss_simple[:])\n",
    "plt.scatter(range(epoch),loss_simple[:])\n",
    "#plt.plot(range(epoch),loss2)\n",
    "plt.xlabel(\"Epoch\")\n",
    "plt.ylabel(\"Loss\")\n",
    "plt.show()"
   ]
  },
  {
   "cell_type": "markdown",
   "metadata": {},
   "source": [
    "## SGD With Momentum "
   ]
  },
  {
   "cell_type": "code",
   "execution_count": 19,
   "metadata": {},
   "outputs": [
    {
     "name": "stderr",
     "output_type": "stream",
     "text": [
      "100%|████████████████████████████████████████████████████████████████████████████████| 100/100 [00:03<00:00, 29.60it/s]\n"
     ]
    }
   ],
   "source": [
    "nn_momentum = NeuralNetworkOptimizer(X,y,100,0.0001)\n",
    "loss_momentum,optimal_weight_momentum = nn_momentum.momentum_update(0.9)"
   ]
  },
  {
   "cell_type": "code",
   "execution_count": 22,
   "metadata": {
    "scrolled": true
   },
   "outputs": [
    {
     "data": {
      "image/png": "[encoded data removed]",
      "text/plain": [
       "<Figure size 720x720 with 1 Axes>"
      ]
     },
     "metadata": {
      "needs_background": "light"
     },
     "output_type": "display_data"
    }
   ],
   "source": [
    "epoch = 100\n",
    "plt.figure(figsize = (10,10))\n",
    "plt.title(\"Loss With Momentum SGD Optimization\")\n",
    "plt.plot(range(epoch),loss_momentum[:])\n",
    "plt.scatter(range(epoch),loss_momentum[:])\n",
    "#plt.plot(range(epoch),loss2)\n",
    "plt.xlabel(\"Epoch\")\n",
    "plt.ylabel(\"Loss\")\n",
    "plt.show()"
   ]
  },
  {
   "cell_type": "markdown",
   "metadata": {},
   "source": [
    "###  Comparision between the Optimizers"
   ]
  },
  {
   "cell_type": "code",
   "execution_count": 26,
   "metadata": {
    "id": "u-m90Sq_Ghce",
    "scrolled": true
   },
   "outputs": [
    {
     "data": {
      "image/png": "[encoded data removed]",
      "text/plain": [
       "<Figure size 720x720 with 1 Axes>"
      ]
     },
     "metadata": {
      "needs_background": "light"
     },
     "output_type": "display_data"
    }
   ],
   "source": [
    "epoch = 100\n",
    "plt.figure(figsize = (10,10))\n",
    "plt.title(\"Comparision loss with different Optimizer\")\n",
    "plt.plot(range(epoch),loss_adam[:])\n",
    "plt.scatter(range(epoch),loss_adam[:])\n",
    "plt.plot(range(epoch),loss_simple[:])\n",
    "plt.scatter(range(epoch),loss_simple[:])\n",
    "plt.plot(range(epoch),loss_momentum[:])\n",
    "plt.scatter(range(epoch),loss_momentum[:])\n",
    "plt.legend(['Adam','SimpleSGD','Momentum'])\n",
    "#plt.plot(range(epoch),loss2)\n",
    "plt.xlabel(\"Epoch\")\n",
    "plt.ylabel(\"Loss\")\n",
    "plt.show()"
   ]
  },
  {
   "cell_type": "markdown",
   "metadata": {},
   "source": [
    "## Observation "
   ]
  },
  {
   "cell_type": "markdown",
   "metadata": {},
   "source": [
    "we Perform the Neural Network With Three Different types of Optimizers to show which optimizers perform well.we use Simple SGD,SGD + momentum and Adam Optimzer. We can Observe the loss Simple SGD started loss at 0.6, Loss is decreasing slowly at each epoch, At the Stage of 35 Epoch, the loss is converged close to zero. In the later stage Epoch, the loss is increasing. Greenline indicated the Adam Optimizer. Momentum Optimizer started at loss 0.2 the loss converged zero at the 4th epoch, At the epoch Increases loss also increases, Adam Optimizer Perform Well Comparing Other Optimizer we can observe loss is converged at 10 epoch. At a later stage Epoch increases loss does not change much, But in the case of SGD and Momentum, Later stages loss is increasing slowly.We can Conclude ADAM is the Best optimizer for this Problem"
   ]
  },
  {
   "cell_type": "markdown",
   "metadata": {
    "id": "V4RWWrZ7lWap"
   },
   "source": [
    "###<font color='blue'>Algorithm with Vanilla update of weights</font>"
   ]
  },
  {
   "cell_type": "markdown",
   "metadata": {},
   "source": [
    "## Different Learning Rate "
   ]
  },
  {
   "cell_type": "code",
   "execution_count": 27,
   "metadata": {
    "id": "72rRC8rJGhf5",
    "scrolled": true
   },
   "outputs": [
    {
     "name": "stderr",
     "output_type": "stream",
     "text": [
      "100%|████████████████████████████████████████████████████████████████████████████████| 100/100 [00:04<00:00, 20.70it/s]\n",
      "100%|████████████████████████████████████████████████████████████████████████████████| 100/100 [00:03<00:00, 25.19it/s]\n",
      "100%|████████████████████████████████████████████████████████████████████████████████| 100/100 [00:04<00:00, 24.86it/s]\n"
     ]
    },
    {
     "data": {
      "image/png": "[encoded data removed]",
      "text/plain": [
       "<Figure size 720x720 with 1 Axes>"
      ]
     },
     "metadata": {
      "needs_background": "light"
     },
     "output_type": "display_data"
    }
   ],
   "source": [
    "nn_adam = NeuralNetworkOptimizer(X,y,100,0.00001)\n",
    "loss_adam,optimal_weight_adam = nn_adam.Adam_update(0.9,0.999)\n",
    "\n",
    "nn = NeuralNetworkOptimizer(X,y,100,0.00001)\n",
    "loss_simple,optimal_weight = nn.vennila_update()\n",
    "\n",
    "nn_momentum = NeuralNetworkOptimizer(X,y,100,0.00001)\n",
    "loss_momentum,optimal_weight_momentum = nn_momentum.momentum_update(0.9)\n",
    "\n",
    "epoch = 100\n",
    "plt.figure(figsize = (10,10))\n",
    "plt.title(\"Comparision loss with different Optimizer\")\n",
    "plt.plot(range(epoch),loss_adam[:])\n",
    "plt.plot(range(epoch),loss_simple[:])\n",
    "plt.plot(range(epoch),loss_momentum[:])\n",
    "plt.legend(['Adam','SimpleSGD','Momentum'])\n",
    "#plt.plot(range(epoch),loss2)\n",
    "plt.xlabel(\"Epoch\")\n",
    "plt.ylabel(\"Loss\")\n",
    "plt.show()"
   ]
  },
  {
   "cell_type": "code",
   "execution_count": 28,
   "metadata": {},
   "outputs": [
    {
     "name": "stderr",
     "output_type": "stream",
     "text": [
      "100%|████████████████████████████████████████████████████████████████████████████████| 100/100 [00:04<00:00, 20.08it/s]\n",
      "100%|████████████████████████████████████████████████████████████████████████████████| 100/100 [00:03<00:00, 28.98it/s]\n",
      "100%|████████████████████████████████████████████████████████████████████████████████| 100/100 [00:04<00:00, 21.56it/s]\n"
     ]
    },
    {
     "data": {
      "image/png": "[encoded data removed]",
      "text/plain": [
       "<Figure size 720x720 with 1 Axes>"
      ]
     },
     "metadata": {
      "needs_background": "light"
     },
     "output_type": "display_data"
    }
   ],
   "source": [
    "nn_adam = NeuralNetworkOptimizer(X,y,100,0.01)\n",
    "loss_adam,optimal_weight_adam = nn_adam.Adam_update(0.9,0.999)\n",
    "\n",
    "nn = NeuralNetworkOptimizer(X,y,100,0.01)\n",
    "loss_simple,optimal_weight = nn.vennila_update()\n",
    "\n",
    "nn_momentum = NeuralNetworkOptimizer(X,y,100,0.01)\n",
    "loss_momentum,optimal_weight_momentum = nn_momentum.momentum_update(0.9)\n",
    "\n",
    "epoch = 100\n",
    "plt.figure(figsize = (10,10))\n",
    "plt.title(\"Comparision loss with different Optimizer\")\n",
    "plt.plot(range(epoch),loss_adam[:])\n",
    "plt.plot(range(epoch),loss_simple[:])\n",
    "plt.plot(range(epoch),loss_momentum[:])\n",
    "plt.legend(['Adam','SimpleSGD','Momentum'])\n",
    "#plt.plot(range(epoch),loss2)\n",
    "plt.xlabel(\"Epoch\")\n",
    "plt.ylabel(\"Loss\")\n",
    "plt.show()"
   ]
  },
  {
   "cell_type": "code",
   "execution_count": 29,
   "metadata": {},
   "outputs": [
    {
     "name": "stderr",
     "output_type": "stream",
     "text": [
      "100%|████████████████████████████████████████████████████████████████████████████████| 100/100 [00:06<00:00, 15.42it/s]\n",
      "100%|████████████████████████████████████████████████████████████████████████████████| 100/100 [00:03<00:00, 26.41it/s]\n",
      "100%|████████████████████████████████████████████████████████████████████████████████| 100/100 [00:04<00:00, 22.40it/s]\n"
     ]
    },
    {
     "data": {
      "image/png": "[encoded data removed]",
      "text/plain": [
       "<Figure size 720x720 with 1 Axes>"
      ]
     },
     "metadata": {
      "needs_background": "light"
     },
     "output_type": "display_data"
    }
   ],
   "source": [
    "nn_adam = NeuralNetworkOptimizer(X,y,100,0.001)\n",
    "loss_adam,optimal_weight_adam = nn_adam.Adam_update(0.9,0.999)\n",
    "nn = NeuralNetworkOptimizer(X,y,100,0.001)\n",
    "loss_simple,optimal_weight = nn.vennila_update()\n",
    "nn_momentum = NeuralNetworkOptimizer(X,y,100,0.001)\n",
    "loss_momentum,optimal_weight_momentum = nn_momentum.momentum_update(0.9)\n",
    "epoch = 100\n",
    "plt.figure(figsize = (10,10))\n",
    "plt.title(\"Comparision loss with different Optimizer\")\n",
    "plt.plot(range(epoch),loss_adam[:])\n",
    "plt.plot(range(epoch),loss_simple[:])\n",
    "plt.plot(range(epoch),loss_momentum[:])\n",
    "plt.legend(['Adam','SimpleSGD','Momentum'])\n",
    "#plt.plot(range(epoch),loss2)\n",
    "plt.xlabel(\"Epoch\")\n",
    "plt.ylabel(\"Loss\")\n",
    "plt.show()"
   ]
  }
 ],
 "metadata": {
  "colab": {
   "collapsed_sections": [],
   "name": "Backpropagation_assignment.ipynb",
   "provenance": []
  },
  "kernelspec": {
   "display_name": "Python 3",
   "language": "python",
   "name": "python3"
  },
  "language_info": {
   "codemirror_mode": {
    "name": "ipython",
    "version": 3
   },
   "file_extension": ".py",
   "mimetype": "text/x-python",
   "name": "python",
   "nbconvert_exporter": "python",
   "pygments_lexer": "ipython3",
   "version": "3.8.8"
  }
 },
 "nbformat": 4,
 "nbformat_minor": 1
}
