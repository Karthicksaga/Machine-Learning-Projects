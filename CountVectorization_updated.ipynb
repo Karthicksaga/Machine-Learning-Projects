{
 "cells": [
  {
   "cell_type": "markdown",
   "metadata": {
    "colab_type": "text",
    "id": "h9464I-uxLiw"
   },
   "source": [
    "# Assignment"
   ]
  },
  {
   "cell_type": "markdown",
   "metadata": {
    "colab_type": "text",
    "id": "IvLvmewlxLix"
   },
   "source": [
    "<font face='georgia'>\n",
    "    \n",
    "   <h4><strong>What does tf-idf mean?</strong></h4>\n",
    "\n",
    "   <p>    \n",
    "Tf-idf stands for <em>term frequency-inverse document frequency</em>, and the tf-idf weight is a weight often used in information retrieval and text mining. This weight is a statistical measure used to evaluate how important a word is to a document in a collection or corpus. The importance increases proportionally to the number of times a word appears in the document but is offset by the frequency of the word in the corpus. Variations of the tf-idf weighting scheme are often used by search engines as a central tool in scoring and ranking a document's relevance given a user query.\n",
    "</p>\n",
    "    \n",
    "   <p>\n",
    "One of the simplest ranking functions is computed by summing the tf-idf for each query term; many more sophisticated ranking functions are variants of this simple model.\n",
    "</p>\n",
    "    \n",
    "   <p>\n",
    "Tf-idf can be successfully used for stop-words filtering in various subject fields including text summarization and classification.\n",
    "</p>\n",
    "    \n",
    "</font>"
   ]
  },
  {
   "cell_type": "markdown",
   "metadata": {
    "colab_type": "text",
    "id": "4XLaGFUMxLiy"
   },
   "source": [
    "<font face='georgia'>\n",
    "    <h4><strong>How to Compute:</strong></h4>\n",
    "\n",
    "Typically, the tf-idf weight is composed by two terms: the first computes the normalized Term Frequency (TF), aka. the number of times a word appears in a document, divided by the total number of words in that document; the second term is the Inverse Document Frequency (IDF), computed as the logarithm of the number of the documents in the corpus divided by the number of documents where the specific term appears.\n",
    "\n",
    " <ul>\n",
    "    <li>\n",
    "<strong>TF:</strong> Term Frequency, which measures how frequently a term occurs in a document. Since every document is different in length, it is possible that a term would appear much more times in long documents than shorter ones. Thus, the term frequency is often divided by the document length (aka. the total number of terms in the document) as a way of normalization: <br>\n",
    "\n",
    "$TF(t) = \\frac{\\text{Number of times term t appears in a document}}{\\text{Total number of terms in the document}}.$\n",
    "</li>\n",
    "<li>\n",
    "<strong>IDF:</strong> Inverse Document Frequency, which measures how important a term is. While computing TF, all terms are considered equally important. However it is known that certain terms, such as \"is\", \"of\", and \"that\", may appear a lot of times but have little importance. Thus we need to weigh down the frequent terms while scale up the rare ones, by computing the following: <br>\n",
    "\n",
    "$IDF(t) = \\log_{e}\\frac{\\text{Total  number of documents}} {\\text{Number of documents with term t in it}}.$\n",
    "for numerical stabiltiy we will be changing this formula little bit\n",
    "$IDF(t) = \\log_{e}\\frac{\\text{Total  number of documents}} {\\text{Number of documents with term t in it}+1}.$\n",
    "</li>\n",
    "</ul>\n",
    "\n",
    "<br>\n",
    "<h4><strong>Example</strong></h4>\n",
    "<p>\n",
    "\n",
    "Consider a document containing 100 words wherein the word cat appears 3 times. The term frequency (i.e., tf) for cat is then (3 / 100) = 0.03. Now, assume we have 10 million documents and the word cat appears in one thousand of these. Then, the inverse document frequency (i.e., idf) is calculated as log(10,000,000 / 1,000) = 4. Thus, the Tf-idf weight is the product of these quantities: 0.03 * 4 = 0.12.\n",
    "</p>\n",
    "</font>"
   ]
  },
  {
   "cell_type": "markdown",
   "metadata": {
    "colab_type": "text",
    "id": "dg2ooa4DxLiz"
   },
   "source": [
    "## Task-1"
   ]
  },
  {
   "cell_type": "markdown",
   "metadata": {
    "colab_type": "text",
    "id": "TAcTjhO8xLiz"
   },
   "source": [
    "<font face='georgia'>\n",
    "    <h4><strong>1. Build a TFIDF Vectorizer & compare its results with Sklearn:</strong></h4>\n",
    "\n",
    "<ul>\n",
    "    <li> As a part of this task you will be implementing TFIDF vectorizer on a collection of text documents.</li>\n",
    "    <br>\n",
    "    <li> You should compare the results of your own implementation of TFIDF vectorizer with that of sklearns implemenation TFIDF vectorizer.</li>\n",
    "    <br>\n",
    "    <li> Sklearn does few more tweaks in the implementation of its version of TFIDF vectorizer, so to replicate the exact results you would need to add following things to your custom implementation of tfidf vectorizer:\n",
    "       <ol>\n",
    "        <li> Sklearn has its vocabulary generated from idf sroted in alphabetical order</li>\n",
    "        <li> Sklearn formula of idf is different from the standard textbook formula. Here the constant <strong>\"1\"</strong> is added to the numerator and denominator of the idf as if an extra document was seen containing every term in the collection exactly once, which prevents zero divisions.\n",
    "            \n",
    " $IDF(t) = 1+\\log_{e}\\frac{1\\text{ }+\\text{ Total  number of documents in collection}} {1+\\text{Number of documents with term t in it}}.$\n",
    "        </li>\n",
    "        <li> Sklearn applies L2-normalization on its output matrix.</li>\n",
    "        <li> The final output of sklearn tfidf vectorizer is a sparse matrix.</li>\n",
    "    </ol>\n",
    "    <br>\n",
    "    <li>Steps to approach this task:\n",
    "    <ol>\n",
    "        <li> You would have to write both fit and transform methods for your custom implementation of tfidf vectorizer.</li>\n",
    "        <li> Print out the alphabetically sorted voacb after you fit your data and check if its the same as that of the feature names from sklearn tfidf vectorizer. </li>\n",
    "        <li> Print out the idf values from your implementation and check if its the same as that of sklearns tfidf vectorizer idf values. </li>\n",
    "        <li> Once you get your voacb and idf values to be same as that of sklearns implementation of tfidf vectorizer, proceed to the below steps. </li>\n",
    "        <li> Make sure the output of your implementation is a sparse matrix. Before generating the final output, you need to normalize your sparse matrix using L2 normalization. You can refer to this link https://scikit-learn.org/stable/modules/generated/sklearn.preprocessing.normalize.html </li>\n",
    "        <li> After completing the above steps, print the output of your custom implementation and compare it with sklearns implementation of tfidf vectorizer.</li>\n",
    "        <li> To check the output of a single document in your collection of documents,  you can convert the sparse matrix related only to that document into dense matrix and print it.</li>\n",
    "        </ol>\n",
    "    </li>\n",
    "    <br>\n",
    "   </ul>\n",
    "\n",
    "  <p> <font color=\"#e60000\"><strong>Note-1: </strong></font> All the necessary outputs of sklearns tfidf vectorizer have been provided as reference in this notebook, you can compare your outputs as mentioned in the above steps, with these outputs.<br>\n",
    "   <font color=\"#e60000\"><strong>Note-2: </strong></font> The output of your custom implementation and that of sklearns implementation would match only with the collection of document strings provided to you as reference in this notebook. It would not match for strings that contain capital letters or punctuations, etc, because sklearn version of tfidf vectorizer deals with such strings in a different way. To know further details about how sklearn tfidf vectorizer works with such string, you can always refer to its official documentation.<br>\n",
    "   <font color=\"#e60000\"><strong>Note-3: </strong></font> During this task, it would be helpful for you to debug the code you write with print statements wherever necessary. But when you are finally submitting the assignment, make sure your code is readable and try not to print things which are not part of this task.\n",
    "    </p>"
   ]
  },
  {
   "cell_type": "markdown",
   "metadata": {
    "colab_type": "text",
    "id": "OnV82tg1xLi0"
   },
   "source": [
    "### Corpus"
   ]
  },
  {
   "cell_type": "code",
   "execution_count": 1,
   "metadata": {
    "colab": {},
    "colab_type": "code",
    "id": "bUsYm9wjxLi1"
   },
   "outputs": [],
   "source": [
    "## SkLearn# Collection of string documents\n",
    "\n",
    "corpus = [\n",
    "     'this is the first document',\n",
    "     'this document is the second document',\n",
    "     'and this is the third one',\n",
    "     'is this the first document',\n",
    "]"
   ]
  },
  {
   "cell_type": "markdown",
   "metadata": {
    "colab_type": "text",
    "id": "eLwmFZfKxLi4"
   },
   "source": [
    "### SkLearn Implementation"
   ]
  },
  {
   "cell_type": "code",
   "execution_count": 2,
   "metadata": {
    "colab": {},
    "colab_type": "code",
    "id": "Np4dfQOkxLi4"
   },
   "outputs": [],
   "source": [
    "from sklearn.feature_extraction.text import TfidfVectorizer,CountVectorizer\n",
    "vectorizer = TfidfVectorizer()\n",
    "vectorizer.fit(corpus)\n",
    "skl_output = vectorizer.transform(corpus)"
   ]
  },
  {
   "cell_type": "code",
   "execution_count": 3,
   "metadata": {
    "colab": {},
    "colab_type": "code",
    "id": "-7Om8YpYxLi6",
    "outputId": "0a3bd0f5-4424-4400-944f-4482a80bd799"
   },
   "outputs": [
    {
     "name": "stdout",
     "output_type": "stream",
     "text": [
      "['and', 'document', 'first', 'is', 'one', 'second', 'the', 'third', 'this']\n"
     ]
    }
   ],
   "source": [
    "# sklearn feature names, they are sorted in alphabetic order by default.\n",
    "\n",
    "print(vectorizer.get_feature_names())"
   ]
  },
  {
   "cell_type": "code",
   "execution_count": 4,
   "metadata": {
    "colab": {},
    "colab_type": "code",
    "id": "dTKplK96xLi-",
    "outputId": "53722fa2-6756-4aa0-f179-37b578bb6890"
   },
   "outputs": [
    {
     "name": "stdout",
     "output_type": "stream",
     "text": [
      "[1.91629073 1.22314355 1.51082562 1.         1.91629073 1.91629073\n",
      " 1.         1.91629073 1.        ]\n"
     ]
    }
   ],
   "source": [
    "# Here we will print the sklearn tfidf vectorizer idf values after applying the fit method\n",
    "# After using the fit function on the corpus the vocab has 9 words in it, and each has its idf value.\n",
    "\n",
    "print(vectorizer.idf_)"
   ]
  },
  {
   "cell_type": "code",
   "execution_count": 5,
   "metadata": {
    "colab": {},
    "colab_type": "code",
    "id": "-CTiWHygxLjA",
    "outputId": "8d5a9cde-2c29-4afe-f7b4-1547e88dba4f"
   },
   "outputs": [
    {
     "data": {
      "text/plain": [
       "(4, 9)"
      ]
     },
     "execution_count": 5,
     "metadata": {},
     "output_type": "execute_result"
    }
   ],
   "source": [
    "# shape of sklearn tfidf vectorizer output after applying transform method.\n",
    "\n",
    "skl_output.shape"
   ]
  },
  {
   "cell_type": "code",
   "execution_count": 6,
   "metadata": {
    "colab": {},
    "colab_type": "code",
    "id": "bDKEpbA-xLjD",
    "outputId": "87dafd65-5313-443f-8c6e-1b05cc8c2543"
   },
   "outputs": [
    {
     "name": "stdout",
     "output_type": "stream",
     "text": [
      "  (0, 8)\t0.38408524091481483\n",
      "  (0, 6)\t0.38408524091481483\n",
      "  (0, 3)\t0.38408524091481483\n",
      "  (0, 2)\t0.5802858236844359\n",
      "  (0, 1)\t0.46979138557992045\n"
     ]
    }
   ],
   "source": [
    "# sklearn tfidf values for first line of the above corpus.\n",
    "# Here the output is a sparse matrix\n",
    "\n",
    "print(skl_output[0])"
   ]
  },
  {
   "cell_type": "code",
   "execution_count": 7,
   "metadata": {
    "colab": {},
    "colab_type": "code",
    "id": "3QWo34hexLjF",
    "outputId": "cdc04e08-989f-4bdc-dd7f-f1c82a9f90be"
   },
   "outputs": [
    {
     "name": "stdout",
     "output_type": "stream",
     "text": [
      "[[0.         0.46979139 0.58028582 0.38408524 0.         0.\n",
      "  0.38408524 0.         0.38408524]]\n"
     ]
    }
   ],
   "source": [
    "# sklearn tfidf values for first line of the above corpus.\n",
    "# To understand the output better, here we are converting the sparse output matrix to dense matrix and printing it.\n",
    "# Notice that this output is normalized using L2 normalization. sklearn does this by default.\n",
    "\n",
    "print(skl_output[0].toarray())"
   ]
  },
  {
   "cell_type": "markdown",
   "metadata": {
    "colab_type": "text",
    "id": "qfIwx5LzxLjI"
   },
   "source": [
    "### Your custom implementation"
   ]
  },
  {
   "cell_type": "code",
   "execution_count": 8,
   "metadata": {
    "colab": {},
    "colab_type": "code",
    "id": "HjuCcJwXxLjJ"
   },
   "outputs": [],
   "source": [
    "# Write your code here.\n",
    "# Make sure its well documented and readble with appropriate comments.\n",
    "# Compare your results with the above sklearn tfidf vectorizer\n",
    "# You are not supposed to use any other library apart from the ones given below\n",
    "\n",
    "from collections import Counter\n",
    "from tqdm import tqdm\n",
    "from scipy.sparse import csr_matrix\n",
    "import math\n",
    "import operator\n",
    "from sklearn.preprocessing import normalize\n",
    "import numpy as np"
   ]
  },
  {
   "cell_type": "code",
   "execution_count": 9,
   "metadata": {},
   "outputs": [],
   "source": [
    "\n",
    "#Computin the Idf Values For Unique Words\n",
    "def IDF(uniqueWordList,corpus):\n",
    "    \n",
    "    IdfDict = {}\n",
    "    \n",
    "    for word in uniqueWordList:\n",
    "        \n",
    "        wordCount  = InvertTermFrequencyCount(word,corpus) \n",
    "        \n",
    "        IdfDict[word] = 1 + math.log((1 + len(corpus)) / (1 + wordCount) )\n",
    "     \n",
    "    return IdfDict\n",
    "\n",
    "\n",
    "# this Function used to compute the No of document contains the word in term\n",
    "def InvertTermFrequencyCount(word,corpus):\n",
    "    \n",
    "    count = 0\n",
    "    \n",
    "    for document in corpus:\n",
    "        \n",
    "        if word in document:\n",
    "            \n",
    "            count +=1\n",
    "        else:\n",
    "            pass\n",
    "        \n",
    "    return count\n",
    "\n",
    "\n",
    "def frequency(document):\n",
    "    \n",
    "    frequency = {}\n",
    "    \n",
    "    documentList = document.split(' ')\n",
    "    \n",
    "    for word in documentList:\n",
    "        \n",
    "        frequency[word] = frequency.get(word, 0) + 1\n",
    "            \n",
    "    return frequency  "
   ]
  },
  {
   "cell_type": "code",
   "execution_count": 10,
   "metadata": {
    "scrolled": false
   },
   "outputs": [
    {
     "name": "stdout",
     "output_type": "stream",
     "text": [
      "Vocabulary : {'and': 0, 'document': 1, 'first': 2, 'is': 3, 'one': 4, 'second': 5, 'the': 6, 'third': 7, 'this': 8}\n",
      "====================================================================================================\n",
      "Unique Features : ['and', 'document', 'first', 'is', 'one', 'second', 'the', 'third', 'this']\n"
     ]
    }
   ],
   "source": [
    "def fit(corpus):\n",
    "    \n",
    "    unique_word = set()\n",
    "    \n",
    "    for document in corpus:\n",
    "        \n",
    "        for  word in document.split(\" \"):\n",
    "            \n",
    "            if len(word) >= 2:\n",
    "                \n",
    "                unique_word.add(word)\n",
    "                \n",
    "    unique_word_list = list(unique_word)\n",
    "    \n",
    "    unique_word_list.sort()\n",
    "    \n",
    "    #compute the IDF SCore for the given Unique Words\n",
    "    idfdict = IDF(unique_word_list,corpus)\n",
    "    \n",
    "    vocabulary = {word: index for index,word in enumerate(unique_word_list)}\n",
    "\n",
    "    return (vocabulary,idfdict)\n",
    "                \n",
    "corpus = [\n",
    "     'this is the first document',\n",
    "     'this document is the second document',\n",
    "     'and this is the third one',\n",
    "     'is this the first document',\n",
    "]\n",
    "vocabulary,idfdict = fit(corpus)\n",
    "\n",
    "print(\"Vocabulary : {0}\".format(vocabulary))\n",
    "\n",
    "print(\"=\"*100)\n",
    "print(\"Unique Features : {0}\".format(list(vocabulary.keys())))"
   ]
  },
  {
   "cell_type": "code",
   "execution_count": 11,
   "metadata": {},
   "outputs": [
    {
     "name": "stdout",
     "output_type": "stream",
     "text": [
      "Inverse Document Frequency of unique Features : [1.91629073 1.22314355 1.51082562 1.         1.91629073 1.91629073\n",
      " 1.         1.91629073 1.        ]\n"
     ]
    }
   ],
   "source": [
    "#IDF for all the unique features\n",
    "print(\"Inverse Document Frequency of unique Features : {0}\".format(np.array(list(idfdict.values()))))"
   ]
  },
  {
   "cell_type": "code",
   "execution_count": 12,
   "metadata": {},
   "outputs": [],
   "source": [
    " def transform(corpus,vocabulary,idfdict):\n",
    "    \n",
    "    rows,columns,values,idfList= [],[],[],[]\n",
    "    \n",
    "    uniqueWordList = list(vocabulary.keys())\n",
    "\n",
    "    for index, document in enumerate(corpus):\n",
    "        \n",
    "        word_frequency = frequency(document)\n",
    "        \n",
    "        for word,count in word_frequency.items():\n",
    "        \n",
    "            if len(word) >= 2:\n",
    "                \n",
    "                column_index = vocabulary.get(word,None)\n",
    "                \n",
    "                if column_index is not None:\n",
    "                    \n",
    "                    rows.append(index)\n",
    "                    \n",
    "                    columns.append(column_index)\n",
    "                \n",
    "                    #compute the term frequenty of the given word\n",
    "                    termfrequency = count / len(document.split(\" \"))\n",
    "                     #compute the  IDF of the given word\n",
    "                    TF_IDF = termfrequency * idfdict[word]\n",
    "                    \n",
    "                    values.append(TF_IDF)\n",
    "                    \n",
    "    return normalize(csr_matrix((values, (rows,columns)), shape=(len(corpus),len(vocabulary))),norm = 'l2',axis=1, copy=True, return_norm=False)\n",
    "                            "
   ]
  },
  {
   "cell_type": "code",
   "execution_count": 13,
   "metadata": {},
   "outputs": [
    {
     "name": "stdout",
     "output_type": "stream",
     "text": [
      "<class 'scipy.sparse.csr.csr_matrix'>\n"
     ]
    }
   ],
   "source": [
    "tfidf_transformData = transform(corpus,vocabulary,idfdict)\n",
    "print(type(tfidf_transformData))"
   ]
  },
  {
   "cell_type": "code",
   "execution_count": 14,
   "metadata": {
    "scrolled": true
   },
   "outputs": [
    {
     "name": "stdout",
     "output_type": "stream",
     "text": [
      "Shape of TFIDF Vectorizer: (4, 9)\n"
     ]
    }
   ],
   "source": [
    "print(\"Shape of TFIDF Vectorizer: {0}\".format(tfidf_transformData.shape))"
   ]
  },
  {
   "cell_type": "code",
   "execution_count": 15,
   "metadata": {},
   "outputs": [
    {
     "name": "stdout",
     "output_type": "stream",
     "text": [
      "  (0, 1)\t0.4697913855799205\n",
      "  (0, 2)\t0.580285823684436\n",
      "  (0, 3)\t0.3840852409148149\n",
      "  (0, 6)\t0.3840852409148149\n",
      "  (0, 8)\t0.3840852409148149\n"
     ]
    }
   ],
   "source": [
    "print(tfidf_transformData[0])"
   ]
  },
  {
   "cell_type": "code",
   "execution_count": 16,
   "metadata": {},
   "outputs": [
    {
     "name": "stdout",
     "output_type": "stream",
     "text": [
      "Sparcity Matrix of the corpus 1:[[0.         0.46979139 0.58028582 0.38408524 0.         0.\n",
      "  0.38408524 0.         0.38408524]]\n"
     ]
    }
   ],
   "source": [
    "print(\"Sparcity Matrix of the corpus 1:{0}\".format(tfidf_transformData[0].toarray()))"
   ]
  },
  {
   "cell_type": "markdown",
   "metadata": {
    "colab_type": "text",
    "id": "MMxBmVZExLjK"
   },
   "source": [
    "## Task-2"
   ]
  },
  {
   "cell_type": "markdown",
   "metadata": {
    "colab_type": "text",
    "id": "51j_OtqAxLjL"
   },
   "source": [
    "<font face='georgia'>\n",
    "    <h4><strong>2. Implement max features functionality:</strong></h4>\n",
    "\n",
    "<ul>\n",
    "    <li> As a part of this task you have to modify your fit and transform functions so that your vocab will contain only 50 terms with top idf scores.</li>\n",
    "    <br>\n",
    "    <li>This task is similar to your previous task, just that here your vocabulary is limited to only top 50 features names based on their idf values. Basically your output will have exactly 50 columns and the number of rows will depend on the number of documents you have in your corpus.</li>\n",
    "    <br>\n",
    "    <li>Here you will be give a pickle file, with file name <strong>cleaned_strings</strong>. You would have to load the corpus from this file and use it as input to your tfidf vectorizer.</li>\n",
    "    <br>\n",
    "    <li>Steps to approach this task:\n",
    "    <ol>\n",
    "        <li> You would have to write both fit and transform methods for your custom implementation of tfidf vectorizer, just like in the previous task. Additionally, here you have to limit the number of features generated to 50 as described above.</li>\n",
    "        <li> Now sort your vocab based in descending order of idf values and print out the words in the sorted voacb after you fit your data. Here you should be getting only 50 terms in your vocab. And make sure to print idf values for each term in your vocab. </li>\n",
    "        <li> Make sure the output of your implementation is a sparse matrix. Before generating the final output, you need to normalize your sparse matrix using L2 normalization. You can refer to this link https://scikit-learn.org/stable/modules/generated/sklearn.preprocessing.normalize.html </li>\n",
    "        <li> Now check the output of a single document in your collection of documents,  you can convert the sparse matrix related only to that document into dense matrix and print it. And this dense matrix should contain 1 row and 50 columns. </li>\n",
    "        </ol>\n",
    "    </li>\n",
    "    <br>\n",
    "   </ul>"
   ]
  },
  {
   "cell_type": "code",
   "execution_count": 17,
   "metadata": {
    "colab": {},
    "colab_type": "code",
    "id": "NHxPLlwNxLjL",
    "outputId": "9abd8e08-0e24-4975-9a13-4d3636d60323",
    "scrolled": true
   },
   "outputs": [
    {
     "name": "stdout",
     "output_type": "stream",
     "text": [
      "Number of documents in corpus =  746\n"
     ]
    }
   ],
   "source": [
    "# Below is the code to load the cleaned_strings pickle file provided\n",
    "# Here corpus is of list type\n",
    "\n",
    "import pickle\n",
    "with open('cleaned_strings', 'rb') as f:\n",
    "    corpus = pickle.load(f)\n",
    "    \n",
    "# printing the length of the corpus loaded\n",
    "print(\"Number of documents in corpus = \",len(corpus))"
   ]
  },
  {
   "cell_type": "code",
   "execution_count": 18,
   "metadata": {},
   "outputs": [],
   "source": [
    "vectorizer = TfidfVectorizer().fit(corpus)"
   ]
  },
  {
   "cell_type": "code",
   "execution_count": 19,
   "metadata": {},
   "outputs": [
    {
     "name": "stdout",
     "output_type": "stream",
     "text": [
      "2886\n"
     ]
    }
   ],
   "source": [
    "print(len(vectorizer.idf_))"
   ]
  },
  {
   "cell_type": "code",
   "execution_count": 20,
   "metadata": {
    "colab": {},
    "colab_type": "code",
    "id": "ZULfoOIdxLjQ"
   },
   "outputs": [],
   "source": [
    "# Write your code here.\n",
    "# Try not to hardcode any values.\n",
    "# Make sure its well documented and readble with appropriate comments.\n"
   ]
  },
  {
   "cell_type": "code",
   "execution_count": 21,
   "metadata": {},
   "outputs": [],
   "source": [
    "def IDF(uniqueWordList,corpus):\n",
    "    \n",
    "    IdfDict = {}\n",
    "    \n",
    "    for word in uniqueWordList:\n",
    "        \n",
    "        wordCount  = InvertTermFrequencyCount(word,corpus) \n",
    "        \n",
    "        IdfDict[word] = 1 + math.log((1 + len(corpus)) / (1 + wordCount) )\n",
    "     \n",
    "    return IdfDict\n",
    "\n",
    "def InvertTermFrequencyCount(word,corpus):\n",
    "    \n",
    "    count = 0\n",
    "    \n",
    "    for document in corpus:\n",
    "        \n",
    "        if word in document:\n",
    "            \n",
    "            count +=1\n",
    "        else:\n",
    "            pass\n",
    "        \n",
    "    return count\n",
    "\n",
    "def frequency(document):\n",
    "    \n",
    "    frequency = {}\n",
    "    \n",
    "    documentList = document.split(' ')\n",
    "    \n",
    "    for word in documentList:\n",
    "        \n",
    "        frequency[word] = frequency.get(word, 0) + 1\n",
    "            \n",
    "    return frequency   \n"
   ]
  },
  {
   "cell_type": "code",
   "execution_count": 22,
   "metadata": {},
   "outputs": [],
   "source": [
    "def fit(corpus):\n",
    "    \n",
    "    unique_word = set()\n",
    "    \n",
    "    for document in corpus:\n",
    "        \n",
    "        for  word in document.split(\" \"):\n",
    "            \n",
    "            if len(word) >= 2:\n",
    "                \n",
    "                unique_word.add(word)\n",
    "                \n",
    "    unique_word_list = list(unique_word)\n",
    "    \n",
    "    idfDict = IDF(unique_word_list,corpus)\n",
    "    #Sort the IDF Score on Descending Order\n",
    "    maximumIdfFeatureVocabulary = {key: value for key, value in sorted(idfDict.items(), key=lambda item: item[1],reverse = True)}\n",
    "    \n",
    "    #Get the Top 50 IDF Score\n",
    "    maximumIdfFeatureVocabulary = dict(list(maximumIdfFeatureVocabulary.items())[0:50])\n",
    "    \n",
    "    maximumIdfFeatureVocabularyKeys = list(maximumIdfFeatureVocabulary.keys())\n",
    "    \n",
    "    maximumIdfFeatureVocabularyKeys.sort()\n",
    "    \n",
    "    #get the Vocabulory Based on Idf Score\n",
    "    vocabulary = {word: index for index,word in enumerate(maximumIdfFeatureVocabularyKeys)}\n",
    "\n",
    "    return (vocabulary,maximumIdfFeatureVocabulary)"
   ]
  },
  {
   "cell_type": "code",
   "execution_count": 23,
   "metadata": {},
   "outputs": [
    {
     "name": "stdout",
     "output_type": "stream",
     "text": [
      "Vocabulory : {'adrift': 0, 'backdrop': 1, 'beware': 2, 'blown': 3, 'borderlines': 4, 'cameo': 5, 'cheekbones': 6, 'chosen': 7, 'cutting': 8, 'designer': 9, 'events': 10, 'famed': 11, 'fantasy': 12, 'flowed': 13, 'four': 14, 'gaudi': 15, 'goth': 16, 'granted': 17, 'hopeless': 18, 'horrendously': 19, 'hummh': 20, 'interim': 21, 'ironically': 22, 'later': 23, 'leaving': 24, 'lucio': 25, 'messages': 26, 'mexican': 27, 'network': 28, 'obliged': 29, 'passion': 30, 'perfected': 31, 'phantasm': 32, 'plants': 33, 'professor': 34, 'reconciliation': 35, 'relying': 36, 'rickman': 37, 'schultz': 38, 'situations': 39, 'stuff': 40, 'subjects': 41, 'succeeds': 42, 'surprises': 43, 'tensions': 44, 'therapy': 45, 'trooper': 46, 'underwater': 47, 'unneeded': 48, 'wants': 49}\n",
      "========================================================================================================================\n",
      "Top IDFScores : {'events': 6.922918004572872, 'therapy': 6.922918004572872, 'horrendously': 6.922918004572872, 'hopeless': 6.922918004572872, 'beware': 6.922918004572872, 'underwater': 6.922918004572872, 'wants': 6.922918004572872, 'blown': 6.922918004572872, 'ironically': 6.922918004572872, 'later': 6.922918004572872, 'interim': 6.922918004572872, 'succeeds': 6.922918004572872, 'borderlines': 6.922918004572872, 'passion': 6.922918004572872, 'lucio': 6.922918004572872, 'tensions': 6.922918004572872, 'mexican': 6.922918004572872, 'perfected': 6.922918004572872, 'adrift': 6.922918004572872, 'rickman': 6.922918004572872, 'cheekbones': 6.922918004572872, 'obliged': 6.922918004572872, 'schultz': 6.922918004572872, 'designer': 6.922918004572872, 'leaving': 6.922918004572872, 'situations': 6.922918004572872, 'trooper': 6.922918004572872, 'network': 6.922918004572872, 'four': 6.922918004572872, 'subjects': 6.922918004572872, 'chosen': 6.922918004572872, 'granted': 6.922918004572872, 'surprises': 6.922918004572872, 'unneeded': 6.922918004572872, 'fantasy': 6.922918004572872, 'gaudi': 6.922918004572872, 'reconciliation': 6.922918004572872, 'professor': 6.922918004572872, 'famed': 6.922918004572872, 'flowed': 6.922918004572872, 'stuff': 6.922918004572872, 'relying': 6.922918004572872, 'backdrop': 6.922918004572872, 'phantasm': 6.922918004572872, 'plants': 6.922918004572872, 'messages': 6.922918004572872, 'cameo': 6.922918004572872, 'goth': 6.922918004572872, 'cutting': 6.922918004572872, 'hummh': 6.922918004572872}\n"
     ]
    }
   ],
   "source": [
    "vocabulory,maximumIdfFeatureVocabulary = fit(corpus)\n",
    "print(\"Vocabulory : {0}\".format(vocabulory))\n",
    "print(\"==\"*60)\n",
    "\n",
    "print(\"Top IDFScores : {0}\".format(maximumIdfFeatureVocabulary))\n"
   ]
  },
  {
   "cell_type": "code",
   "execution_count": 24,
   "metadata": {},
   "outputs": [],
   "source": [
    "\n",
    "def transform(corpus,vocabulary,maximumIdfFeatureVocabulary):\n",
    "    \n",
    "    rows,columns,values,idfList= [],[],[],[]\n",
    "\n",
    "    for index, document in enumerate(corpus):\n",
    "        \n",
    "        word_frequency = frequency(document)\n",
    "        \n",
    "        for word,count in word_frequency.items():\n",
    "        \n",
    "            if len(word) >= 2:\n",
    "                \n",
    "                column_index = vocabulary.get(word,None)\n",
    "                \n",
    "                if (column_index is not None) :\n",
    "                    \n",
    "                    rows.append(index)\n",
    "                    \n",
    "                    columns.append(column_index)\n",
    "                \n",
    "                    termfrequency = count / len(document.split(\" \"))\n",
    "                    \n",
    "                    TF_IDF = termfrequency * maximumIdfFeatureVocabulary[word]\n",
    "                \n",
    "                    values.append(TF_IDF)\n",
    "                  \n",
    "    return normalize(csr_matrix((values, (rows,columns)), shape=(len(corpus),len(vocabulary))),norm = 'l2',axis=1, copy=True, return_norm=False)\n",
    "                        \n",
    "                \n",
    "                "
   ]
  },
  {
   "cell_type": "code",
   "execution_count": 25,
   "metadata": {},
   "outputs": [],
   "source": [
    "sparse_matrix = transform(corpus,vocabulory,maximumIdfFeatureVocabulary)"
   ]
  },
  {
   "cell_type": "code",
   "execution_count": 29,
   "metadata": {
    "scrolled": true
   },
   "outputs": [
    {
     "name": "stdout",
     "output_type": "stream",
     "text": [
      "Shape of the matrix : (746, 50)\n"
     ]
    }
   ],
   "source": [
    "#print the shape of the matrix\n",
    "print(\"Shape of the matrix : {0}\".format(sparse_matrix.shape))"
   ]
  },
  {
   "cell_type": "code",
   "execution_count": 27,
   "metadata": {},
   "outputs": [
    {
     "name": "stdout",
     "output_type": "stream",
     "text": [
      "  (7, 26)\t1.0\n",
      "  (19, 42)\t1.0\n",
      "  (68, 24)\t1.0\n",
      "  (74, 28)\t1.0\n",
      "  (84, 47)\t1.0\n",
      "  (135, 0)\t0.3535533905932738\n",
      "  (135, 12)\t0.3535533905932738\n",
      "  (135, 22)\t0.3535533905932738\n",
      "  (135, 27)\t0.7071067811865476\n",
      "  (135, 31)\t0.3535533905932738\n",
      "  (148, 46)\t1.0\n",
      "  (150, 33)\t1.0\n",
      "  (160, 14)\t1.0\n",
      "  (162, 48)\t1.0\n",
      "  (166, 8)\t1.0\n",
      "  (167, 30)\t1.0\n",
      "  (176, 5)\t1.0\n",
      "  (185, 9)\t1.0\n",
      "  (220, 20)\t1.0\n",
      "  (224, 7)\t1.0\n",
      "  (236, 6)\t1.0\n",
      "  (274, 18)\t1.0\n",
      "  (277, 16)\t1.0\n",
      "  (300, 23)\t1.0\n",
      "  (305, 11)\t0.7071067811865475\n",
      "  (305, 15)\t0.7071067811865475\n",
      "  (343, 17)\t1.0\n",
      "  (358, 34)\t1.0\n",
      "  (378, 21)\t1.0\n",
      "  (390, 2)\t1.0\n",
      "  (421, 4)\t1.0\n",
      "  (422, 44)\t1.0\n",
      "  (450, 35)\t1.0\n",
      "  (453, 45)\t1.0\n",
      "  (557, 25)\t1.0\n",
      "  (562, 40)\t1.0\n",
      "  (569, 3)\t1.0\n",
      "  (572, 10)\t1.0\n",
      "  (574, 39)\t1.0\n",
      "  (608, 41)\t1.0\n",
      "  (611, 43)\t1.0\n",
      "  (616, 1)\t1.0\n",
      "  (624, 32)\t1.0\n",
      "  (639, 29)\t1.0\n",
      "  (644, 19)\t1.0\n",
      "  (696, 37)\t1.0\n",
      "  (706, 38)\t1.0\n",
      "  (715, 36)\t1.0\n",
      "  (719, 49)\t1.0\n",
      "  (735, 13)\t1.0\n"
     ]
    }
   ],
   "source": [
    "print(sparse_matrix)"
   ]
  },
  {
   "cell_type": "code",
   "execution_count": 28,
   "metadata": {},
   "outputs": [
    {
     "name": "stdout",
     "output_type": "stream",
     "text": [
      "[[0. 0. 0. 0. 0. 0. 0. 0. 0. 0. 0. 0. 0. 0. 0. 0. 0. 0. 0. 0. 0. 0. 0. 0.\n",
      "  0. 0. 0. 0. 0. 0. 0. 0. 0. 0. 0. 0. 0. 0. 0. 0. 0. 0. 0. 0. 0. 0. 0. 0.\n",
      "  0. 0.]]\n"
     ]
    }
   ],
   "source": [
    "print(sparse_matrix[0].toarray())"
   ]
  }
 ],
 "metadata": {
  "colab": {
   "collapsed_sections": [],
   "name": "Assignment_3_Instructions.ipynb",
   "provenance": []
  },
  "kernelspec": {
   "display_name": "Python 3",
   "language": "python",
   "name": "python3"
  },
  "language_info": {
   "codemirror_mode": {
    "name": "ipython",
    "version": 3
   },
   "file_extension": ".py",
   "mimetype": "text/x-python",
   "name": "python",
   "nbconvert_exporter": "python",
   "pygments_lexer": "ipython3",
   "version": "3.8.8"
  }
 },
 "nbformat": 4,
 "nbformat_minor": 1
}
